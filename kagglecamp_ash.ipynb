{
 "cells": [
  {
   "cell_type": "markdown",
   "id": "b48dac8c",
   "metadata": {
    "id": "b48dac8c"
   },
   "source": [
    "#### Forest Cover Type Prediction : 콜로라도 주에 있는 산림의 지형적 특징, 흙의 종류, 지표수까지의 위치 등의 정보를 통해 <br> 산림의 종류를 예측하는 대회"
   ]
  },
  {
   "cell_type": "markdown",
   "id": "e05a0909",
   "metadata": {
    "id": "e05a0909"
   },
   "source": [
    " #### Column Info\n",
    "    Elevation - 높이 (m)\n",
    "    Aspect - 방향 (표면이 향하는 방향)\n",
    "    Slope - 경사도\n",
    "    Horizontal_Distance_To_Hydrology - 지표수까지의 가장 가까운 수평거리\n",
    "    Vertical_Distance_To_Hydrology - 지표수까지의 가장 가까운 수직거리\n",
    "    Horizontal_Distance_To_Roadways - 차도까지의 가장 가까운 수평거리\n",
    "    Horizontal_Distance_To_Fire_Points - 불이 났던 지점으로부터 가장 가까운 수평거리\n",
    "    Hillshade_9am - 하지점(Summer solstice) 기준으로 9am의 태양의 위치에 따른 음영\n",
    "    Hillshade_Noon - 하지점(Summer solstice) 기준으로 12am의 태양의 위치에 따른 음영\n",
    "    Hillshade_3pm - 하지점(Summer solstice) 기준으로 3pm의 태양의 위치에 따른 음영\n",
    "    Wilderness_Area - 야생 지역 위치 (0~3)\n",
    "    Soil_Type - 토양 타입 (0~39)\n",
    "    Cover_Type - 산림 타입 (Target) -> 1)Spurce/Fir 2)Lodgepole Pine 3)Ponderosa Pine 4)Krummholz"
   ]
  },
  {
   "cell_type": "code",
   "execution_count": 1,
   "id": "_7m0wKxNUAYZ",
   "metadata": {
    "colab": {
     "base_uri": "https://localhost:8080/"
    },
    "executionInfo": {
     "elapsed": 23221,
     "status": "ok",
     "timestamp": 1642513658557,
     "user": {
      "displayName": "SH A",
      "photoUrl": "https://lh3.googleusercontent.com/a-/AOh14GgPCbr7K55ZbkRKq14ngn3bnPQmR7G4I4f_eGn9=s64",
      "userId": "14272989099738007586"
     },
     "user_tz": -540
    },
    "id": "_7m0wKxNUAYZ",
    "outputId": "3f2bd4e4-432d-4c90-bf40-13f29823be9a"
   },
   "outputs": [
    {
     "name": "stdout",
     "output_type": "stream",
     "text": [
      "Mounted at /content/drive\n"
     ]
    }
   ],
   "source": [
    "from google.colab import drive\n",
    "drive.mount('/content/drive')"
   ]
  },
  {
   "cell_type": "markdown",
   "id": "edc6c993",
   "metadata": {
    "id": "edc6c993"
   },
   "source": [
    "##### Let's just follow the baseline"
   ]
  },
  {
   "cell_type": "code",
   "execution_count": 73,
   "id": "d3d1e078",
   "metadata": {
    "executionInfo": {
     "elapsed": 785,
     "status": "ok",
     "timestamp": 1642513714821,
     "user": {
      "displayName": "SH A",
      "photoUrl": "https://lh3.googleusercontent.com/a-/AOh14GgPCbr7K55ZbkRKq14ngn3bnPQmR7G4I4f_eGn9=s64",
      "userId": "14272989099738007586"
     },
     "user_tz": -540
    },
    "id": "d3d1e078",
    "scrolled": true
   },
   "outputs": [],
   "source": [
    "from os.path import join\n",
    "\n",
    "import numpy as np\n",
    "import pandas as pd\n",
    "import seaborn as sns\n",
    "import matplotlib.pyplot as plt\n",
    "plt.style.use('ggplot')"
   ]
  },
  {
   "cell_type": "code",
   "execution_count": 2,
   "id": "c5ecd3b2",
   "metadata": {
    "collapsed": true,
    "executionInfo": {
     "elapsed": 6999,
     "status": "ok",
     "timestamp": 1642513723840,
     "user": {
      "displayName": "SH A",
      "photoUrl": "https://lh3.googleusercontent.com/a-/AOh14GgPCbr7K55ZbkRKq14ngn3bnPQmR7G4I4f_eGn9=s64",
      "userId": "14272989099738007586"
     },
     "user_tz": -540
    },
    "id": "c5ecd3b2"
   },
   "outputs": [
    {
     "ename": "FileNotFoundError",
     "evalue": "[Errno 2] No such file or directory: '/content/drive/MyDrive/python_with_two/SH/Kaggle\\\\kagglecamp2022\\\\train.csv'",
     "output_type": "error",
     "traceback": [
      "\u001b[1;31m---------------------------------------------------------------------------\u001b[0m",
      "\u001b[1;31mFileNotFoundError\u001b[0m                         Traceback (most recent call last)",
      "\u001b[1;32m<ipython-input-2-25af704703a6>\u001b[0m in \u001b[0;36m<module>\u001b[1;34m\u001b[0m\n\u001b[0;32m      4\u001b[0m \u001b[0mtest_path\u001b[0m \u001b[1;33m=\u001b[0m \u001b[0mjoin\u001b[0m\u001b[1;33m(\u001b[0m\u001b[0mBASE_DIR\u001b[0m\u001b[1;33m,\u001b[0m \u001b[1;34m'kagglecamp2022'\u001b[0m\u001b[1;33m,\u001b[0m\u001b[1;34m'test.csv'\u001b[0m\u001b[1;33m)\u001b[0m\u001b[1;33m\u001b[0m\u001b[1;33m\u001b[0m\u001b[0m\n\u001b[0;32m      5\u001b[0m \u001b[1;33m\u001b[0m\u001b[0m\n\u001b[1;32m----> 6\u001b[1;33m \u001b[0mdata\u001b[0m \u001b[1;33m=\u001b[0m \u001b[0mpd\u001b[0m\u001b[1;33m.\u001b[0m\u001b[0mread_csv\u001b[0m\u001b[1;33m(\u001b[0m\u001b[0mtrain_path\u001b[0m\u001b[1;33m)\u001b[0m\u001b[1;33m\u001b[0m\u001b[1;33m\u001b[0m\u001b[0m\n\u001b[0m\u001b[0;32m      7\u001b[0m \u001b[0mx_test\u001b[0m \u001b[1;33m=\u001b[0m \u001b[0mpd\u001b[0m\u001b[1;33m.\u001b[0m\u001b[0mread_csv\u001b[0m\u001b[1;33m(\u001b[0m\u001b[0mtest_path\u001b[0m\u001b[1;33m)\u001b[0m\u001b[1;33m\u001b[0m\u001b[1;33m\u001b[0m\u001b[0m\n\u001b[0;32m      8\u001b[0m \u001b[0mlabel\u001b[0m \u001b[1;33m=\u001b[0m \u001b[0mdata\u001b[0m\u001b[1;33m[\u001b[0m\u001b[1;34m'Cover_Type'\u001b[0m\u001b[1;33m]\u001b[0m\u001b[1;33m\u001b[0m\u001b[1;33m\u001b[0m\u001b[0m\n",
      "\u001b[1;32m~\\anaconda3\\lib\\site-packages\\pandas\\io\\parsers.py\u001b[0m in \u001b[0;36mread_csv\u001b[1;34m(filepath_or_buffer, sep, delimiter, header, names, index_col, usecols, squeeze, prefix, mangle_dupe_cols, dtype, engine, converters, true_values, false_values, skipinitialspace, skiprows, skipfooter, nrows, na_values, keep_default_na, na_filter, verbose, skip_blank_lines, parse_dates, infer_datetime_format, keep_date_col, date_parser, dayfirst, cache_dates, iterator, chunksize, compression, thousands, decimal, lineterminator, quotechar, quoting, doublequote, escapechar, comment, encoding, dialect, error_bad_lines, warn_bad_lines, delim_whitespace, low_memory, memory_map, float_precision, storage_options)\u001b[0m\n\u001b[0;32m    608\u001b[0m     \u001b[0mkwds\u001b[0m\u001b[1;33m.\u001b[0m\u001b[0mupdate\u001b[0m\u001b[1;33m(\u001b[0m\u001b[0mkwds_defaults\u001b[0m\u001b[1;33m)\u001b[0m\u001b[1;33m\u001b[0m\u001b[1;33m\u001b[0m\u001b[0m\n\u001b[0;32m    609\u001b[0m \u001b[1;33m\u001b[0m\u001b[0m\n\u001b[1;32m--> 610\u001b[1;33m     \u001b[1;32mreturn\u001b[0m \u001b[0m_read\u001b[0m\u001b[1;33m(\u001b[0m\u001b[0mfilepath_or_buffer\u001b[0m\u001b[1;33m,\u001b[0m \u001b[0mkwds\u001b[0m\u001b[1;33m)\u001b[0m\u001b[1;33m\u001b[0m\u001b[1;33m\u001b[0m\u001b[0m\n\u001b[0m\u001b[0;32m    611\u001b[0m \u001b[1;33m\u001b[0m\u001b[0m\n\u001b[0;32m    612\u001b[0m \u001b[1;33m\u001b[0m\u001b[0m\n",
      "\u001b[1;32m~\\anaconda3\\lib\\site-packages\\pandas\\io\\parsers.py\u001b[0m in \u001b[0;36m_read\u001b[1;34m(filepath_or_buffer, kwds)\u001b[0m\n\u001b[0;32m    460\u001b[0m \u001b[1;33m\u001b[0m\u001b[0m\n\u001b[0;32m    461\u001b[0m     \u001b[1;31m# Create the parser.\u001b[0m\u001b[1;33m\u001b[0m\u001b[1;33m\u001b[0m\u001b[1;33m\u001b[0m\u001b[0m\n\u001b[1;32m--> 462\u001b[1;33m     \u001b[0mparser\u001b[0m \u001b[1;33m=\u001b[0m \u001b[0mTextFileReader\u001b[0m\u001b[1;33m(\u001b[0m\u001b[0mfilepath_or_buffer\u001b[0m\u001b[1;33m,\u001b[0m \u001b[1;33m**\u001b[0m\u001b[0mkwds\u001b[0m\u001b[1;33m)\u001b[0m\u001b[1;33m\u001b[0m\u001b[1;33m\u001b[0m\u001b[0m\n\u001b[0m\u001b[0;32m    463\u001b[0m \u001b[1;33m\u001b[0m\u001b[0m\n\u001b[0;32m    464\u001b[0m     \u001b[1;32mif\u001b[0m \u001b[0mchunksize\u001b[0m \u001b[1;32mor\u001b[0m \u001b[0miterator\u001b[0m\u001b[1;33m:\u001b[0m\u001b[1;33m\u001b[0m\u001b[1;33m\u001b[0m\u001b[0m\n",
      "\u001b[1;32m~\\anaconda3\\lib\\site-packages\\pandas\\io\\parsers.py\u001b[0m in \u001b[0;36m__init__\u001b[1;34m(self, f, engine, **kwds)\u001b[0m\n\u001b[0;32m    817\u001b[0m             \u001b[0mself\u001b[0m\u001b[1;33m.\u001b[0m\u001b[0moptions\u001b[0m\u001b[1;33m[\u001b[0m\u001b[1;34m\"has_index_names\"\u001b[0m\u001b[1;33m]\u001b[0m \u001b[1;33m=\u001b[0m \u001b[0mkwds\u001b[0m\u001b[1;33m[\u001b[0m\u001b[1;34m\"has_index_names\"\u001b[0m\u001b[1;33m]\u001b[0m\u001b[1;33m\u001b[0m\u001b[1;33m\u001b[0m\u001b[0m\n\u001b[0;32m    818\u001b[0m \u001b[1;33m\u001b[0m\u001b[0m\n\u001b[1;32m--> 819\u001b[1;33m         \u001b[0mself\u001b[0m\u001b[1;33m.\u001b[0m\u001b[0m_engine\u001b[0m \u001b[1;33m=\u001b[0m \u001b[0mself\u001b[0m\u001b[1;33m.\u001b[0m\u001b[0m_make_engine\u001b[0m\u001b[1;33m(\u001b[0m\u001b[0mself\u001b[0m\u001b[1;33m.\u001b[0m\u001b[0mengine\u001b[0m\u001b[1;33m)\u001b[0m\u001b[1;33m\u001b[0m\u001b[1;33m\u001b[0m\u001b[0m\n\u001b[0m\u001b[0;32m    820\u001b[0m \u001b[1;33m\u001b[0m\u001b[0m\n\u001b[0;32m    821\u001b[0m     \u001b[1;32mdef\u001b[0m \u001b[0mclose\u001b[0m\u001b[1;33m(\u001b[0m\u001b[0mself\u001b[0m\u001b[1;33m)\u001b[0m\u001b[1;33m:\u001b[0m\u001b[1;33m\u001b[0m\u001b[1;33m\u001b[0m\u001b[0m\n",
      "\u001b[1;32m~\\anaconda3\\lib\\site-packages\\pandas\\io\\parsers.py\u001b[0m in \u001b[0;36m_make_engine\u001b[1;34m(self, engine)\u001b[0m\n\u001b[0;32m   1048\u001b[0m             )\n\u001b[0;32m   1049\u001b[0m         \u001b[1;31m# error: Too many arguments for \"ParserBase\"\u001b[0m\u001b[1;33m\u001b[0m\u001b[1;33m\u001b[0m\u001b[1;33m\u001b[0m\u001b[0m\n\u001b[1;32m-> 1050\u001b[1;33m         \u001b[1;32mreturn\u001b[0m \u001b[0mmapping\u001b[0m\u001b[1;33m[\u001b[0m\u001b[0mengine\u001b[0m\u001b[1;33m]\u001b[0m\u001b[1;33m(\u001b[0m\u001b[0mself\u001b[0m\u001b[1;33m.\u001b[0m\u001b[0mf\u001b[0m\u001b[1;33m,\u001b[0m \u001b[1;33m**\u001b[0m\u001b[0mself\u001b[0m\u001b[1;33m.\u001b[0m\u001b[0moptions\u001b[0m\u001b[1;33m)\u001b[0m  \u001b[1;31m# type: ignore[call-arg]\u001b[0m\u001b[1;33m\u001b[0m\u001b[1;33m\u001b[0m\u001b[0m\n\u001b[0m\u001b[0;32m   1051\u001b[0m \u001b[1;33m\u001b[0m\u001b[0m\n\u001b[0;32m   1052\u001b[0m     \u001b[1;32mdef\u001b[0m \u001b[0m_failover_to_python\u001b[0m\u001b[1;33m(\u001b[0m\u001b[0mself\u001b[0m\u001b[1;33m)\u001b[0m\u001b[1;33m:\u001b[0m\u001b[1;33m\u001b[0m\u001b[1;33m\u001b[0m\u001b[0m\n",
      "\u001b[1;32m~\\anaconda3\\lib\\site-packages\\pandas\\io\\parsers.py\u001b[0m in \u001b[0;36m__init__\u001b[1;34m(self, src, **kwds)\u001b[0m\n\u001b[0;32m   1865\u001b[0m \u001b[1;33m\u001b[0m\u001b[0m\n\u001b[0;32m   1866\u001b[0m         \u001b[1;31m# open handles\u001b[0m\u001b[1;33m\u001b[0m\u001b[1;33m\u001b[0m\u001b[1;33m\u001b[0m\u001b[0m\n\u001b[1;32m-> 1867\u001b[1;33m         \u001b[0mself\u001b[0m\u001b[1;33m.\u001b[0m\u001b[0m_open_handles\u001b[0m\u001b[1;33m(\u001b[0m\u001b[0msrc\u001b[0m\u001b[1;33m,\u001b[0m \u001b[0mkwds\u001b[0m\u001b[1;33m)\u001b[0m\u001b[1;33m\u001b[0m\u001b[1;33m\u001b[0m\u001b[0m\n\u001b[0m\u001b[0;32m   1868\u001b[0m         \u001b[1;32massert\u001b[0m \u001b[0mself\u001b[0m\u001b[1;33m.\u001b[0m\u001b[0mhandles\u001b[0m \u001b[1;32mis\u001b[0m \u001b[1;32mnot\u001b[0m \u001b[1;32mNone\u001b[0m\u001b[1;33m\u001b[0m\u001b[1;33m\u001b[0m\u001b[0m\n\u001b[0;32m   1869\u001b[0m         \u001b[1;32mfor\u001b[0m \u001b[0mkey\u001b[0m \u001b[1;32min\u001b[0m \u001b[1;33m(\u001b[0m\u001b[1;34m\"storage_options\"\u001b[0m\u001b[1;33m,\u001b[0m \u001b[1;34m\"encoding\"\u001b[0m\u001b[1;33m,\u001b[0m \u001b[1;34m\"memory_map\"\u001b[0m\u001b[1;33m,\u001b[0m \u001b[1;34m\"compression\"\u001b[0m\u001b[1;33m)\u001b[0m\u001b[1;33m:\u001b[0m\u001b[1;33m\u001b[0m\u001b[1;33m\u001b[0m\u001b[0m\n",
      "\u001b[1;32m~\\anaconda3\\lib\\site-packages\\pandas\\io\\parsers.py\u001b[0m in \u001b[0;36m_open_handles\u001b[1;34m(self, src, kwds)\u001b[0m\n\u001b[0;32m   1360\u001b[0m         \u001b[0mLet\u001b[0m \u001b[0mthe\u001b[0m \u001b[0mreaders\u001b[0m \u001b[0mopen\u001b[0m \u001b[0mIOHanldes\u001b[0m \u001b[0mafter\u001b[0m \u001b[0mthey\u001b[0m \u001b[0mare\u001b[0m \u001b[0mdone\u001b[0m \u001b[1;32mwith\u001b[0m \u001b[0mtheir\u001b[0m \u001b[0mpotential\u001b[0m \u001b[0mraises\u001b[0m\u001b[1;33m.\u001b[0m\u001b[1;33m\u001b[0m\u001b[1;33m\u001b[0m\u001b[0m\n\u001b[0;32m   1361\u001b[0m         \"\"\"\n\u001b[1;32m-> 1362\u001b[1;33m         self.handles = get_handle(\n\u001b[0m\u001b[0;32m   1363\u001b[0m             \u001b[0msrc\u001b[0m\u001b[1;33m,\u001b[0m\u001b[1;33m\u001b[0m\u001b[1;33m\u001b[0m\u001b[0m\n\u001b[0;32m   1364\u001b[0m             \u001b[1;34m\"r\"\u001b[0m\u001b[1;33m,\u001b[0m\u001b[1;33m\u001b[0m\u001b[1;33m\u001b[0m\u001b[0m\n",
      "\u001b[1;32m~\\anaconda3\\lib\\site-packages\\pandas\\io\\common.py\u001b[0m in \u001b[0;36mget_handle\u001b[1;34m(path_or_buf, mode, encoding, compression, memory_map, is_text, errors, storage_options)\u001b[0m\n\u001b[0;32m    640\u001b[0m                 \u001b[0merrors\u001b[0m \u001b[1;33m=\u001b[0m \u001b[1;34m\"replace\"\u001b[0m\u001b[1;33m\u001b[0m\u001b[1;33m\u001b[0m\u001b[0m\n\u001b[0;32m    641\u001b[0m             \u001b[1;31m# Encoding\u001b[0m\u001b[1;33m\u001b[0m\u001b[1;33m\u001b[0m\u001b[1;33m\u001b[0m\u001b[0m\n\u001b[1;32m--> 642\u001b[1;33m             handle = open(\n\u001b[0m\u001b[0;32m    643\u001b[0m                 \u001b[0mhandle\u001b[0m\u001b[1;33m,\u001b[0m\u001b[1;33m\u001b[0m\u001b[1;33m\u001b[0m\u001b[0m\n\u001b[0;32m    644\u001b[0m                 \u001b[0mioargs\u001b[0m\u001b[1;33m.\u001b[0m\u001b[0mmode\u001b[0m\u001b[1;33m,\u001b[0m\u001b[1;33m\u001b[0m\u001b[1;33m\u001b[0m\u001b[0m\n",
      "\u001b[1;31mFileNotFoundError\u001b[0m: [Errno 2] No such file or directory: '/content/drive/MyDrive/python_with_two/SH/Kaggle\\\\kagglecamp2022\\\\train.csv'"
     ]
    }
   ],
   "source": [
    "BASE_DIR = '/content/drive/MyDrive/python_with_two/SH/Kaggle'\n",
    "\n",
    "train_path = join(BASE_DIR, 'kagglecamp2022', 'train.csv')\n",
    "test_path = join(BASE_DIR, 'kagglecamp2022','test.csv')\n",
    "\n",
    "data = pd.read_csv(train_path)\n",
    "x_test = pd.read_csv(test_path)\n",
    "label = data['Cover_Type']"
   ]
  },
  {
   "cell_type": "code",
   "execution_count": 74,
   "id": "2d9502f0",
   "metadata": {},
   "outputs": [],
   "source": [
    "BASE_DIR = 'C:/tensorTest'\n",
    "\n",
    "train_path = join(BASE_DIR, 'kagglecamp2022', 'train.csv')\n",
    "test_path = join(BASE_DIR, 'kagglecamp2022','test.csv')\n",
    "\n",
    "data = pd.read_csv(train_path)\n",
    "x_test = pd.read_csv(test_path)\n",
    "label = data['Cover_Type']"
   ]
  },
  {
   "cell_type": "markdown",
   "id": "jAKsLZJMaVli",
   "metadata": {
    "id": "jAKsLZJMaVli"
   },
   "source": [
    "#### Exploring data"
   ]
  },
  {
   "cell_type": "code",
   "execution_count": null,
   "id": "9c2d7645",
   "metadata": {
    "colab": {
     "base_uri": "https://localhost:8080/",
     "height": 270
    },
    "executionInfo": {
     "elapsed": 413,
     "status": "ok",
     "timestamp": 1642384970184,
     "user": {
      "displayName": "SH A",
      "photoUrl": "https://lh3.googleusercontent.com/a-/AOh14GgPCbr7K55ZbkRKq14ngn3bnPQmR7G4I4f_eGn9=s64",
      "userId": "14272989099738007586"
     },
     "user_tz": -540
    },
    "id": "9c2d7645",
    "outputId": "44a5be33-c522-4a3c-ec83-682a9453a7ea"
   },
   "outputs": [
    {
     "data": {
      "text/html": [
       "\n",
       "  <div id=\"df-799d04f4-b42a-4ef9-aa88-206a0dc24b71\">\n",
       "    <div class=\"colab-df-container\">\n",
       "      <div>\n",
       "<style scoped>\n",
       "    .dataframe tbody tr th:only-of-type {\n",
       "        vertical-align: middle;\n",
       "    }\n",
       "\n",
       "    .dataframe tbody tr th {\n",
       "        vertical-align: top;\n",
       "    }\n",
       "\n",
       "    .dataframe thead th {\n",
       "        text-align: right;\n",
       "    }\n",
       "</style>\n",
       "<table border=\"1\" class=\"dataframe\">\n",
       "  <thead>\n",
       "    <tr style=\"text-align: right;\">\n",
       "      <th></th>\n",
       "      <th>id</th>\n",
       "      <th>Elevation</th>\n",
       "      <th>Aspect</th>\n",
       "      <th>Slope</th>\n",
       "      <th>Horizontal_Distance_To_Hydrology</th>\n",
       "      <th>Vertical_Distance_To_Hydrology</th>\n",
       "      <th>Horizontal_Distance_To_Roadways</th>\n",
       "      <th>Hillshade_9am</th>\n",
       "      <th>Hillshade_Noon</th>\n",
       "      <th>Hillshade_3pm</th>\n",
       "      <th>Horizontal_Distance_To_Fire_Points</th>\n",
       "      <th>Soil_Type</th>\n",
       "      <th>Wilderness_Area</th>\n",
       "      <th>Cover_Type</th>\n",
       "    </tr>\n",
       "  </thead>\n",
       "  <tbody>\n",
       "    <tr>\n",
       "      <th>0</th>\n",
       "      <td>0</td>\n",
       "      <td>2983</td>\n",
       "      <td>339</td>\n",
       "      <td>23</td>\n",
       "      <td>97.0</td>\n",
       "      <td>NaN</td>\n",
       "      <td>1441.0</td>\n",
       "      <td>223.0</td>\n",
       "      <td>205.0</td>\n",
       "      <td>105.0</td>\n",
       "      <td>3487.0</td>\n",
       "      <td>21</td>\n",
       "      <td>0</td>\n",
       "      <td>1</td>\n",
       "    </tr>\n",
       "    <tr>\n",
       "      <th>1</th>\n",
       "      <td>1</td>\n",
       "      <td>3046</td>\n",
       "      <td>375</td>\n",
       "      <td>5</td>\n",
       "      <td>69.0</td>\n",
       "      <td>-3.0</td>\n",
       "      <td>865.0</td>\n",
       "      <td>223.0</td>\n",
       "      <td>225.0</td>\n",
       "      <td>149.0</td>\n",
       "      <td>1522.0</td>\n",
       "      <td>0</td>\n",
       "      <td>2</td>\n",
       "      <td>2</td>\n",
       "    </tr>\n",
       "    <tr>\n",
       "      <th>2</th>\n",
       "      <td>2</td>\n",
       "      <td>2540</td>\n",
       "      <td>199</td>\n",
       "      <td>10</td>\n",
       "      <td>128.0</td>\n",
       "      <td>2.0</td>\n",
       "      <td>1009.0</td>\n",
       "      <td>216.0</td>\n",
       "      <td>245.0</td>\n",
       "      <td>146.0</td>\n",
       "      <td>1977.0</td>\n",
       "      <td>0</td>\n",
       "      <td>0</td>\n",
       "      <td>2</td>\n",
       "    </tr>\n",
       "    <tr>\n",
       "      <th>3</th>\n",
       "      <td>3</td>\n",
       "      <td>2893</td>\n",
       "      <td>351</td>\n",
       "      <td>21</td>\n",
       "      <td>54.0</td>\n",
       "      <td>19.0</td>\n",
       "      <td>4886.0</td>\n",
       "      <td>247.0</td>\n",
       "      <td>195.0</td>\n",
       "      <td>127.0</td>\n",
       "      <td>1777.0</td>\n",
       "      <td>18</td>\n",
       "      <td>2</td>\n",
       "      <td>2</td>\n",
       "    </tr>\n",
       "    <tr>\n",
       "      <th>4</th>\n",
       "      <td>4</td>\n",
       "      <td>2529</td>\n",
       "      <td>58</td>\n",
       "      <td>35</td>\n",
       "      <td>92.0</td>\n",
       "      <td>42.0</td>\n",
       "      <td>455.0</td>\n",
       "      <td>225.0</td>\n",
       "      <td>249.0</td>\n",
       "      <td>168.0</td>\n",
       "      <td>264.0</td>\n",
       "      <td>25</td>\n",
       "      <td>2</td>\n",
       "      <td>2</td>\n",
       "    </tr>\n",
       "  </tbody>\n",
       "</table>\n",
       "</div>\n",
       "      <button class=\"colab-df-convert\" onclick=\"convertToInteractive('df-799d04f4-b42a-4ef9-aa88-206a0dc24b71')\"\n",
       "              title=\"Convert this dataframe to an interactive table.\"\n",
       "              style=\"display:none;\">\n",
       "        \n",
       "  <svg xmlns=\"http://www.w3.org/2000/svg\" height=\"24px\"viewBox=\"0 0 24 24\"\n",
       "       width=\"24px\">\n",
       "    <path d=\"M0 0h24v24H0V0z\" fill=\"none\"/>\n",
       "    <path d=\"M18.56 5.44l.94 2.06.94-2.06 2.06-.94-2.06-.94-.94-2.06-.94 2.06-2.06.94zm-11 1L8.5 8.5l.94-2.06 2.06-.94-2.06-.94L8.5 2.5l-.94 2.06-2.06.94zm10 10l.94 2.06.94-2.06 2.06-.94-2.06-.94-.94-2.06-.94 2.06-2.06.94z\"/><path d=\"M17.41 7.96l-1.37-1.37c-.4-.4-.92-.59-1.43-.59-.52 0-1.04.2-1.43.59L10.3 9.45l-7.72 7.72c-.78.78-.78 2.05 0 2.83L4 21.41c.39.39.9.59 1.41.59.51 0 1.02-.2 1.41-.59l7.78-7.78 2.81-2.81c.8-.78.8-2.07 0-2.86zM5.41 20L4 18.59l7.72-7.72 1.47 1.35L5.41 20z\"/>\n",
       "  </svg>\n",
       "      </button>\n",
       "      \n",
       "  <style>\n",
       "    .colab-df-container {\n",
       "      display:flex;\n",
       "      flex-wrap:wrap;\n",
       "      gap: 12px;\n",
       "    }\n",
       "\n",
       "    .colab-df-convert {\n",
       "      background-color: #E8F0FE;\n",
       "      border: none;\n",
       "      border-radius: 50%;\n",
       "      cursor: pointer;\n",
       "      display: none;\n",
       "      fill: #1967D2;\n",
       "      height: 32px;\n",
       "      padding: 0 0 0 0;\n",
       "      width: 32px;\n",
       "    }\n",
       "\n",
       "    .colab-df-convert:hover {\n",
       "      background-color: #E2EBFA;\n",
       "      box-shadow: 0px 1px 2px rgba(60, 64, 67, 0.3), 0px 1px 3px 1px rgba(60, 64, 67, 0.15);\n",
       "      fill: #174EA6;\n",
       "    }\n",
       "\n",
       "    [theme=dark] .colab-df-convert {\n",
       "      background-color: #3B4455;\n",
       "      fill: #D2E3FC;\n",
       "    }\n",
       "\n",
       "    [theme=dark] .colab-df-convert:hover {\n",
       "      background-color: #434B5C;\n",
       "      box-shadow: 0px 1px 3px 1px rgba(0, 0, 0, 0.15);\n",
       "      filter: drop-shadow(0px 1px 2px rgba(0, 0, 0, 0.3));\n",
       "      fill: #FFFFFF;\n",
       "    }\n",
       "  </style>\n",
       "\n",
       "      <script>\n",
       "        const buttonEl =\n",
       "          document.querySelector('#df-799d04f4-b42a-4ef9-aa88-206a0dc24b71 button.colab-df-convert');\n",
       "        buttonEl.style.display =\n",
       "          google.colab.kernel.accessAllowed ? 'block' : 'none';\n",
       "\n",
       "        async function convertToInteractive(key) {\n",
       "          const element = document.querySelector('#df-799d04f4-b42a-4ef9-aa88-206a0dc24b71');\n",
       "          const dataTable =\n",
       "            await google.colab.kernel.invokeFunction('convertToInteractive',\n",
       "                                                     [key], {});\n",
       "          if (!dataTable) return;\n",
       "\n",
       "          const docLinkHtml = 'Like what you see? Visit the ' +\n",
       "            '<a target=\"_blank\" href=https://colab.research.google.com/notebooks/data_table.ipynb>data table notebook</a>'\n",
       "            + ' to learn more about interactive tables.';\n",
       "          element.innerHTML = '';\n",
       "          dataTable['output_type'] = 'display_data';\n",
       "          await google.colab.output.renderOutput(dataTable, element);\n",
       "          const docLink = document.createElement('div');\n",
       "          docLink.innerHTML = docLinkHtml;\n",
       "          element.appendChild(docLink);\n",
       "        }\n",
       "      </script>\n",
       "    </div>\n",
       "  </div>\n",
       "  "
      ],
      "text/plain": [
       "   id  Elevation  Aspect  ...  Soil_Type  Wilderness_Area  Cover_Type\n",
       "0   0       2983     339  ...         21                0           1\n",
       "1   1       3046     375  ...          0                2           2\n",
       "2   2       2540     199  ...          0                0           2\n",
       "3   3       2893     351  ...         18                2           2\n",
       "4   4       2529      58  ...         25                2           2\n",
       "\n",
       "[5 rows x 14 columns]"
      ]
     },
     "execution_count": 4,
     "metadata": {},
     "output_type": "execute_result"
    }
   ],
   "source": [
    "data.head()"
   ]
  },
  {
   "cell_type": "code",
   "execution_count": null,
   "id": "5fa1c12a",
   "metadata": {
    "colab": {
     "base_uri": "https://localhost:8080/"
    },
    "executionInfo": {
     "elapsed": 431,
     "status": "ok",
     "timestamp": 1642327139132,
     "user": {
      "displayName": "SH A",
      "photoUrl": "https://lh3.googleusercontent.com/a-/AOh14GgPCbr7K55ZbkRKq14ngn3bnPQmR7G4I4f_eGn9=s64",
      "userId": "14272989099738007586"
     },
     "user_tz": -540
    },
    "id": "5fa1c12a",
    "outputId": "798ec7fe-ece8-4865-f6d3-de2055d41f96"
   },
   "outputs": [
    {
     "data": {
      "text/plain": [
       "(826224, 14)"
      ]
     },
     "execution_count": 79,
     "metadata": {},
     "output_type": "execute_result"
    }
   ],
   "source": [
    "data.shape"
   ]
  },
  {
   "cell_type": "code",
   "execution_count": null,
   "id": "0a637cce",
   "metadata": {
    "colab": {
     "base_uri": "https://localhost:8080/",
     "height": 364
    },
    "executionInfo": {
     "elapsed": 590,
     "status": "ok",
     "timestamp": 1642327145267,
     "user": {
      "displayName": "SH A",
      "photoUrl": "https://lh3.googleusercontent.com/a-/AOh14GgPCbr7K55ZbkRKq14ngn3bnPQmR7G4I4f_eGn9=s64",
      "userId": "14272989099738007586"
     },
     "user_tz": -540
    },
    "id": "0a637cce",
    "outputId": "b7714187-a49e-4805-bcce-dbd4707e9239"
   },
   "outputs": [
    {
     "data": {
      "text/html": [
       "\n",
       "  <div id=\"df-65827080-1e62-4d4b-b3ee-f926c072f79e\">\n",
       "    <div class=\"colab-df-container\">\n",
       "      <div>\n",
       "<style scoped>\n",
       "    .dataframe tbody tr th:only-of-type {\n",
       "        vertical-align: middle;\n",
       "    }\n",
       "\n",
       "    .dataframe tbody tr th {\n",
       "        vertical-align: top;\n",
       "    }\n",
       "\n",
       "    .dataframe thead th {\n",
       "        text-align: right;\n",
       "    }\n",
       "</style>\n",
       "<table border=\"1\" class=\"dataframe\">\n",
       "  <thead>\n",
       "    <tr style=\"text-align: right;\">\n",
       "      <th></th>\n",
       "      <th>id</th>\n",
       "      <th>Elevation</th>\n",
       "      <th>Aspect</th>\n",
       "      <th>Slope</th>\n",
       "      <th>Horizontal_Distance_To_Hydrology</th>\n",
       "      <th>Vertical_Distance_To_Hydrology</th>\n",
       "      <th>Horizontal_Distance_To_Roadways</th>\n",
       "      <th>Hillshade_9am</th>\n",
       "      <th>Hillshade_Noon</th>\n",
       "      <th>Hillshade_3pm</th>\n",
       "      <th>Horizontal_Distance_To_Fire_Points</th>\n",
       "      <th>Soil_Type</th>\n",
       "      <th>Wilderness_Area</th>\n",
       "      <th>Cover_Type</th>\n",
       "    </tr>\n",
       "  </thead>\n",
       "  <tbody>\n",
       "    <tr>\n",
       "      <th>count</th>\n",
       "      <td>826224.000000</td>\n",
       "      <td>826224.000000</td>\n",
       "      <td>826224.000000</td>\n",
       "      <td>826224.000000</td>\n",
       "      <td>817992.000000</td>\n",
       "      <td>793164.000000</td>\n",
       "      <td>793085.000000</td>\n",
       "      <td>784779.000000</td>\n",
       "      <td>793109.000000</td>\n",
       "      <td>784866.000000</td>\n",
       "      <td>793303.000000</td>\n",
       "      <td>826224.000000</td>\n",
       "      <td>826224.000000</td>\n",
       "      <td>826224.000000</td>\n",
       "    </tr>\n",
       "    <tr>\n",
       "      <th>mean</th>\n",
       "      <td>413111.500000</td>\n",
       "      <td>2943.346507</td>\n",
       "      <td>151.517130</td>\n",
       "      <td>15.260949</td>\n",
       "      <td>272.227882</td>\n",
       "      <td>52.673064</td>\n",
       "      <td>1706.496011</td>\n",
       "      <td>211.868308</td>\n",
       "      <td>220.940612</td>\n",
       "      <td>140.612038</td>\n",
       "      <td>1516.416838</td>\n",
       "      <td>10.367157</td>\n",
       "      <td>1.456131</td>\n",
       "      <td>1.912988</td>\n",
       "    </tr>\n",
       "    <tr>\n",
       "      <th>std</th>\n",
       "      <td>238510.468744</td>\n",
       "      <td>328.216211</td>\n",
       "      <td>109.858219</td>\n",
       "      <td>8.588512</td>\n",
       "      <td>226.315705</td>\n",
       "      <td>68.186882</td>\n",
       "      <td>1286.145727</td>\n",
       "      <td>30.701996</td>\n",
       "      <td>22.277715</td>\n",
       "      <td>43.710597</td>\n",
       "      <td>1110.210430</td>\n",
       "      <td>12.770907</td>\n",
       "      <td>0.961180</td>\n",
       "      <td>0.796831</td>\n",
       "    </tr>\n",
       "    <tr>\n",
       "      <th>min</th>\n",
       "      <td>0.000000</td>\n",
       "      <td>1784.000000</td>\n",
       "      <td>-31.000000</td>\n",
       "      <td>-3.000000</td>\n",
       "      <td>-75.000000</td>\n",
       "      <td>-296.000000</td>\n",
       "      <td>-287.000000</td>\n",
       "      <td>4.000000</td>\n",
       "      <td>56.000000</td>\n",
       "      <td>-51.000000</td>\n",
       "      <td>-267.000000</td>\n",
       "      <td>0.000000</td>\n",
       "      <td>0.000000</td>\n",
       "      <td>1.000000</td>\n",
       "    </tr>\n",
       "    <tr>\n",
       "      <th>25%</th>\n",
       "      <td>206555.750000</td>\n",
       "      <td>2702.000000</td>\n",
       "      <td>60.000000</td>\n",
       "      <td>9.000000</td>\n",
       "      <td>111.000000</td>\n",
       "      <td>4.000000</td>\n",
       "      <td>792.000000</td>\n",
       "      <td>198.000000</td>\n",
       "      <td>210.000000</td>\n",
       "      <td>115.000000</td>\n",
       "      <td>735.000000</td>\n",
       "      <td>0.000000</td>\n",
       "      <td>0.000000</td>\n",
       "      <td>1.000000</td>\n",
       "    </tr>\n",
       "    <tr>\n",
       "      <th>50%</th>\n",
       "      <td>413111.500000</td>\n",
       "      <td>2932.000000</td>\n",
       "      <td>123.000000</td>\n",
       "      <td>14.000000</td>\n",
       "      <td>214.000000</td>\n",
       "      <td>33.000000</td>\n",
       "      <td>1381.000000</td>\n",
       "      <td>218.000000</td>\n",
       "      <td>224.000000</td>\n",
       "      <td>142.000000</td>\n",
       "      <td>1278.000000</td>\n",
       "      <td>3.000000</td>\n",
       "      <td>2.000000</td>\n",
       "      <td>2.000000</td>\n",
       "    </tr>\n",
       "    <tr>\n",
       "      <th>75%</th>\n",
       "      <td>619667.250000</td>\n",
       "      <td>3216.000000</td>\n",
       "      <td>247.000000</td>\n",
       "      <td>20.000000</td>\n",
       "      <td>363.000000</td>\n",
       "      <td>80.000000</td>\n",
       "      <td>2268.000000</td>\n",
       "      <td>233.000000</td>\n",
       "      <td>237.000000</td>\n",
       "      <td>169.000000</td>\n",
       "      <td>1999.000000</td>\n",
       "      <td>21.000000</td>\n",
       "      <td>2.000000</td>\n",
       "      <td>2.000000</td>\n",
       "    </tr>\n",
       "    <tr>\n",
       "      <th>max</th>\n",
       "      <td>826223.000000</td>\n",
       "      <td>4322.000000</td>\n",
       "      <td>405.000000</td>\n",
       "      <td>63.000000</td>\n",
       "      <td>1575.000000</td>\n",
       "      <td>628.000000</td>\n",
       "      <td>7666.000000</td>\n",
       "      <td>291.000000</td>\n",
       "      <td>279.000000</td>\n",
       "      <td>271.000000</td>\n",
       "      <td>8006.000000</td>\n",
       "      <td>39.000000</td>\n",
       "      <td>3.000000</td>\n",
       "      <td>4.000000</td>\n",
       "    </tr>\n",
       "  </tbody>\n",
       "</table>\n",
       "</div>\n",
       "      <button class=\"colab-df-convert\" onclick=\"convertToInteractive('df-65827080-1e62-4d4b-b3ee-f926c072f79e')\"\n",
       "              title=\"Convert this dataframe to an interactive table.\"\n",
       "              style=\"display:none;\">\n",
       "        \n",
       "  <svg xmlns=\"http://www.w3.org/2000/svg\" height=\"24px\"viewBox=\"0 0 24 24\"\n",
       "       width=\"24px\">\n",
       "    <path d=\"M0 0h24v24H0V0z\" fill=\"none\"/>\n",
       "    <path d=\"M18.56 5.44l.94 2.06.94-2.06 2.06-.94-2.06-.94-.94-2.06-.94 2.06-2.06.94zm-11 1L8.5 8.5l.94-2.06 2.06-.94-2.06-.94L8.5 2.5l-.94 2.06-2.06.94zm10 10l.94 2.06.94-2.06 2.06-.94-2.06-.94-.94-2.06-.94 2.06-2.06.94z\"/><path d=\"M17.41 7.96l-1.37-1.37c-.4-.4-.92-.59-1.43-.59-.52 0-1.04.2-1.43.59L10.3 9.45l-7.72 7.72c-.78.78-.78 2.05 0 2.83L4 21.41c.39.39.9.59 1.41.59.51 0 1.02-.2 1.41-.59l7.78-7.78 2.81-2.81c.8-.78.8-2.07 0-2.86zM5.41 20L4 18.59l7.72-7.72 1.47 1.35L5.41 20z\"/>\n",
       "  </svg>\n",
       "      </button>\n",
       "      \n",
       "  <style>\n",
       "    .colab-df-container {\n",
       "      display:flex;\n",
       "      flex-wrap:wrap;\n",
       "      gap: 12px;\n",
       "    }\n",
       "\n",
       "    .colab-df-convert {\n",
       "      background-color: #E8F0FE;\n",
       "      border: none;\n",
       "      border-radius: 50%;\n",
       "      cursor: pointer;\n",
       "      display: none;\n",
       "      fill: #1967D2;\n",
       "      height: 32px;\n",
       "      padding: 0 0 0 0;\n",
       "      width: 32px;\n",
       "    }\n",
       "\n",
       "    .colab-df-convert:hover {\n",
       "      background-color: #E2EBFA;\n",
       "      box-shadow: 0px 1px 2px rgba(60, 64, 67, 0.3), 0px 1px 3px 1px rgba(60, 64, 67, 0.15);\n",
       "      fill: #174EA6;\n",
       "    }\n",
       "\n",
       "    [theme=dark] .colab-df-convert {\n",
       "      background-color: #3B4455;\n",
       "      fill: #D2E3FC;\n",
       "    }\n",
       "\n",
       "    [theme=dark] .colab-df-convert:hover {\n",
       "      background-color: #434B5C;\n",
       "      box-shadow: 0px 1px 3px 1px rgba(0, 0, 0, 0.15);\n",
       "      filter: drop-shadow(0px 1px 2px rgba(0, 0, 0, 0.3));\n",
       "      fill: #FFFFFF;\n",
       "    }\n",
       "  </style>\n",
       "\n",
       "      <script>\n",
       "        const buttonEl =\n",
       "          document.querySelector('#df-65827080-1e62-4d4b-b3ee-f926c072f79e button.colab-df-convert');\n",
       "        buttonEl.style.display =\n",
       "          google.colab.kernel.accessAllowed ? 'block' : 'none';\n",
       "\n",
       "        async function convertToInteractive(key) {\n",
       "          const element = document.querySelector('#df-65827080-1e62-4d4b-b3ee-f926c072f79e');\n",
       "          const dataTable =\n",
       "            await google.colab.kernel.invokeFunction('convertToInteractive',\n",
       "                                                     [key], {});\n",
       "          if (!dataTable) return;\n",
       "\n",
       "          const docLinkHtml = 'Like what you see? Visit the ' +\n",
       "            '<a target=\"_blank\" href=https://colab.research.google.com/notebooks/data_table.ipynb>data table notebook</a>'\n",
       "            + ' to learn more about interactive tables.';\n",
       "          element.innerHTML = '';\n",
       "          dataTable['output_type'] = 'display_data';\n",
       "          await google.colab.output.renderOutput(dataTable, element);\n",
       "          const docLink = document.createElement('div');\n",
       "          docLink.innerHTML = docLinkHtml;\n",
       "          element.appendChild(docLink);\n",
       "        }\n",
       "      </script>\n",
       "    </div>\n",
       "  </div>\n",
       "  "
      ],
      "text/plain": [
       "                  id      Elevation  ...  Wilderness_Area     Cover_Type\n",
       "count  826224.000000  826224.000000  ...    826224.000000  826224.000000\n",
       "mean   413111.500000    2943.346507  ...         1.456131       1.912988\n",
       "std    238510.468744     328.216211  ...         0.961180       0.796831\n",
       "min         0.000000    1784.000000  ...         0.000000       1.000000\n",
       "25%    206555.750000    2702.000000  ...         0.000000       1.000000\n",
       "50%    413111.500000    2932.000000  ...         2.000000       2.000000\n",
       "75%    619667.250000    3216.000000  ...         2.000000       2.000000\n",
       "max    826223.000000    4322.000000  ...         3.000000       4.000000\n",
       "\n",
       "[8 rows x 14 columns]"
      ]
     },
     "execution_count": 8,
     "metadata": {},
     "output_type": "execute_result"
    }
   ],
   "source": [
    "data.describe()"
   ]
  },
  {
   "cell_type": "code",
   "execution_count": null,
   "id": "9874736a",
   "metadata": {
    "colab": {
     "base_uri": "https://localhost:8080/"
    },
    "executionInfo": {
     "elapsed": 265,
     "status": "ok",
     "timestamp": 1642327148365,
     "user": {
      "displayName": "SH A",
      "photoUrl": "https://lh3.googleusercontent.com/a-/AOh14GgPCbr7K55ZbkRKq14ngn3bnPQmR7G4I4f_eGn9=s64",
      "userId": "14272989099738007586"
     },
     "user_tz": -540
    },
    "id": "9874736a",
    "outputId": "0293d1c4-fb30-4006-d727-7dd00a3a491a",
    "scrolled": false
   },
   "outputs": [
    {
     "name": "stdout",
     "output_type": "stream",
     "text": [
      "<class 'pandas.core.frame.DataFrame'>\n",
      "RangeIndex: 826224 entries, 0 to 826223\n",
      "Data columns (total 14 columns):\n",
      " #   Column                              Non-Null Count   Dtype  \n",
      "---  ------                              --------------   -----  \n",
      " 0   id                                  826224 non-null  int64  \n",
      " 1   Elevation                           826224 non-null  int64  \n",
      " 2   Aspect                              826224 non-null  int64  \n",
      " 3   Slope                               826224 non-null  int64  \n",
      " 4   Horizontal_Distance_To_Hydrology    817992 non-null  float64\n",
      " 5   Vertical_Distance_To_Hydrology      793164 non-null  float64\n",
      " 6   Horizontal_Distance_To_Roadways     793085 non-null  float64\n",
      " 7   Hillshade_9am                       784779 non-null  float64\n",
      " 8   Hillshade_Noon                      793109 non-null  float64\n",
      " 9   Hillshade_3pm                       784866 non-null  float64\n",
      " 10  Horizontal_Distance_To_Fire_Points  793303 non-null  float64\n",
      " 11  Soil_Type                           826224 non-null  int64  \n",
      " 12  Wilderness_Area                     826224 non-null  int64  \n",
      " 13  Cover_Type                          826224 non-null  int64  \n",
      "dtypes: float64(7), int64(7)\n",
      "memory usage: 88.3 MB\n"
     ]
    }
   ],
   "source": [
    "data.info()"
   ]
  },
  {
   "cell_type": "code",
   "execution_count": null,
   "id": "2c7e7793",
   "metadata": {
    "colab": {
     "base_uri": "https://localhost:8080/",
     "height": 270
    },
    "executionInfo": {
     "elapsed": 310,
     "status": "ok",
     "timestamp": 1642327151611,
     "user": {
      "displayName": "SH A",
      "photoUrl": "https://lh3.googleusercontent.com/a-/AOh14GgPCbr7K55ZbkRKq14ngn3bnPQmR7G4I4f_eGn9=s64",
      "userId": "14272989099738007586"
     },
     "user_tz": -540
    },
    "id": "2c7e7793",
    "outputId": "e34f972b-be89-4713-8cf6-dc2ff7091634"
   },
   "outputs": [
    {
     "data": {
      "text/html": [
       "\n",
       "  <div id=\"df-c06db9aa-db53-4b24-b647-b49f14177777\">\n",
       "    <div class=\"colab-df-container\">\n",
       "      <div>\n",
       "<style scoped>\n",
       "    .dataframe tbody tr th:only-of-type {\n",
       "        vertical-align: middle;\n",
       "    }\n",
       "\n",
       "    .dataframe tbody tr th {\n",
       "        vertical-align: top;\n",
       "    }\n",
       "\n",
       "    .dataframe thead th {\n",
       "        text-align: right;\n",
       "    }\n",
       "</style>\n",
       "<table border=\"1\" class=\"dataframe\">\n",
       "  <thead>\n",
       "    <tr style=\"text-align: right;\">\n",
       "      <th></th>\n",
       "      <th>id</th>\n",
       "      <th>Elevation</th>\n",
       "      <th>Aspect</th>\n",
       "      <th>Slope</th>\n",
       "      <th>Horizontal_Distance_To_Hydrology</th>\n",
       "      <th>Vertical_Distance_To_Hydrology</th>\n",
       "      <th>Horizontal_Distance_To_Roadways</th>\n",
       "      <th>Hillshade_9am</th>\n",
       "      <th>Hillshade_Noon</th>\n",
       "      <th>Hillshade_3pm</th>\n",
       "      <th>Horizontal_Distance_To_Fire_Points</th>\n",
       "      <th>Soil_Type</th>\n",
       "      <th>Wilderness_Area</th>\n",
       "    </tr>\n",
       "  </thead>\n",
       "  <tbody>\n",
       "    <tr>\n",
       "      <th>0</th>\n",
       "      <td>0</td>\n",
       "      <td>3101</td>\n",
       "      <td>47</td>\n",
       "      <td>31</td>\n",
       "      <td>87.0</td>\n",
       "      <td>11.0</td>\n",
       "      <td>1579.0</td>\n",
       "      <td>213.0</td>\n",
       "      <td>226.0</td>\n",
       "      <td>90.0</td>\n",
       "      <td>1352.0</td>\n",
       "      <td>0</td>\n",
       "      <td>2</td>\n",
       "    </tr>\n",
       "    <tr>\n",
       "      <th>1</th>\n",
       "      <td>1</td>\n",
       "      <td>2584</td>\n",
       "      <td>176</td>\n",
       "      <td>18</td>\n",
       "      <td>625.0</td>\n",
       "      <td>37.0</td>\n",
       "      <td>159.0</td>\n",
       "      <td>197.0</td>\n",
       "      <td>230.0</td>\n",
       "      <td>118.0</td>\n",
       "      <td>1227.0</td>\n",
       "      <td>0</td>\n",
       "      <td>2</td>\n",
       "    </tr>\n",
       "    <tr>\n",
       "      <th>2</th>\n",
       "      <td>2</td>\n",
       "      <td>3501</td>\n",
       "      <td>41</td>\n",
       "      <td>-1</td>\n",
       "      <td>134.0</td>\n",
       "      <td>-9.0</td>\n",
       "      <td>4309.0</td>\n",
       "      <td>215.0</td>\n",
       "      <td>214.0</td>\n",
       "      <td>186.0</td>\n",
       "      <td>4130.0</td>\n",
       "      <td>11</td>\n",
       "      <td>2</td>\n",
       "    </tr>\n",
       "    <tr>\n",
       "      <th>3</th>\n",
       "      <td>3</td>\n",
       "      <td>3322</td>\n",
       "      <td>87</td>\n",
       "      <td>11</td>\n",
       "      <td>106.0</td>\n",
       "      <td>53.0</td>\n",
       "      <td>2377.0</td>\n",
       "      <td>229.0</td>\n",
       "      <td>233.0</td>\n",
       "      <td>189.0</td>\n",
       "      <td>159.0</td>\n",
       "      <td>10</td>\n",
       "      <td>0</td>\n",
       "    </tr>\n",
       "    <tr>\n",
       "      <th>4</th>\n",
       "      <td>4</td>\n",
       "      <td>2918</td>\n",
       "      <td>9</td>\n",
       "      <td>6</td>\n",
       "      <td>311.0</td>\n",
       "      <td>70.0</td>\n",
       "      <td>193.0</td>\n",
       "      <td>210.0</td>\n",
       "      <td>238.0</td>\n",
       "      <td>147.0</td>\n",
       "      <td>735.0</td>\n",
       "      <td>0</td>\n",
       "      <td>2</td>\n",
       "    </tr>\n",
       "  </tbody>\n",
       "</table>\n",
       "</div>\n",
       "      <button class=\"colab-df-convert\" onclick=\"convertToInteractive('df-c06db9aa-db53-4b24-b647-b49f14177777')\"\n",
       "              title=\"Convert this dataframe to an interactive table.\"\n",
       "              style=\"display:none;\">\n",
       "        \n",
       "  <svg xmlns=\"http://www.w3.org/2000/svg\" height=\"24px\"viewBox=\"0 0 24 24\"\n",
       "       width=\"24px\">\n",
       "    <path d=\"M0 0h24v24H0V0z\" fill=\"none\"/>\n",
       "    <path d=\"M18.56 5.44l.94 2.06.94-2.06 2.06-.94-2.06-.94-.94-2.06-.94 2.06-2.06.94zm-11 1L8.5 8.5l.94-2.06 2.06-.94-2.06-.94L8.5 2.5l-.94 2.06-2.06.94zm10 10l.94 2.06.94-2.06 2.06-.94-2.06-.94-.94-2.06-.94 2.06-2.06.94z\"/><path d=\"M17.41 7.96l-1.37-1.37c-.4-.4-.92-.59-1.43-.59-.52 0-1.04.2-1.43.59L10.3 9.45l-7.72 7.72c-.78.78-.78 2.05 0 2.83L4 21.41c.39.39.9.59 1.41.59.51 0 1.02-.2 1.41-.59l7.78-7.78 2.81-2.81c.8-.78.8-2.07 0-2.86zM5.41 20L4 18.59l7.72-7.72 1.47 1.35L5.41 20z\"/>\n",
       "  </svg>\n",
       "      </button>\n",
       "      \n",
       "  <style>\n",
       "    .colab-df-container {\n",
       "      display:flex;\n",
       "      flex-wrap:wrap;\n",
       "      gap: 12px;\n",
       "    }\n",
       "\n",
       "    .colab-df-convert {\n",
       "      background-color: #E8F0FE;\n",
       "      border: none;\n",
       "      border-radius: 50%;\n",
       "      cursor: pointer;\n",
       "      display: none;\n",
       "      fill: #1967D2;\n",
       "      height: 32px;\n",
       "      padding: 0 0 0 0;\n",
       "      width: 32px;\n",
       "    }\n",
       "\n",
       "    .colab-df-convert:hover {\n",
       "      background-color: #E2EBFA;\n",
       "      box-shadow: 0px 1px 2px rgba(60, 64, 67, 0.3), 0px 1px 3px 1px rgba(60, 64, 67, 0.15);\n",
       "      fill: #174EA6;\n",
       "    }\n",
       "\n",
       "    [theme=dark] .colab-df-convert {\n",
       "      background-color: #3B4455;\n",
       "      fill: #D2E3FC;\n",
       "    }\n",
       "\n",
       "    [theme=dark] .colab-df-convert:hover {\n",
       "      background-color: #434B5C;\n",
       "      box-shadow: 0px 1px 3px 1px rgba(0, 0, 0, 0.15);\n",
       "      filter: drop-shadow(0px 1px 2px rgba(0, 0, 0, 0.3));\n",
       "      fill: #FFFFFF;\n",
       "    }\n",
       "  </style>\n",
       "\n",
       "      <script>\n",
       "        const buttonEl =\n",
       "          document.querySelector('#df-c06db9aa-db53-4b24-b647-b49f14177777 button.colab-df-convert');\n",
       "        buttonEl.style.display =\n",
       "          google.colab.kernel.accessAllowed ? 'block' : 'none';\n",
       "\n",
       "        async function convertToInteractive(key) {\n",
       "          const element = document.querySelector('#df-c06db9aa-db53-4b24-b647-b49f14177777');\n",
       "          const dataTable =\n",
       "            await google.colab.kernel.invokeFunction('convertToInteractive',\n",
       "                                                     [key], {});\n",
       "          if (!dataTable) return;\n",
       "\n",
       "          const docLinkHtml = 'Like what you see? Visit the ' +\n",
       "            '<a target=\"_blank\" href=https://colab.research.google.com/notebooks/data_table.ipynb>data table notebook</a>'\n",
       "            + ' to learn more about interactive tables.';\n",
       "          element.innerHTML = '';\n",
       "          dataTable['output_type'] = 'display_data';\n",
       "          await google.colab.output.renderOutput(dataTable, element);\n",
       "          const docLink = document.createElement('div');\n",
       "          docLink.innerHTML = docLinkHtml;\n",
       "          element.appendChild(docLink);\n",
       "        }\n",
       "      </script>\n",
       "    </div>\n",
       "  </div>\n",
       "  "
      ],
      "text/plain": [
       "   id  Elevation  ...  Soil_Type  Wilderness_Area\n",
       "0   0       3101  ...          0                2\n",
       "1   1       2584  ...          0                2\n",
       "2   2       3501  ...         11                2\n",
       "3   3       3322  ...         10                0\n",
       "4   4       2918  ...          0                2\n",
       "\n",
       "[5 rows x 13 columns]"
      ]
     },
     "execution_count": 10,
     "metadata": {},
     "output_type": "execute_result"
    }
   ],
   "source": [
    "x_test.head()"
   ]
  },
  {
   "cell_type": "code",
   "execution_count": null,
   "id": "c92b16c3",
   "metadata": {
    "colab": {
     "base_uri": "https://localhost:8080/",
     "height": 364
    },
    "executionInfo": {
     "elapsed": 419,
     "status": "ok",
     "timestamp": 1642327155144,
     "user": {
      "displayName": "SH A",
      "photoUrl": "https://lh3.googleusercontent.com/a-/AOh14GgPCbr7K55ZbkRKq14ngn3bnPQmR7G4I4f_eGn9=s64",
      "userId": "14272989099738007586"
     },
     "user_tz": -540
    },
    "id": "c92b16c3",
    "outputId": "4475cb13-d1b5-4681-8362-ed1539483e89"
   },
   "outputs": [
    {
     "data": {
      "text/html": [
       "\n",
       "  <div id=\"df-a18cdc94-9924-4fbd-873b-8d0a016994e8\">\n",
       "    <div class=\"colab-df-container\">\n",
       "      <div>\n",
       "<style scoped>\n",
       "    .dataframe tbody tr th:only-of-type {\n",
       "        vertical-align: middle;\n",
       "    }\n",
       "\n",
       "    .dataframe tbody tr th {\n",
       "        vertical-align: top;\n",
       "    }\n",
       "\n",
       "    .dataframe thead th {\n",
       "        text-align: right;\n",
       "    }\n",
       "</style>\n",
       "<table border=\"1\" class=\"dataframe\">\n",
       "  <thead>\n",
       "    <tr style=\"text-align: right;\">\n",
       "      <th></th>\n",
       "      <th>id</th>\n",
       "      <th>Elevation</th>\n",
       "      <th>Aspect</th>\n",
       "      <th>Slope</th>\n",
       "      <th>Horizontal_Distance_To_Hydrology</th>\n",
       "      <th>Vertical_Distance_To_Hydrology</th>\n",
       "      <th>Horizontal_Distance_To_Roadways</th>\n",
       "      <th>Hillshade_9am</th>\n",
       "      <th>Hillshade_Noon</th>\n",
       "      <th>Hillshade_3pm</th>\n",
       "      <th>Horizontal_Distance_To_Fire_Points</th>\n",
       "      <th>Soil_Type</th>\n",
       "      <th>Wilderness_Area</th>\n",
       "    </tr>\n",
       "  </thead>\n",
       "  <tbody>\n",
       "    <tr>\n",
       "      <th>count</th>\n",
       "      <td>550816.000000</td>\n",
       "      <td>550816.000000</td>\n",
       "      <td>550816.000000</td>\n",
       "      <td>550816.000000</td>\n",
       "      <td>545278.000000</td>\n",
       "      <td>528795.000000</td>\n",
       "      <td>528874.000000</td>\n",
       "      <td>523409.000000</td>\n",
       "      <td>528850.000000</td>\n",
       "      <td>523322.000000</td>\n",
       "      <td>528656.000000</td>\n",
       "      <td>550816.000000</td>\n",
       "      <td>550816.000000</td>\n",
       "    </tr>\n",
       "    <tr>\n",
       "      <th>mean</th>\n",
       "      <td>275407.500000</td>\n",
       "      <td>2944.109567</td>\n",
       "      <td>151.443852</td>\n",
       "      <td>15.234367</td>\n",
       "      <td>271.967545</td>\n",
       "      <td>52.843837</td>\n",
       "      <td>1707.654027</td>\n",
       "      <td>211.895139</td>\n",
       "      <td>221.013397</td>\n",
       "      <td>140.671464</td>\n",
       "      <td>1518.082280</td>\n",
       "      <td>10.376699</td>\n",
       "      <td>1.454143</td>\n",
       "    </tr>\n",
       "    <tr>\n",
       "      <th>std</th>\n",
       "      <td>159007.027274</td>\n",
       "      <td>328.006946</td>\n",
       "      <td>109.707668</td>\n",
       "      <td>8.586205</td>\n",
       "      <td>226.309936</td>\n",
       "      <td>68.395071</td>\n",
       "      <td>1287.935400</td>\n",
       "      <td>30.698694</td>\n",
       "      <td>22.276175</td>\n",
       "      <td>43.655699</td>\n",
       "      <td>1114.598851</td>\n",
       "      <td>12.776968</td>\n",
       "      <td>0.961824</td>\n",
       "    </tr>\n",
       "    <tr>\n",
       "      <th>min</th>\n",
       "      <td>0.000000</td>\n",
       "      <td>1773.000000</td>\n",
       "      <td>-32.000000</td>\n",
       "      <td>-3.000000</td>\n",
       "      <td>-92.000000</td>\n",
       "      <td>-282.000000</td>\n",
       "      <td>-255.000000</td>\n",
       "      <td>-2.000000</td>\n",
       "      <td>50.000000</td>\n",
       "      <td>-49.000000</td>\n",
       "      <td>-270.000000</td>\n",
       "      <td>0.000000</td>\n",
       "      <td>0.000000</td>\n",
       "    </tr>\n",
       "    <tr>\n",
       "      <th>25%</th>\n",
       "      <td>137703.750000</td>\n",
       "      <td>2703.000000</td>\n",
       "      <td>61.000000</td>\n",
       "      <td>9.000000</td>\n",
       "      <td>111.000000</td>\n",
       "      <td>4.000000</td>\n",
       "      <td>793.000000</td>\n",
       "      <td>198.000000</td>\n",
       "      <td>210.000000</td>\n",
       "      <td>115.000000</td>\n",
       "      <td>735.000000</td>\n",
       "      <td>0.000000</td>\n",
       "      <td>0.000000</td>\n",
       "    </tr>\n",
       "    <tr>\n",
       "      <th>50%</th>\n",
       "      <td>275407.500000</td>\n",
       "      <td>2933.000000</td>\n",
       "      <td>123.000000</td>\n",
       "      <td>14.000000</td>\n",
       "      <td>214.000000</td>\n",
       "      <td>33.000000</td>\n",
       "      <td>1381.000000</td>\n",
       "      <td>218.000000</td>\n",
       "      <td>224.000000</td>\n",
       "      <td>142.000000</td>\n",
       "      <td>1277.000000</td>\n",
       "      <td>3.000000</td>\n",
       "      <td>2.000000</td>\n",
       "    </tr>\n",
       "    <tr>\n",
       "      <th>75%</th>\n",
       "      <td>413111.250000</td>\n",
       "      <td>3216.000000</td>\n",
       "      <td>246.000000</td>\n",
       "      <td>20.000000</td>\n",
       "      <td>362.000000</td>\n",
       "      <td>80.000000</td>\n",
       "      <td>2269.000000</td>\n",
       "      <td>233.000000</td>\n",
       "      <td>237.000000</td>\n",
       "      <td>169.000000</td>\n",
       "      <td>1999.000000</td>\n",
       "      <td>21.000000</td>\n",
       "      <td>2.000000</td>\n",
       "    </tr>\n",
       "    <tr>\n",
       "      <th>max</th>\n",
       "      <td>550815.000000</td>\n",
       "      <td>4355.000000</td>\n",
       "      <td>402.000000</td>\n",
       "      <td>61.000000</td>\n",
       "      <td>1592.000000</td>\n",
       "      <td>628.000000</td>\n",
       "      <td>7586.000000</td>\n",
       "      <td>297.000000</td>\n",
       "      <td>269.000000</td>\n",
       "      <td>272.000000</td>\n",
       "      <td>7989.000000</td>\n",
       "      <td>39.000000</td>\n",
       "      <td>3.000000</td>\n",
       "    </tr>\n",
       "  </tbody>\n",
       "</table>\n",
       "</div>\n",
       "      <button class=\"colab-df-convert\" onclick=\"convertToInteractive('df-a18cdc94-9924-4fbd-873b-8d0a016994e8')\"\n",
       "              title=\"Convert this dataframe to an interactive table.\"\n",
       "              style=\"display:none;\">\n",
       "        \n",
       "  <svg xmlns=\"http://www.w3.org/2000/svg\" height=\"24px\"viewBox=\"0 0 24 24\"\n",
       "       width=\"24px\">\n",
       "    <path d=\"M0 0h24v24H0V0z\" fill=\"none\"/>\n",
       "    <path d=\"M18.56 5.44l.94 2.06.94-2.06 2.06-.94-2.06-.94-.94-2.06-.94 2.06-2.06.94zm-11 1L8.5 8.5l.94-2.06 2.06-.94-2.06-.94L8.5 2.5l-.94 2.06-2.06.94zm10 10l.94 2.06.94-2.06 2.06-.94-2.06-.94-.94-2.06-.94 2.06-2.06.94z\"/><path d=\"M17.41 7.96l-1.37-1.37c-.4-.4-.92-.59-1.43-.59-.52 0-1.04.2-1.43.59L10.3 9.45l-7.72 7.72c-.78.78-.78 2.05 0 2.83L4 21.41c.39.39.9.59 1.41.59.51 0 1.02-.2 1.41-.59l7.78-7.78 2.81-2.81c.8-.78.8-2.07 0-2.86zM5.41 20L4 18.59l7.72-7.72 1.47 1.35L5.41 20z\"/>\n",
       "  </svg>\n",
       "      </button>\n",
       "      \n",
       "  <style>\n",
       "    .colab-df-container {\n",
       "      display:flex;\n",
       "      flex-wrap:wrap;\n",
       "      gap: 12px;\n",
       "    }\n",
       "\n",
       "    .colab-df-convert {\n",
       "      background-color: #E8F0FE;\n",
       "      border: none;\n",
       "      border-radius: 50%;\n",
       "      cursor: pointer;\n",
       "      display: none;\n",
       "      fill: #1967D2;\n",
       "      height: 32px;\n",
       "      padding: 0 0 0 0;\n",
       "      width: 32px;\n",
       "    }\n",
       "\n",
       "    .colab-df-convert:hover {\n",
       "      background-color: #E2EBFA;\n",
       "      box-shadow: 0px 1px 2px rgba(60, 64, 67, 0.3), 0px 1px 3px 1px rgba(60, 64, 67, 0.15);\n",
       "      fill: #174EA6;\n",
       "    }\n",
       "\n",
       "    [theme=dark] .colab-df-convert {\n",
       "      background-color: #3B4455;\n",
       "      fill: #D2E3FC;\n",
       "    }\n",
       "\n",
       "    [theme=dark] .colab-df-convert:hover {\n",
       "      background-color: #434B5C;\n",
       "      box-shadow: 0px 1px 3px 1px rgba(0, 0, 0, 0.15);\n",
       "      filter: drop-shadow(0px 1px 2px rgba(0, 0, 0, 0.3));\n",
       "      fill: #FFFFFF;\n",
       "    }\n",
       "  </style>\n",
       "\n",
       "      <script>\n",
       "        const buttonEl =\n",
       "          document.querySelector('#df-a18cdc94-9924-4fbd-873b-8d0a016994e8 button.colab-df-convert');\n",
       "        buttonEl.style.display =\n",
       "          google.colab.kernel.accessAllowed ? 'block' : 'none';\n",
       "\n",
       "        async function convertToInteractive(key) {\n",
       "          const element = document.querySelector('#df-a18cdc94-9924-4fbd-873b-8d0a016994e8');\n",
       "          const dataTable =\n",
       "            await google.colab.kernel.invokeFunction('convertToInteractive',\n",
       "                                                     [key], {});\n",
       "          if (!dataTable) return;\n",
       "\n",
       "          const docLinkHtml = 'Like what you see? Visit the ' +\n",
       "            '<a target=\"_blank\" href=https://colab.research.google.com/notebooks/data_table.ipynb>data table notebook</a>'\n",
       "            + ' to learn more about interactive tables.';\n",
       "          element.innerHTML = '';\n",
       "          dataTable['output_type'] = 'display_data';\n",
       "          await google.colab.output.renderOutput(dataTable, element);\n",
       "          const docLink = document.createElement('div');\n",
       "          docLink.innerHTML = docLinkHtml;\n",
       "          element.appendChild(docLink);\n",
       "        }\n",
       "      </script>\n",
       "    </div>\n",
       "  </div>\n",
       "  "
      ],
      "text/plain": [
       "                  id      Elevation  ...      Soil_Type  Wilderness_Area\n",
       "count  550816.000000  550816.000000  ...  550816.000000    550816.000000\n",
       "mean   275407.500000    2944.109567  ...      10.376699         1.454143\n",
       "std    159007.027274     328.006946  ...      12.776968         0.961824\n",
       "min         0.000000    1773.000000  ...       0.000000         0.000000\n",
       "25%    137703.750000    2703.000000  ...       0.000000         0.000000\n",
       "50%    275407.500000    2933.000000  ...       3.000000         2.000000\n",
       "75%    413111.250000    3216.000000  ...      21.000000         2.000000\n",
       "max    550815.000000    4355.000000  ...      39.000000         3.000000\n",
       "\n",
       "[8 rows x 13 columns]"
      ]
     },
     "execution_count": 11,
     "metadata": {},
     "output_type": "execute_result"
    }
   ],
   "source": [
    "x_test.describe()"
   ]
  },
  {
   "cell_type": "code",
   "execution_count": null,
   "id": "2c9b2574",
   "metadata": {
    "colab": {
     "base_uri": "https://localhost:8080/"
    },
    "executionInfo": {
     "elapsed": 377,
     "status": "ok",
     "timestamp": 1642327158649,
     "user": {
      "displayName": "SH A",
      "photoUrl": "https://lh3.googleusercontent.com/a-/AOh14GgPCbr7K55ZbkRKq14ngn3bnPQmR7G4I4f_eGn9=s64",
      "userId": "14272989099738007586"
     },
     "user_tz": -540
    },
    "id": "2c9b2574",
    "outputId": "39abbc30-79d2-4887-df55-740a0d51aed8"
   },
   "outputs": [
    {
     "name": "stdout",
     "output_type": "stream",
     "text": [
      "<class 'pandas.core.frame.DataFrame'>\n",
      "RangeIndex: 550816 entries, 0 to 550815\n",
      "Data columns (total 13 columns):\n",
      " #   Column                              Non-Null Count   Dtype  \n",
      "---  ------                              --------------   -----  \n",
      " 0   id                                  550816 non-null  int64  \n",
      " 1   Elevation                           550816 non-null  int64  \n",
      " 2   Aspect                              550816 non-null  int64  \n",
      " 3   Slope                               550816 non-null  int64  \n",
      " 4   Horizontal_Distance_To_Hydrology    545278 non-null  float64\n",
      " 5   Vertical_Distance_To_Hydrology      528795 non-null  float64\n",
      " 6   Horizontal_Distance_To_Roadways     528874 non-null  float64\n",
      " 7   Hillshade_9am                       523409 non-null  float64\n",
      " 8   Hillshade_Noon                      528850 non-null  float64\n",
      " 9   Hillshade_3pm                       523322 non-null  float64\n",
      " 10  Horizontal_Distance_To_Fire_Points  528656 non-null  float64\n",
      " 11  Soil_Type                           550816 non-null  int64  \n",
      " 12  Wilderness_Area                     550816 non-null  int64  \n",
      "dtypes: float64(7), int64(6)\n",
      "memory usage: 54.6 MB\n"
     ]
    }
   ],
   "source": [
    "x_test.info()"
   ]
  },
  {
   "cell_type": "code",
   "execution_count": 75,
   "id": "28234aa1",
   "metadata": {
    "executionInfo": {
     "elapsed": 315,
     "status": "ok",
     "timestamp": 1642514747678,
     "user": {
      "displayName": "SH A",
      "photoUrl": "https://lh3.googleusercontent.com/a-/AOh14GgPCbr7K55ZbkRKq14ngn3bnPQmR7G4I4f_eGn9=s64",
      "userId": "14272989099738007586"
     },
     "user_tz": -540
    },
    "id": "28234aa1"
   },
   "outputs": [],
   "source": [
    "# Dropping unneeded columns\n",
    "data.drop(columns = ['id', 'Cover_Type'], inplace=True)\n",
    "x_test.drop(columns = ['id',             ], inplace=True)"
   ]
  },
  {
   "cell_type": "code",
   "execution_count": 76,
   "id": "1f326c00",
   "metadata": {
    "colab": {
     "base_uri": "https://localhost:8080/"
    },
    "executionInfo": {
     "elapsed": 14,
     "status": "ok",
     "timestamp": 1642514750975,
     "user": {
      "displayName": "SH A",
      "photoUrl": "https://lh3.googleusercontent.com/a-/AOh14GgPCbr7K55ZbkRKq14ngn3bnPQmR7G4I4f_eGn9=s64",
      "userId": "14272989099738007586"
     },
     "user_tz": -540
    },
    "id": "1f326c00",
    "outputId": "51c750f6-ee76-4b65-fb41-510f307aabff"
   },
   "outputs": [
    {
     "name": "stdout",
     "output_type": "stream",
     "text": [
      "Categorical Columns : \n",
      "['Soil_Type', 'Wilderness_Area']\n",
      "\n",
      "Numeric Columns : \n",
      "['Elevation', 'Aspect', 'Slope', 'Horizontal_Distance_To_Hydrology', 'Vertical_Distance_To_Hydrology', 'Horizontal_Distance_To_Roadways', 'Hillshade_9am', 'Hillshade_Noon', 'Hillshade_3pm', 'Horizontal_Distance_To_Fire_Points']\n",
      "\n"
     ]
    }
   ],
   "source": [
    "cat_columns = ['Soil_Type', 'Wilderness_Area']\n",
    "num_columns = [c for c in data.columns if (c not in cat_columns)]\n",
    "\n",
    "print('Categorical Columns : \\n{}\\n'.format(cat_columns))\n",
    "print('Numeric Columns : \\n{}\\n'.format(num_columns))"
   ]
  },
  {
   "cell_type": "code",
   "execution_count": null,
   "id": "63181f6a",
   "metadata": {
    "colab": {
     "base_uri": "https://localhost:8080/"
    },
    "collapsed": true,
    "executionInfo": {
     "elapsed": 281,
     "status": "ok",
     "timestamp": 1642327171323,
     "user": {
      "displayName": "SH A",
      "photoUrl": "https://lh3.googleusercontent.com/a-/AOh14GgPCbr7K55ZbkRKq14ngn3bnPQmR7G4I4f_eGn9=s64",
      "userId": "14272989099738007586"
     },
     "user_tz": -540
    },
    "id": "63181f6a",
    "outputId": "04afe672-b5b6-4010-d3f7-0bca57b790ef"
   },
   "outputs": [
    {
     "data": {
      "text/plain": [
       "0         1\n",
       "1         2\n",
       "2         2\n",
       "3         2\n",
       "4         2\n",
       "         ..\n",
       "826219    2\n",
       "826220    1\n",
       "826221    1\n",
       "826222    1\n",
       "826223    1\n",
       "Name: Cover_Type, Length: 826224, dtype: int64"
      ]
     },
     "execution_count": 15,
     "metadata": {},
     "output_type": "execute_result"
    }
   ],
   "source": [
    "label # 1 - 4"
   ]
  },
  {
   "cell_type": "markdown",
   "id": "__h3OgtHhUpD",
   "metadata": {
    "id": "__h3OgtHhUpD"
   },
   "source": [
    "#### Check the missing values : msno"
   ]
  },
  {
   "cell_type": "code",
   "execution_count": null,
   "id": "09c07a8c",
   "metadata": {
    "id": "09c07a8c"
   },
   "outputs": [],
   "source": [
    "import missingno as msno"
   ]
  },
  {
   "cell_type": "code",
   "execution_count": null,
   "id": "c32d58d3",
   "metadata": {
    "colab": {
     "base_uri": "https://localhost:8080/",
     "height": 712
    },
    "executionInfo": {
     "elapsed": 3107,
     "status": "ok",
     "timestamp": 1642327179018,
     "user": {
      "displayName": "SH A",
      "photoUrl": "https://lh3.googleusercontent.com/a-/AOh14GgPCbr7K55ZbkRKq14ngn3bnPQmR7G4I4f_eGn9=s64",
      "userId": "14272989099738007586"
     },
     "user_tz": -540
    },
    "id": "c32d58d3",
    "outputId": "de276b7e-1b49-4893-b719-93d0c9312e52"
   },
   "outputs": [
    {
     "data": {
      "text/plain": [
       "<matplotlib.axes._subplots.AxesSubplot at 0x7f919ba70350>"
      ]
     },
     "execution_count": 17,
     "metadata": {},
     "output_type": "execute_result"
    },
    {
     "data": {
      "image/png": "[encoded data removed]",
      "text/plain": [
       "<Figure size 1800x720 with 2 Axes>"
      ]
     },
     "metadata": {},
     "output_type": "display_data"
    }
   ],
   "source": [
    "msno.matrix(data)"
   ]
  },
  {
   "cell_type": "code",
   "execution_count": null,
   "id": "1217a6d3",
   "metadata": {
    "colab": {
     "base_uri": "https://localhost:8080/",
     "height": 712
    },
    "executionInfo": {
     "elapsed": 2247,
     "status": "ok",
     "timestamp": 1642327183690,
     "user": {
      "displayName": "SH A",
      "photoUrl": "https://lh3.googleusercontent.com/a-/AOh14GgPCbr7K55ZbkRKq14ngn3bnPQmR7G4I4f_eGn9=s64",
      "userId": "14272989099738007586"
     },
     "user_tz": -540
    },
    "id": "1217a6d3",
    "outputId": "3648fc93-be47-4825-f36f-5af8efe2cea1"
   },
   "outputs": [
    {
     "data": {
      "text/plain": [
       "<matplotlib.axes._subplots.AxesSubplot at 0x7f9191085d50>"
      ]
     },
     "execution_count": 18,
     "metadata": {},
     "output_type": "execute_result"
    },
    {
     "data": {
      "image/png": "[encoded data removed]",
      "text/plain": [
       "<Figure size 1800x720 with 2 Axes>"
      ]
     },
     "metadata": {},
     "output_type": "display_data"
    }
   ],
   "source": [
    "msno.matrix(x_test)"
   ]
  },
  {
   "cell_type": "code",
   "execution_count": null,
   "id": "0d6fbcb1",
   "metadata": {
    "colab": {
     "base_uri": "https://localhost:8080/"
    },
    "executionInfo": {
     "elapsed": 304,
     "status": "ok",
     "timestamp": 1642327186954,
     "user": {
      "displayName": "SH A",
      "photoUrl": "https://lh3.googleusercontent.com/a-/AOh14GgPCbr7K55ZbkRKq14ngn3bnPQmR7G4I4f_eGn9=s64",
      "userId": "14272989099738007586"
     },
     "user_tz": -540
    },
    "id": "0d6fbcb1",
    "outputId": "82080088-08a0-4b8e-f85c-a4883ff9281f"
   },
   "outputs": [
    {
     "data": {
      "text/plain": [
       "Elevation                                 0\n",
       "Aspect                                    0\n",
       "Slope                                     0\n",
       "Horizontal_Distance_To_Hydrology       8232\n",
       "Vertical_Distance_To_Hydrology        33060\n",
       "Horizontal_Distance_To_Roadways       33139\n",
       "Hillshade_9am                         41445\n",
       "Hillshade_Noon                        33115\n",
       "Hillshade_3pm                         41358\n",
       "Horizontal_Distance_To_Fire_Points    32921\n",
       "dtype: int64"
      ]
     },
     "execution_count": 19,
     "metadata": {},
     "output_type": "execute_result"
    }
   ],
   "source": [
    "pd.isna(data[num_columns]).sum() # Hillshade_9am, Hillshade_3pm have the most missing values"
   ]
  },
  {
   "cell_type": "code",
   "execution_count": null,
   "id": "5d1e2500",
   "metadata": {
    "colab": {
     "base_uri": "https://localhost:8080/"
    },
    "executionInfo": {
     "elapsed": 270,
     "status": "ok",
     "timestamp": 1642327189543,
     "user": {
      "displayName": "SH A",
      "photoUrl": "https://lh3.googleusercontent.com/a-/AOh14GgPCbr7K55ZbkRKq14ngn3bnPQmR7G4I4f_eGn9=s64",
      "userId": "14272989099738007586"
     },
     "user_tz": -540
    },
    "id": "5d1e2500",
    "outputId": "4e727197-8432-4107-a4f0-4f42c9d3a00b"
   },
   "outputs": [
    {
     "data": {
      "text/plain": [
       "Elevation                                 0\n",
       "Aspect                                    0\n",
       "Slope                                     0\n",
       "Horizontal_Distance_To_Hydrology       5538\n",
       "Vertical_Distance_To_Hydrology        22021\n",
       "Horizontal_Distance_To_Roadways       21942\n",
       "Hillshade_9am                         27407\n",
       "Hillshade_Noon                        21966\n",
       "Hillshade_3pm                         27494\n",
       "Horizontal_Distance_To_Fire_Points    22160\n",
       "dtype: int64"
      ]
     },
     "execution_count": 20,
     "metadata": {},
     "output_type": "execute_result"
    }
   ],
   "source": [
    "pd.isna(x_test[num_columns]).sum()"
   ]
  },
  {
   "cell_type": "markdown",
   "id": "QKaLxsR2fJFA",
   "metadata": {
    "id": "QKaLxsR2fJFA"
   },
   "source": [
    "#### Check the correlation between the columns : Heatmap"
   ]
  },
  {
   "cell_type": "code",
   "execution_count": null,
   "id": "OEc0XumTfHgg",
   "metadata": {
    "colab": {
     "base_uri": "https://localhost:8080/",
     "height": 758
    },
    "executionInfo": {
     "elapsed": 2115,
     "status": "ok",
     "timestamp": 1642327207332,
     "user": {
      "displayName": "SH A",
      "photoUrl": "https://lh3.googleusercontent.com/a-/AOh14GgPCbr7K55ZbkRKq14ngn3bnPQmR7G4I4f_eGn9=s64",
      "userId": "14272989099738007586"
     },
     "user_tz": -540
    },
    "id": "OEc0XumTfHgg",
    "outputId": "01105ad8-c476-4220-938e-0f553cd09796"
   },
   "outputs": [
    {
     "data": {
      "image/png": "[encoded data removed]",
      "text/plain": [
       "<Figure size 864x720 with 2 Axes>"
      ]
     },
     "metadata": {},
     "output_type": "display_data"
    }
   ],
   "source": [
    "f, ax = plt.subplots(figsize = (12, 10))\n",
    "cmap = sns.cubehelix_palette(start = .5, rot = -.5, as_cmap=True)\n",
    "sns.heatmap(data.corr(), annot = True, cmap = cmap)\n",
    "plt.show()\n",
    "# There's no significant correlation between the columns"
   ]
  },
  {
   "cell_type": "markdown",
   "id": "ff1506c9",
   "metadata": {
    "id": "ff1506c9"
   },
   "source": [
    "#### train-test split"
   ]
  },
  {
   "cell_type": "code",
   "execution_count": 77,
   "id": "4e6326fc",
   "metadata": {
    "id": "4e6326fc"
   },
   "outputs": [],
   "source": [
    "from sklearn.model_selection import train_test_split\n",
    "# The ratio of the split train and valid data is 8:2, the internal random number value is 1994, \n",
    "# mixes when splitting the data and stratifies it with the label value.\n",
    "x_train, x_valid, y_train, y_valid = train_test_split(data, label, test_size = .3,\n",
    "                                                     random_state = 1114,\n",
    "                                                      shuffle=True,\n",
    "                                                     stratify = label)"
   ]
  },
  {
   "cell_type": "code",
   "execution_count": 78,
   "id": "1c47cf22",
   "metadata": {
    "id": "1c47cf22"
   },
   "outputs": [],
   "source": [
    "# You'd better organize the index of the split data. This is because during the pd.concat() operation, it is connected based on the index.\n",
    "# If the 'drop' factor is not given as True, the previous index is created as a new variable.\n",
    "x_train = x_train.reset_index(drop=True)\n",
    "x_valid = x_valid.reset_index(drop=True)"
   ]
  },
  {
   "cell_type": "code",
   "execution_count": null,
   "id": "1b92e7b4",
   "metadata": {
    "colab": {
     "base_uri": "https://localhost:8080/"
    },
    "executionInfo": {
     "elapsed": 704,
     "status": "ok",
     "timestamp": 1642333638836,
     "user": {
      "displayName": "SH A",
      "photoUrl": "https://lh3.googleusercontent.com/a-/AOh14GgPCbr7K55ZbkRKq14ngn3bnPQmR7G4I4f_eGn9=s64",
      "userId": "14272989099738007586"
     },
     "user_tz": -540
    },
    "id": "1b92e7b4",
    "outputId": "730e190d-bc73-4e65-80f0-d027ffadf210",
    "scrolled": true
   },
   "outputs": [
    {
     "data": {
      "text/plain": [
       "((660979, 12), (165245, 12))"
      ]
     },
     "execution_count": 50,
     "metadata": {},
     "output_type": "execute_result"
    }
   ],
   "source": [
    "x_train.shape, x_valid.shape"
   ]
  },
  {
   "cell_type": "code",
   "execution_count": null,
   "id": "18de2eb7",
   "metadata": {},
   "outputs": [],
   "source": []
  },
  {
   "cell_type": "code",
   "execution_count": null,
   "id": "2a07d9ef",
   "metadata": {},
   "outputs": [],
   "source": []
  },
  {
   "cell_type": "code",
   "execution_count": 22,
   "id": "f469309e",
   "metadata": {},
   "outputs": [
    {
     "name": "stdout",
     "output_type": "stream",
     "text": [
      "|상관 계수| < 0.1 컬럼:\n",
      "['Aspect', 'Slope', 'Horizontal_Distance_To_Hydrology', 'Vertical_Distance_To_Hydrology', 'Hillshade_9am', 'Hillshade_Noon', 'Hillshade_3pm']\n"
     ]
    }
   ],
   "source": [
    "meaningless_cols = [col for col in num_columns if col not in ['Elevation', 'Horizontal_Distance_To_Roadways', 'Horizontal_Distance_To_Fire_Points']]\n",
    "print('|상관 계수| < 0.1 컬럼:\\n{}'.format(meaningless_cols))"
   ]
  },
  {
   "cell_type": "code",
   "execution_count": 20,
   "id": "f6dd52b7",
   "metadata": {},
   "outputs": [],
   "source": [
    "from sklearn.experimental import enable_iterative_imputer\n",
    "from sklearn.impute import IterativeImputer\n",
    "from sklearn.preprocessing import RobustScaler\n",
    "from sklearn.preprocessing import OneHotEncoder"
   ]
  },
  {
   "cell_type": "code",
   "execution_count": 23,
   "id": "2590f571",
   "metadata": {},
   "outputs": [],
   "source": [
    "def preprocess(x_train, x_valid, x_test):\n",
    "    temp_x_train = x_train.copy()\n",
    "    temp_x_valid = x_valid.copy()\n",
    "    temp_x_test = x_test.copy()\n",
    "\n",
    "    temp_x_train.reset_index(drop=True, inplace=True)\n",
    "    temp_x_valid.reset_index(drop=True, inplace=True)\n",
    "\n",
    "    # 수치형 결측치 처리\n",
    "    imputer = IterativeImputer(max_iter=20, random_state=42)\n",
    "\n",
    "    temp_x_train[num_columns] = imputer.fit_transform(temp_x_train[num_columns])\n",
    "    temp_x_valid[num_columns] = imputer.transform(temp_x_valid[num_columns])\n",
    "    temp_x_test[num_columns] = imputer.transform(temp_x_test[num_columns])\n",
    "\n",
    "    # 상관 계수 0.1이하 스케일링\n",
    "    scaler = RobustScaler()\n",
    "\n",
    "    temp_x_train[meaningless_cols] = scaler.fit_transform(temp_x_train[meaningless_cols])\n",
    "    temp_x_valid[meaningless_cols] = scaler.transform(temp_x_valid[meaningless_cols])\n",
    "    temp_x_test[meaningless_cols] = scaler.transform(temp_x_test[meaningless_cols])\n",
    "\n",
    "    # 원 핫 인코딩\n",
    "    cat_all = pd.concat([temp_x_train[cat_columns],temp_x_valid[cat_columns], temp_x_test[cat_columns]], axis=0)\n",
    "    ohe = OneHotEncoder(sparse=False)\n",
    "    ohe.fit(cat_all)\n",
    "\n",
    "    ohe_columns = list()\n",
    "    for cols, col in zip(ohe.categories_, cat_columns):\n",
    "        ohe_columns += [f'{col}_{c}' for c in cols.tolist()]\n",
    "\n",
    "    cat_train = pd.DataFrame(ohe.transform(temp_x_train[cat_columns]), columns=ohe_columns)\n",
    "    cat_valid = pd.DataFrame(ohe.transform(temp_x_valid[cat_columns]), columns=ohe_columns)\n",
    "    cat_test = pd.DataFrame(ohe.transform(temp_x_test[cat_columns]), columns=ohe_columns)\n",
    "\n",
    "    temp_x_train.drop(columns=cat_columns, inplace=True)\n",
    "    temp_x_valid.drop(columns=cat_columns, inplace=True)\n",
    "    temp_x_test.drop(columns=cat_columns, inplace=True)\n",
    "\n",
    "    temp_x_train = pd.concat([temp_x_train, cat_train], axis=1)\n",
    "    temp_x_valid = pd.concat([temp_x_valid, cat_valid], axis=1)\n",
    "    temp_x_test = pd.concat([temp_x_test, cat_test], axis=1)\n",
    "\n",
    "    return temp_x_train, temp_x_valid, temp_x_test"
   ]
  },
  {
   "cell_type": "code",
   "execution_count": 24,
   "id": "7d28c766",
   "metadata": {},
   "outputs": [],
   "source": [
    "x_train, x_valid, x_test = preprocess(x_train, x_valid, x_test)"
   ]
  },
  {
   "cell_type": "code",
   "execution_count": null,
   "id": "574a818e",
   "metadata": {},
   "outputs": [],
   "source": []
  },
  {
   "cell_type": "markdown",
   "id": "MF7qhFOaa7BL",
   "metadata": {
    "id": "MF7qhFOaa7BL"
   },
   "source": [
    "#### Preprocessing missing values : Simpleimputer"
   ]
  },
  {
   "cell_type": "code",
   "execution_count": 79,
   "id": "6da1ed14",
   "metadata": {
    "id": "6da1ed14"
   },
   "outputs": [],
   "source": [
    "from sklearn.impute import SimpleImputer\n",
    "\n",
    "imputer = SimpleImputer(strategy = 'most_frequent')\n",
    "x_train[num_columns] = imputer.fit_transform(x_train[num_columns])\n",
    "x_valid[num_columns] = imputer.transform(x_valid[num_columns])\n",
    "x_test[num_columns] = imputer.transform(x_test[num_columns])"
   ]
  },
  {
   "cell_type": "markdown",
   "id": "q-hWnSFXbS09",
   "metadata": {
    "id": "q-hWnSFXbS09"
   },
   "source": [
    "#### Scaling : MinMaxScaler"
   ]
  },
  {
   "cell_type": "code",
   "execution_count": null,
   "id": "lRyVOL3ib41p",
   "metadata": {
    "id": "lRyVOL3ib41p"
   },
   "outputs": [],
   "source": [
    "# Numeric Columns : \n",
    "# ['Elevation', 'Aspect', 'Slope', 'Horizontal_Distance_To_Hydrology', 'Vertical_Distance_To_Hydrology', \n",
    "#  'Horizontal_Distance_To_Roadways', 'Hillshade_9am', 'Hillshade_Noon', 'Hillshade_3pm', 'Horizontal_Distance_To_Fire_Points']"
   ]
  },
  {
   "cell_type": "code",
   "execution_count": null,
   "id": "RfwLjUbSb5YA",
   "metadata": {
    "colab": {
     "base_uri": "https://localhost:8080/",
     "height": 561
    },
    "collapsed": true,
    "executionInfo": {
     "elapsed": 49241,
     "status": "ok",
     "timestamp": 1642333696231,
     "user": {
      "displayName": "SH A",
      "photoUrl": "https://lh3.googleusercontent.com/a-/AOh14GgPCbr7K55ZbkRKq14ngn3bnPQmR7G4I4f_eGn9=s64",
      "userId": "14272989099738007586"
     },
     "user_tz": -540
    },
    "id": "RfwLjUbSb5YA",
    "outputId": "b8f66a9b-d7e7-482a-cb19-768a041e0449"
   },
   "outputs": [
    {
     "data": {
      "text/plain": [
       "<matplotlib.axes._subplots.AxesSubplot at 0x7fc2faba1410>"
      ]
     },
     "execution_count": 13,
     "metadata": {},
     "output_type": "execute_result"
    },
    {
     "data": {
      "image/png": "[encoded data removed]",
      "text/plain": [
       "<Figure size 1800x720 with 10 Axes>"
      ]
     },
     "metadata": {},
     "output_type": "display_data"
    }
   ],
   "source": [
    "# Check the distribution of the numeric columns by distplot\n",
    "import warnings\n",
    "warnings.filterwarnings(action='ignore') \n",
    "\n",
    "sns.set_palette(\"muted\")\n",
    "sns.set_style(\"white\")\n",
    "fig, ax2 = plt.subplots(2, 5, figsize = (25, 10))\n",
    "sns.distplot(x_train['Elevation'],ax = ax2[0][0])\n",
    "sns.distplot(x_train['Aspect'],ax = ax2[0][1])\n",
    "sns.distplot(x_train['Slope'],ax = ax2[0][2])\n",
    "sns.distplot(x_train['Horizontal_Distance_To_Hydrology'],ax = ax2[0][3])\n",
    "sns.distplot(x_train['Vertical_Distance_To_Hydrology'],ax = ax2[0][4])\n",
    "sns.distplot(x_train['Horizontal_Distance_To_Roadways'],ax = ax2[1][0])\n",
    "sns.distplot(x_train['Hillshade_9am'],ax = ax2[1][1])\n",
    "sns.distplot(x_train['Hillshade_Noon'],ax = ax2[1][2])\n",
    "sns.distplot(x_train['Hillshade_3pm'],ax = ax2[1][3])\n",
    "sns.distplot(x_train['Horizontal_Distance_To_Fire_Points'],ax = ax2[1][4])"
   ]
  },
  {
   "cell_type": "markdown",
   "id": "4WAX49VFdb5b",
   "metadata": {
    "id": "4WAX49VFdb5b"
   },
   "source": [
    "Given the shape of the distribution, MinMaxScaler would be better than StandardScaler"
   ]
  },
  {
   "cell_type": "code",
   "execution_count": null,
   "id": "4c361488",
   "metadata": {
    "id": "4c361488"
   },
   "outputs": [],
   "source": [
    "# from sklearn.preprocessing import MinMaxScaler\n",
    "\n",
    "# scaler = MinMaxScaler()\n",
    "# x_train[num_columns] = scaler.fit_transform(x_train[num_columns])\n",
    "# x_valid[num_columns] = scaler.transform(x_valid[num_columns])\n",
    "# x_test[num_columns] = scaler.transform(x_test[num_columns])"
   ]
  },
  {
   "cell_type": "markdown",
   "id": "TooWHnrMV4_v",
   "metadata": {
    "id": "TooWHnrMV4_v"
   },
   "source": [
    "#### or RobustScaler?"
   ]
  },
  {
   "cell_type": "code",
   "execution_count": 80,
   "id": "rfK6gfO5V4VD",
   "metadata": {
    "id": "rfK6gfO5V4VD"
   },
   "outputs": [],
   "source": [
    "from sklearn.preprocessing import RobustScaler\n",
    "\n",
    "scaler = RobustScaler()\n",
    "x_train[num_columns] = scaler.fit_transform(x_train[num_columns])\n",
    "x_valid[num_columns] = scaler.transform(x_valid[num_columns])\n",
    "x_test[num_columns] = scaler.transform(x_test[num_columns])"
   ]
  },
  {
   "cell_type": "code",
   "execution_count": null,
   "id": "af352f5c",
   "metadata": {
    "colab": {
     "base_uri": "https://localhost:8080/",
     "height": 364
    },
    "executionInfo": {
     "elapsed": 864,
     "status": "ok",
     "timestamp": 1642428278196,
     "user": {
      "displayName": "SH A",
      "photoUrl": "https://lh3.googleusercontent.com/a-/AOh14GgPCbr7K55ZbkRKq14ngn3bnPQmR7G4I4f_eGn9=s64",
      "userId": "14272989099738007586"
     },
     "user_tz": -540
    },
    "id": "af352f5c",
    "outputId": "3f71e869-bb17-4ee8-e6ac-2ebd98860fdf"
   },
   "outputs": [
    {
     "data": {
      "text/html": [
       "\n",
       "  <div id=\"df-3274ed82-4817-474e-b9a9-cf7e61dff0f0\">\n",
       "    <div class=\"colab-df-container\">\n",
       "      <div>\n",
       "<style scoped>\n",
       "    .dataframe tbody tr th:only-of-type {\n",
       "        vertical-align: middle;\n",
       "    }\n",
       "\n",
       "    .dataframe tbody tr th {\n",
       "        vertical-align: top;\n",
       "    }\n",
       "\n",
       "    .dataframe thead th {\n",
       "        text-align: right;\n",
       "    }\n",
       "</style>\n",
       "<table border=\"1\" class=\"dataframe\">\n",
       "  <thead>\n",
       "    <tr style=\"text-align: right;\">\n",
       "      <th></th>\n",
       "      <th>Elevation</th>\n",
       "      <th>Aspect</th>\n",
       "      <th>Slope</th>\n",
       "      <th>Horizontal_Distance_To_Hydrology</th>\n",
       "      <th>Vertical_Distance_To_Hydrology</th>\n",
       "      <th>Horizontal_Distance_To_Roadways</th>\n",
       "      <th>Hillshade_9am</th>\n",
       "      <th>Hillshade_Noon</th>\n",
       "      <th>Hillshade_3pm</th>\n",
       "      <th>Horizontal_Distance_To_Fire_Points</th>\n",
       "    </tr>\n",
       "  </thead>\n",
       "  <tbody>\n",
       "    <tr>\n",
       "      <th>count</th>\n",
       "      <td>660979.000000</td>\n",
       "      <td>660979.000000</td>\n",
       "      <td>660979.000000</td>\n",
       "      <td>660979.000000</td>\n",
       "      <td>660979.000000</td>\n",
       "      <td>660979.000000</td>\n",
       "      <td>660979.000000</td>\n",
       "      <td>660979.000000</td>\n",
       "      <td>660979.000000</td>\n",
       "      <td>660979.000000</td>\n",
       "    </tr>\n",
       "    <tr>\n",
       "      <th>mean</th>\n",
       "      <td>0.021759</td>\n",
       "      <td>0.154182</td>\n",
       "      <td>0.114878</td>\n",
       "      <td>0.232679</td>\n",
       "      <td>0.278386</td>\n",
       "      <td>0.253262</td>\n",
       "      <td>-0.215858</td>\n",
       "      <td>-0.154025</td>\n",
       "      <td>-0.062776</td>\n",
       "      <td>0.215625</td>\n",
       "    </tr>\n",
       "    <tr>\n",
       "      <th>std</th>\n",
       "      <td>0.639725</td>\n",
       "      <td>0.590764</td>\n",
       "      <td>0.781197</td>\n",
       "      <td>0.897876</td>\n",
       "      <td>0.914011</td>\n",
       "      <td>0.907059</td>\n",
       "      <td>0.886671</td>\n",
       "      <td>0.873783</td>\n",
       "      <td>0.836414</td>\n",
       "      <td>0.914672</td>\n",
       "    </tr>\n",
       "    <tr>\n",
       "      <th>min</th>\n",
       "      <td>-2.231969</td>\n",
       "      <td>-0.827957</td>\n",
       "      <td>-1.545455</td>\n",
       "      <td>-1.134921</td>\n",
       "      <td>-4.405405</td>\n",
       "      <td>-1.158309</td>\n",
       "      <td>-6.352941</td>\n",
       "      <td>-6.760000</td>\n",
       "      <td>-3.823529</td>\n",
       "      <td>-1.247706</td>\n",
       "    </tr>\n",
       "    <tr>\n",
       "      <th>25%</th>\n",
       "      <td>-0.448343</td>\n",
       "      <td>-0.333333</td>\n",
       "      <td>-0.454545</td>\n",
       "      <td>-0.408730</td>\n",
       "      <td>-0.364865</td>\n",
       "      <td>-0.366046</td>\n",
       "      <td>-0.617647</td>\n",
       "      <td>-0.560000</td>\n",
       "      <td>-0.549020</td>\n",
       "      <td>-0.392827</td>\n",
       "    </tr>\n",
       "    <tr>\n",
       "      <th>50%</th>\n",
       "      <td>0.000000</td>\n",
       "      <td>0.000000</td>\n",
       "      <td>0.000000</td>\n",
       "      <td>0.000000</td>\n",
       "      <td>0.000000</td>\n",
       "      <td>0.000000</td>\n",
       "      <td>0.000000</td>\n",
       "      <td>0.000000</td>\n",
       "      <td>0.000000</td>\n",
       "      <td>0.000000</td>\n",
       "    </tr>\n",
       "    <tr>\n",
       "      <th>75%</th>\n",
       "      <td>0.551657</td>\n",
       "      <td>0.666667</td>\n",
       "      <td>0.545455</td>\n",
       "      <td>0.591270</td>\n",
       "      <td>0.635135</td>\n",
       "      <td>0.633954</td>\n",
       "      <td>0.382353</td>\n",
       "      <td>0.440000</td>\n",
       "      <td>0.450980</td>\n",
       "      <td>0.607173</td>\n",
       "    </tr>\n",
       "    <tr>\n",
       "      <th>max</th>\n",
       "      <td>2.709552</td>\n",
       "      <td>1.516129</td>\n",
       "      <td>4.454545</td>\n",
       "      <td>5.412698</td>\n",
       "      <td>8.081081</td>\n",
       "      <td>4.538682</td>\n",
       "      <td>2.088235</td>\n",
       "      <td>2.160000</td>\n",
       "      <td>2.490196</td>\n",
       "      <td>5.631359</td>\n",
       "    </tr>\n",
       "  </tbody>\n",
       "</table>\n",
       "</div>\n",
       "      <button class=\"colab-df-convert\" onclick=\"convertToInteractive('df-3274ed82-4817-474e-b9a9-cf7e61dff0f0')\"\n",
       "              title=\"Convert this dataframe to an interactive table.\"\n",
       "              style=\"display:none;\">\n",
       "        \n",
       "  <svg xmlns=\"http://www.w3.org/2000/svg\" height=\"24px\"viewBox=\"0 0 24 24\"\n",
       "       width=\"24px\">\n",
       "    <path d=\"M0 0h24v24H0V0z\" fill=\"none\"/>\n",
       "    <path d=\"M18.56 5.44l.94 2.06.94-2.06 2.06-.94-2.06-.94-.94-2.06-.94 2.06-2.06.94zm-11 1L8.5 8.5l.94-2.06 2.06-.94-2.06-.94L8.5 2.5l-.94 2.06-2.06.94zm10 10l.94 2.06.94-2.06 2.06-.94-2.06-.94-.94-2.06-.94 2.06-2.06.94z\"/><path d=\"M17.41 7.96l-1.37-1.37c-.4-.4-.92-.59-1.43-.59-.52 0-1.04.2-1.43.59L10.3 9.45l-7.72 7.72c-.78.78-.78 2.05 0 2.83L4 21.41c.39.39.9.59 1.41.59.51 0 1.02-.2 1.41-.59l7.78-7.78 2.81-2.81c.8-.78.8-2.07 0-2.86zM5.41 20L4 18.59l7.72-7.72 1.47 1.35L5.41 20z\"/>\n",
       "  </svg>\n",
       "      </button>\n",
       "      \n",
       "  <style>\n",
       "    .colab-df-container {\n",
       "      display:flex;\n",
       "      flex-wrap:wrap;\n",
       "      gap: 12px;\n",
       "    }\n",
       "\n",
       "    .colab-df-convert {\n",
       "      background-color: #E8F0FE;\n",
       "      border: none;\n",
       "      border-radius: 50%;\n",
       "      cursor: pointer;\n",
       "      display: none;\n",
       "      fill: #1967D2;\n",
       "      height: 32px;\n",
       "      padding: 0 0 0 0;\n",
       "      width: 32px;\n",
       "    }\n",
       "\n",
       "    .colab-df-convert:hover {\n",
       "      background-color: #E2EBFA;\n",
       "      box-shadow: 0px 1px 2px rgba(60, 64, 67, 0.3), 0px 1px 3px 1px rgba(60, 64, 67, 0.15);\n",
       "      fill: #174EA6;\n",
       "    }\n",
       "\n",
       "    [theme=dark] .colab-df-convert {\n",
       "      background-color: #3B4455;\n",
       "      fill: #D2E3FC;\n",
       "    }\n",
       "\n",
       "    [theme=dark] .colab-df-convert:hover {\n",
       "      background-color: #434B5C;\n",
       "      box-shadow: 0px 1px 3px 1px rgba(0, 0, 0, 0.15);\n",
       "      filter: drop-shadow(0px 1px 2px rgba(0, 0, 0, 0.3));\n",
       "      fill: #FFFFFF;\n",
       "    }\n",
       "  </style>\n",
       "\n",
       "      <script>\n",
       "        const buttonEl =\n",
       "          document.querySelector('#df-3274ed82-4817-474e-b9a9-cf7e61dff0f0 button.colab-df-convert');\n",
       "        buttonEl.style.display =\n",
       "          google.colab.kernel.accessAllowed ? 'block' : 'none';\n",
       "\n",
       "        async function convertToInteractive(key) {\n",
       "          const element = document.querySelector('#df-3274ed82-4817-474e-b9a9-cf7e61dff0f0');\n",
       "          const dataTable =\n",
       "            await google.colab.kernel.invokeFunction('convertToInteractive',\n",
       "                                                     [key], {});\n",
       "          if (!dataTable) return;\n",
       "\n",
       "          const docLinkHtml = 'Like what you see? Visit the ' +\n",
       "            '<a target=\"_blank\" href=https://colab.research.google.com/notebooks/data_table.ipynb>data table notebook</a>'\n",
       "            + ' to learn more about interactive tables.';\n",
       "          element.innerHTML = '';\n",
       "          dataTable['output_type'] = 'display_data';\n",
       "          await google.colab.output.renderOutput(dataTable, element);\n",
       "          const docLink = document.createElement('div');\n",
       "          docLink.innerHTML = docLinkHtml;\n",
       "          element.appendChild(docLink);\n",
       "        }\n",
       "      </script>\n",
       "    </div>\n",
       "  </div>\n",
       "  "
      ],
      "text/plain": [
       "           Elevation  ...  Horizontal_Distance_To_Fire_Points\n",
       "count  660979.000000  ...                       660979.000000\n",
       "mean        0.021759  ...                            0.215625\n",
       "std         0.639725  ...                            0.914672\n",
       "min        -2.231969  ...                           -1.247706\n",
       "25%        -0.448343  ...                           -0.392827\n",
       "50%         0.000000  ...                            0.000000\n",
       "75%         0.551657  ...                            0.607173\n",
       "max         2.709552  ...                            5.631359\n",
       "\n",
       "[8 rows x 10 columns]"
      ]
     },
     "execution_count": 10,
     "metadata": {},
     "output_type": "execute_result"
    }
   ],
   "source": [
    "x_train[num_columns].describe()"
   ]
  },
  {
   "cell_type": "code",
   "execution_count": null,
   "id": "f225867a",
   "metadata": {
    "colab": {
     "base_uri": "https://localhost:8080/",
     "height": 364
    },
    "executionInfo": {
     "elapsed": 341,
     "status": "ok",
     "timestamp": 1642428285292,
     "user": {
      "displayName": "SH A",
      "photoUrl": "https://lh3.googleusercontent.com/a-/AOh14GgPCbr7K55ZbkRKq14ngn3bnPQmR7G4I4f_eGn9=s64",
      "userId": "14272989099738007586"
     },
     "user_tz": -540
    },
    "id": "f225867a",
    "outputId": "c3170c6f-b0ca-43ed-f89d-a1ad23f3156d"
   },
   "outputs": [
    {
     "data": {
      "text/html": [
       "\n",
       "  <div id=\"df-e9b2a2de-959a-488a-a622-15967fd59f79\">\n",
       "    <div class=\"colab-df-container\">\n",
       "      <div>\n",
       "<style scoped>\n",
       "    .dataframe tbody tr th:only-of-type {\n",
       "        vertical-align: middle;\n",
       "    }\n",
       "\n",
       "    .dataframe tbody tr th {\n",
       "        vertical-align: top;\n",
       "    }\n",
       "\n",
       "    .dataframe thead th {\n",
       "        text-align: right;\n",
       "    }\n",
       "</style>\n",
       "<table border=\"1\" class=\"dataframe\">\n",
       "  <thead>\n",
       "    <tr style=\"text-align: right;\">\n",
       "      <th></th>\n",
       "      <th>Elevation</th>\n",
       "      <th>Aspect</th>\n",
       "      <th>Slope</th>\n",
       "      <th>Horizontal_Distance_To_Hydrology</th>\n",
       "      <th>Vertical_Distance_To_Hydrology</th>\n",
       "      <th>Horizontal_Distance_To_Roadways</th>\n",
       "      <th>Hillshade_9am</th>\n",
       "      <th>Hillshade_Noon</th>\n",
       "      <th>Hillshade_3pm</th>\n",
       "      <th>Horizontal_Distance_To_Fire_Points</th>\n",
       "    </tr>\n",
       "  </thead>\n",
       "  <tbody>\n",
       "    <tr>\n",
       "      <th>count</th>\n",
       "      <td>165245.000000</td>\n",
       "      <td>165245.000000</td>\n",
       "      <td>165245.000000</td>\n",
       "      <td>165245.000000</td>\n",
       "      <td>165245.000000</td>\n",
       "      <td>165245.000000</td>\n",
       "      <td>165245.000000</td>\n",
       "      <td>165245.000000</td>\n",
       "      <td>165245.000000</td>\n",
       "      <td>165245.000000</td>\n",
       "    </tr>\n",
       "    <tr>\n",
       "      <th>mean</th>\n",
       "      <td>0.023555</td>\n",
       "      <td>0.149863</td>\n",
       "      <td>0.113648</td>\n",
       "      <td>0.236238</td>\n",
       "      <td>0.276011</td>\n",
       "      <td>0.250460</td>\n",
       "      <td>-0.213407</td>\n",
       "      <td>-0.155222</td>\n",
       "      <td>-0.064422</td>\n",
       "      <td>0.215532</td>\n",
       "    </tr>\n",
       "    <tr>\n",
       "      <th>std</th>\n",
       "      <td>0.640089</td>\n",
       "      <td>0.590111</td>\n",
       "      <td>0.779079</td>\n",
       "      <td>0.901876</td>\n",
       "      <td>0.911631</td>\n",
       "      <td>0.904075</td>\n",
       "      <td>0.883979</td>\n",
       "      <td>0.874722</td>\n",
       "      <td>0.831684</td>\n",
       "      <td>0.916299</td>\n",
       "    </tr>\n",
       "    <tr>\n",
       "      <th>min</th>\n",
       "      <td>-2.237817</td>\n",
       "      <td>-0.811828</td>\n",
       "      <td>-1.454545</td>\n",
       "      <td>-1.019841</td>\n",
       "      <td>-4.283784</td>\n",
       "      <td>-1.125358</td>\n",
       "      <td>-6.117647</td>\n",
       "      <td>-6.720000</td>\n",
       "      <td>-3.686275</td>\n",
       "      <td>-1.239366</td>\n",
       "    </tr>\n",
       "    <tr>\n",
       "      <th>25%</th>\n",
       "      <td>-0.446394</td>\n",
       "      <td>-0.338710</td>\n",
       "      <td>-0.454545</td>\n",
       "      <td>-0.408730</td>\n",
       "      <td>-0.364865</td>\n",
       "      <td>-0.368195</td>\n",
       "      <td>-0.617647</td>\n",
       "      <td>-0.560000</td>\n",
       "      <td>-0.549020</td>\n",
       "      <td>-0.396163</td>\n",
       "    </tr>\n",
       "    <tr>\n",
       "      <th>50%</th>\n",
       "      <td>0.000000</td>\n",
       "      <td>-0.005376</td>\n",
       "      <td>0.000000</td>\n",
       "      <td>0.003968</td>\n",
       "      <td>0.000000</td>\n",
       "      <td>-0.002149</td>\n",
       "      <td>0.000000</td>\n",
       "      <td>0.000000</td>\n",
       "      <td>0.000000</td>\n",
       "      <td>0.000000</td>\n",
       "    </tr>\n",
       "    <tr>\n",
       "      <th>75%</th>\n",
       "      <td>0.553606</td>\n",
       "      <td>0.661290</td>\n",
       "      <td>0.545455</td>\n",
       "      <td>0.599206</td>\n",
       "      <td>0.635135</td>\n",
       "      <td>0.630372</td>\n",
       "      <td>0.382353</td>\n",
       "      <td>0.440000</td>\n",
       "      <td>0.450980</td>\n",
       "      <td>0.609675</td>\n",
       "    </tr>\n",
       "    <tr>\n",
       "      <th>max</th>\n",
       "      <td>2.656920</td>\n",
       "      <td>1.505376</td>\n",
       "      <td>4.454545</td>\n",
       "      <td>5.301587</td>\n",
       "      <td>7.837838</td>\n",
       "      <td>4.396848</td>\n",
       "      <td>1.970588</td>\n",
       "      <td>1.600000</td>\n",
       "      <td>2.431373</td>\n",
       "      <td>5.652210</td>\n",
       "    </tr>\n",
       "  </tbody>\n",
       "</table>\n",
       "</div>\n",
       "      <button class=\"colab-df-convert\" onclick=\"convertToInteractive('df-e9b2a2de-959a-488a-a622-15967fd59f79')\"\n",
       "              title=\"Convert this dataframe to an interactive table.\"\n",
       "              style=\"display:none;\">\n",
       "        \n",
       "  <svg xmlns=\"http://www.w3.org/2000/svg\" height=\"24px\"viewBox=\"0 0 24 24\"\n",
       "       width=\"24px\">\n",
       "    <path d=\"M0 0h24v24H0V0z\" fill=\"none\"/>\n",
       "    <path d=\"M18.56 5.44l.94 2.06.94-2.06 2.06-.94-2.06-.94-.94-2.06-.94 2.06-2.06.94zm-11 1L8.5 8.5l.94-2.06 2.06-.94-2.06-.94L8.5 2.5l-.94 2.06-2.06.94zm10 10l.94 2.06.94-2.06 2.06-.94-2.06-.94-.94-2.06-.94 2.06-2.06.94z\"/><path d=\"M17.41 7.96l-1.37-1.37c-.4-.4-.92-.59-1.43-.59-.52 0-1.04.2-1.43.59L10.3 9.45l-7.72 7.72c-.78.78-.78 2.05 0 2.83L4 21.41c.39.39.9.59 1.41.59.51 0 1.02-.2 1.41-.59l7.78-7.78 2.81-2.81c.8-.78.8-2.07 0-2.86zM5.41 20L4 18.59l7.72-7.72 1.47 1.35L5.41 20z\"/>\n",
       "  </svg>\n",
       "      </button>\n",
       "      \n",
       "  <style>\n",
       "    .colab-df-container {\n",
       "      display:flex;\n",
       "      flex-wrap:wrap;\n",
       "      gap: 12px;\n",
       "    }\n",
       "\n",
       "    .colab-df-convert {\n",
       "      background-color: #E8F0FE;\n",
       "      border: none;\n",
       "      border-radius: 50%;\n",
       "      cursor: pointer;\n",
       "      display: none;\n",
       "      fill: #1967D2;\n",
       "      height: 32px;\n",
       "      padding: 0 0 0 0;\n",
       "      width: 32px;\n",
       "    }\n",
       "\n",
       "    .colab-df-convert:hover {\n",
       "      background-color: #E2EBFA;\n",
       "      box-shadow: 0px 1px 2px rgba(60, 64, 67, 0.3), 0px 1px 3px 1px rgba(60, 64, 67, 0.15);\n",
       "      fill: #174EA6;\n",
       "    }\n",
       "\n",
       "    [theme=dark] .colab-df-convert {\n",
       "      background-color: #3B4455;\n",
       "      fill: #D2E3FC;\n",
       "    }\n",
       "\n",
       "    [theme=dark] .colab-df-convert:hover {\n",
       "      background-color: #434B5C;\n",
       "      box-shadow: 0px 1px 3px 1px rgba(0, 0, 0, 0.15);\n",
       "      filter: drop-shadow(0px 1px 2px rgba(0, 0, 0, 0.3));\n",
       "      fill: #FFFFFF;\n",
       "    }\n",
       "  </style>\n",
       "\n",
       "      <script>\n",
       "        const buttonEl =\n",
       "          document.querySelector('#df-e9b2a2de-959a-488a-a622-15967fd59f79 button.colab-df-convert');\n",
       "        buttonEl.style.display =\n",
       "          google.colab.kernel.accessAllowed ? 'block' : 'none';\n",
       "\n",
       "        async function convertToInteractive(key) {\n",
       "          const element = document.querySelector('#df-e9b2a2de-959a-488a-a622-15967fd59f79');\n",
       "          const dataTable =\n",
       "            await google.colab.kernel.invokeFunction('convertToInteractive',\n",
       "                                                     [key], {});\n",
       "          if (!dataTable) return;\n",
       "\n",
       "          const docLinkHtml = 'Like what you see? Visit the ' +\n",
       "            '<a target=\"_blank\" href=https://colab.research.google.com/notebooks/data_table.ipynb>data table notebook</a>'\n",
       "            + ' to learn more about interactive tables.';\n",
       "          element.innerHTML = '';\n",
       "          dataTable['output_type'] = 'display_data';\n",
       "          await google.colab.output.renderOutput(dataTable, element);\n",
       "          const docLink = document.createElement('div');\n",
       "          docLink.innerHTML = docLinkHtml;\n",
       "          element.appendChild(docLink);\n",
       "        }\n",
       "      </script>\n",
       "    </div>\n",
       "  </div>\n",
       "  "
      ],
      "text/plain": [
       "           Elevation  ...  Horizontal_Distance_To_Fire_Points\n",
       "count  165245.000000  ...                       165245.000000\n",
       "mean        0.023555  ...                            0.215532\n",
       "std         0.640089  ...                            0.916299\n",
       "min        -2.237817  ...                           -1.239366\n",
       "25%        -0.446394  ...                           -0.396163\n",
       "50%         0.000000  ...                            0.000000\n",
       "75%         0.553606  ...                            0.609675\n",
       "max         2.656920  ...                            5.652210\n",
       "\n",
       "[8 rows x 10 columns]"
      ]
     },
     "execution_count": 11,
     "metadata": {},
     "output_type": "execute_result"
    }
   ],
   "source": [
    "x_valid[num_columns].describe()"
   ]
  },
  {
   "cell_type": "markdown",
   "id": "J-XtVKuqeBLa",
   "metadata": {
    "id": "J-XtVKuqeBLa"
   },
   "source": [
    "#### Modeling : Let's try everything possible"
   ]
  },
  {
   "cell_type": "markdown",
   "id": "791703b7",
   "metadata": {
    "id": "791703b7"
   },
   "source": [
    "#### Logistic Regression"
   ]
  },
  {
   "cell_type": "code",
   "execution_count": 81,
   "id": "2ca378e8",
   "metadata": {
    "id": "2ca378e8"
   },
   "outputs": [],
   "source": [
    "from sklearn.metrics import accuracy_score, log_loss, f1_score, confusion_matrix"
   ]
  },
  {
   "cell_type": "code",
   "execution_count": null,
   "id": "0d0db9fe",
   "metadata": {
    "id": "0d0db9fe"
   },
   "outputs": [],
   "source": [
    "from sklearn.linear_model import LogisticRegression\n",
    "lr = LogisticRegression()"
   ]
  },
  {
   "cell_type": "code",
   "execution_count": null,
   "id": "ac85ee5a",
   "metadata": {
    "colab": {
     "base_uri": "https://localhost:8080/"
    },
    "executionInfo": {
     "elapsed": 34980,
     "status": "ok",
     "timestamp": 1642315713315,
     "user": {
      "displayName": "SH A",
      "photoUrl": "https://lh3.googleusercontent.com/a-/AOh14GgPCbr7K55ZbkRKq14ngn3bnPQmR7G4I4f_eGn9=s64",
      "userId": "14272989099738007586"
     },
     "user_tz": -540
    },
    "id": "ac85ee5a",
    "outputId": "5f27c0b7-a09d-4d28-ba97-1ad638be348a"
   },
   "outputs": [
    {
     "name": "stderr",
     "output_type": "stream",
     "text": [
      "C:\\Users\\TFG5076XG\\anaconda3\\lib\\site-packages\\sklearn\\linear_model\\_logistic.py:814: ConvergenceWarning: lbfgs failed to converge (status=1):\n",
      "STOP: TOTAL NO. of ITERATIONS REACHED LIMIT.\n",
      "\n",
      "Increase the number of iterations (max_iter) or scale the data as shown in:\n",
      "    https://scikit-learn.org/stable/modules/preprocessing.html\n",
      "Please also refer to the documentation for alternative solver options:\n",
      "    https://scikit-learn.org/stable/modules/linear_model.html#logistic-regression\n",
      "  n_iter_i = _check_optimize_result(\n"
     ]
    },
    {
     "data": {
      "text/plain": [
       "LogisticRegression()"
      ]
     },
     "execution_count": 88,
     "metadata": {},
     "output_type": "execute_result"
    }
   ],
   "source": [
    "lr.fit(x_train, y_train)"
   ]
  },
  {
   "cell_type": "code",
   "execution_count": null,
   "id": "326ee028",
   "metadata": {
    "id": "326ee028"
   },
   "outputs": [],
   "source": [
    "y_pred = lr.predict(x_valid)\n",
    "y_pred_proba = lr.predict_proba(x_valid)"
   ]
  },
  {
   "cell_type": "code",
   "execution_count": null,
   "id": "2434e8ee",
   "metadata": {
    "colab": {
     "base_uri": "https://localhost:8080/"
    },
    "executionInfo": {
     "elapsed": 3413,
     "status": "ok",
     "timestamp": 1642315732445,
     "user": {
      "displayName": "SH A",
      "photoUrl": "https://lh3.googleusercontent.com/a-/AOh14GgPCbr7K55ZbkRKq14ngn3bnPQmR7G4I4f_eGn9=s64",
      "userId": "14272989099738007586"
     },
     "user_tz": -540
    },
    "id": "2434e8ee",
    "outputId": "a5107914-652e-4058-d3b7-60f1d9491df9"
   },
   "outputs": [
    {
     "name": "stdout",
     "output_type": "stream",
     "text": [
      "로지스틱 회귀, 정확도 : 0.8896\n",
      "로지스틱 회귀, Log loss : 0.2967\n"
     ]
    }
   ],
   "source": [
    "print('로지스틱 회귀, 정확도 : {:.4f}'.format(accuracy_score(y_valid, y_pred)))\n",
    "print('로지스틱 회귀, Log loss : {:.4f}'.format(log_loss(y_valid, y_pred_proba)))"
   ]
  },
  {
   "cell_type": "code",
   "execution_count": null,
   "id": "e53beb45",
   "metadata": {
    "colab": {
     "base_uri": "https://localhost:8080/"
    },
    "collapsed": true,
    "executionInfo": {
     "elapsed": 314,
     "status": "ok",
     "timestamp": 1642315737428,
     "user": {
      "displayName": "SH A",
      "photoUrl": "https://lh3.googleusercontent.com/a-/AOh14GgPCbr7K55ZbkRKq14ngn3bnPQmR7G4I4f_eGn9=s64",
      "userId": "14272989099738007586"
     },
     "user_tz": -540
    },
    "id": "e53beb45",
    "outputId": "f6e731b2-ef99-4de0-f96a-ff14dc047a67"
   },
   "outputs": [
    {
     "name": "stdout",
     "output_type": "stream",
     "text": [
      "로지스틱 회귀, 계수(w) : [[ 1.83724471e+01 -1.80643915e+00 -5.15529410e-02 -1.07945177e+00\n",
      "  -1.62007802e+00  4.39287058e-01 -1.54874328e-01 -2.36069052e-01\n",
      "  -1.23388467e-01  1.05588190e+00  5.06691146e-02 -3.13219833e+00]\n",
      " [-1.20781779e+01  6.13452073e-02  3.16297791e-01  2.11287639e-01\n",
      "   2.85091475e+00  8.18906279e-01  1.60679110e+00  2.01245000e+00\n",
      "   1.78950670e-02  2.07644215e+00  5.28215669e-02 -2.58643517e+00]\n",
      " [-1.37852074e+01  1.03508756e+00  2.24304905e-01  5.05828601e-01\n",
      "  -3.48063662e-01 -3.63789942e+00 -9.01936221e-01 -1.14960308e+00\n",
      "  -7.50504221e-02 -4.03400677e+00 -2.38657988e-01  7.22587274e+00]\n",
      " [ 7.49093814e+00  7.10006387e-01 -4.89049755e-01  3.62335531e-01\n",
      "  -8.82773066e-01  2.37970608e+00 -5.49980555e-01 -6.26777866e-01\n",
      "   1.80543822e-01  9.01682710e-01  1.35167307e-01 -1.50723925e+00]], 절편(b) : [-0.91076733  8.03571948 -4.55189622 -2.57305593]\n"
     ]
    }
   ],
   "source": [
    "print('로지스틱 회귀, 계수(w) : {}, 절편(b) : {}'.format(lr.coef_, lr.intercept_))"
   ]
  },
  {
   "cell_type": "markdown",
   "id": "b2cc4146",
   "metadata": {
    "id": "b2cc4146"
   },
   "source": [
    "#### SVM"
   ]
  },
  {
   "cell_type": "code",
   "execution_count": null,
   "id": "20887c34",
   "metadata": {
    "id": "20887c34"
   },
   "outputs": [],
   "source": [
    "from sklearn.svm import SVC\n",
    "svc = SVC(probability=True, max_iter = 100)"
   ]
  },
  {
   "cell_type": "code",
   "execution_count": null,
   "id": "96f3f189",
   "metadata": {
    "colab": {
     "base_uri": "https://localhost:8080/"
    },
    "executionInfo": {
     "elapsed": 279726,
     "status": "ok",
     "timestamp": 1642316045580,
     "user": {
      "displayName": "SH A",
      "photoUrl": "https://lh3.googleusercontent.com/a-/AOh14GgPCbr7K55ZbkRKq14ngn3bnPQmR7G4I4f_eGn9=s64",
      "userId": "14272989099738007586"
     },
     "user_tz": -540
    },
    "id": "96f3f189",
    "outputId": "d9f2272b-58b1-4433-915b-666d82ae2939"
   },
   "outputs": [
    {
     "data": {
      "text/plain": [
       "SVC(max_iter=100, probability=True)"
      ]
     },
     "execution_count": 43,
     "metadata": {},
     "output_type": "execute_result"
    }
   ],
   "source": [
    "svc.fit(x_train, y_train)"
   ]
  },
  {
   "cell_type": "code",
   "execution_count": null,
   "id": "74acdc80",
   "metadata": {
    "id": "74acdc80"
   },
   "outputs": [],
   "source": [
    "y_pred = svc.predict(x_valid)\n",
    "y_pred_proba = svc.predict_proba(x_valid)"
   ]
  },
  {
   "cell_type": "code",
   "execution_count": null,
   "id": "e37fb131",
   "metadata": {
    "colab": {
     "base_uri": "https://localhost:8080/"
    },
    "executionInfo": {
     "elapsed": 341,
     "status": "ok",
     "timestamp": 1642316134361,
     "user": {
      "displayName": "SH A",
      "photoUrl": "https://lh3.googleusercontent.com/a-/AOh14GgPCbr7K55ZbkRKq14ngn3bnPQmR7G4I4f_eGn9=s64",
      "userId": "14272989099738007586"
     },
     "user_tz": -540
    },
    "id": "e37fb131",
    "outputId": "3688a157-0999-432f-9c28-1509946904fa"
   },
   "outputs": [
    {
     "name": "stdout",
     "output_type": "stream",
     "text": [
      "서포트 벡터 머신, 정확도 : 0.3533\n",
      "서포트 벡터 머신, Log loss : 1.2458\n"
     ]
    }
   ],
   "source": [
    "print('서포트 벡터 머신, 정확도 : {:.4f}'.format(accuracy_score(y_valid, y_pred)))\n",
    "print('서포트 벡터 머신, Log loss : {:.4f}'.format(log_loss(y_valid, y_pred_proba)))"
   ]
  },
  {
   "cell_type": "markdown",
   "id": "2bd12488",
   "metadata": {
    "id": "2bd12488"
   },
   "source": [
    "#### Decision Tree"
   ]
  },
  {
   "cell_type": "code",
   "execution_count": 25,
   "id": "59e508e2",
   "metadata": {
    "id": "59e508e2"
   },
   "outputs": [],
   "source": [
    "from sklearn.tree import DecisionTreeClassifier\n",
    "dt = DecisionTreeClassifier()"
   ]
  },
  {
   "cell_type": "code",
   "execution_count": 26,
   "id": "ee866aa4",
   "metadata": {
    "colab": {
     "base_uri": "https://localhost:8080/"
    },
    "executionInfo": {
     "elapsed": 9990,
     "status": "ok",
     "timestamp": 1642316162295,
     "user": {
      "displayName": "SH A",
      "photoUrl": "https://lh3.googleusercontent.com/a-/AOh14GgPCbr7K55ZbkRKq14ngn3bnPQmR7G4I4f_eGn9=s64",
      "userId": "14272989099738007586"
     },
     "user_tz": -540
    },
    "id": "ee866aa4",
    "outputId": "79801e46-6bd1-4b2d-b15b-164af85a8262"
   },
   "outputs": [
    {
     "data": {
      "text/plain": [
       "DecisionTreeClassifier()"
      ]
     },
     "execution_count": 26,
     "metadata": {},
     "output_type": "execute_result"
    }
   ],
   "source": [
    "dt.fit(x_train, y_train)"
   ]
  },
  {
   "cell_type": "code",
   "execution_count": 27,
   "id": "ed63e11f",
   "metadata": {
    "id": "ed63e11f"
   },
   "outputs": [],
   "source": [
    "y_pred = dt.predict(x_valid)\n",
    "y_pred_proba = dt.predict_proba(x_valid)"
   ]
  },
  {
   "cell_type": "code",
   "execution_count": 28,
   "id": "94c15650",
   "metadata": {
    "colab": {
     "base_uri": "https://localhost:8080/"
    },
    "executionInfo": {
     "elapsed": 327,
     "status": "ok",
     "timestamp": 1642316169615,
     "user": {
      "displayName": "SH A",
      "photoUrl": "https://lh3.googleusercontent.com/a-/AOh14GgPCbr7K55ZbkRKq14ngn3bnPQmR7G4I4f_eGn9=s64",
      "userId": "14272989099738007586"
     },
     "user_tz": -540
    },
    "id": "94c15650",
    "outputId": "e2c394fb-4a16-4269-f01d-26ab6655c318"
   },
   "outputs": [
    {
     "name": "stdout",
     "output_type": "stream",
     "text": [
      "결정 트리, 정확도 : 0.9031\n",
      "결정 트리, Log loss : 3.3477\n"
     ]
    }
   ],
   "source": [
    "print('결정 트리, 정확도 : {:.4f}'.format(accuracy_score(y_valid, y_pred)))\n",
    "print('결정 트리, Log loss : {:.4f}'.format(log_loss(y_valid, y_pred_proba)))"
   ]
  },
  {
   "cell_type": "markdown",
   "id": "fe5a5a58",
   "metadata": {
    "id": "fe5a5a58"
   },
   "source": [
    "#### Random Forest"
   ]
  },
  {
   "cell_type": "code",
   "execution_count": 29,
   "id": "df301c50",
   "metadata": {
    "id": "df301c50"
   },
   "outputs": [],
   "source": [
    "from sklearn.ensemble import RandomForestClassifier\n",
    "rf = RandomForestClassifier()"
   ]
  },
  {
   "cell_type": "code",
   "execution_count": null,
   "id": "Va6QkS5IsN5P",
   "metadata": {
    "id": "Va6QkS5IsN5P"
   },
   "outputs": [],
   "source": [
    "from sklearn.model_selection import GridSearchCV, RandomizedSearchCV"
   ]
  },
  {
   "cell_type": "code",
   "execution_count": 30,
   "id": "P7I3HX9EsVgW",
   "metadata": {
    "id": "P7I3HX9EsVgW"
   },
   "outputs": [],
   "source": [
    "rf = RandomForestClassifier(max_depth=15)"
   ]
  },
  {
   "cell_type": "code",
   "execution_count": 31,
   "id": "f0cca136",
   "metadata": {
    "colab": {
     "base_uri": "https://localhost:8080/",
     "height": 323
    },
    "executionInfo": {
     "elapsed": 508107,
     "status": "error",
     "timestamp": 1642318156724,
     "user": {
      "displayName": "SH A",
      "photoUrl": "https://lh3.googleusercontent.com/a-/AOh14GgPCbr7K55ZbkRKq14ngn3bnPQmR7G4I4f_eGn9=s64",
      "userId": "14272989099738007586"
     },
     "user_tz": -540
    },
    "id": "f0cca136",
    "outputId": "50db1285-bdfe-490e-9fdc-a0426bd245d3"
   },
   "outputs": [
    {
     "data": {
      "text/plain": [
       "RandomForestClassifier(max_depth=15)"
      ]
     },
     "execution_count": 31,
     "metadata": {},
     "output_type": "execute_result"
    }
   ],
   "source": [
    "rf.fit(x_train, y_train)"
   ]
  },
  {
   "cell_type": "code",
   "execution_count": null,
   "id": "o7Ns-S7dszH1",
   "metadata": {
    "id": "o7Ns-S7dszH1"
   },
   "outputs": [],
   "source": [
    "# print('GridSearchCV best log_loss score : {:.4f}, best_params : {}'.format(-clf.best_score_, clf.best_params_))"
   ]
  },
  {
   "cell_type": "code",
   "execution_count": null,
   "id": "CXhrv3IItba7",
   "metadata": {
    "id": "CXhrv3IItba7"
   },
   "outputs": [],
   "source": [
    "# print('Validation log_loss score : {:.4f}'.format(log_loss(y_valid, clf.predict_proba(x_valid))))"
   ]
  },
  {
   "cell_type": "code",
   "execution_count": 32,
   "id": "40ccb1f0",
   "metadata": {
    "id": "40ccb1f0"
   },
   "outputs": [],
   "source": [
    "y_pred = rf.predict(x_valid)\n",
    "y_pred_proba = rf.predict_proba(x_valid)"
   ]
  },
  {
   "cell_type": "code",
   "execution_count": 33,
   "id": "9d8a3729",
   "metadata": {
    "id": "9d8a3729",
    "outputId": "22a5009d-fd3d-4636-cc57-848533bc744e"
   },
   "outputs": [
    {
     "name": "stdout",
     "output_type": "stream",
     "text": [
      "랜덤 포레스트, 정확도 : 0.9092\n",
      "랜덤 포레스트, Log loss : 0.2811\n"
     ]
    }
   ],
   "source": [
    "print('랜덤 포레스트, 정확도 : {:.4f}'.format(accuracy_score(y_valid, y_pred)))\n",
    "print('랜덤 포레스트, Log loss : {:.4f}'.format(log_loss(y_valid, y_pred_proba)))"
   ]
  },
  {
   "cell_type": "markdown",
   "id": "32ec14dc",
   "metadata": {
    "id": "32ec14dc"
   },
   "source": [
    "#### XGBoost"
   ]
  },
  {
   "cell_type": "code",
   "execution_count": 58,
   "id": "a5666ce1",
   "metadata": {
    "id": "a5666ce1"
   },
   "outputs": [],
   "source": [
    "from xgboost import XGBClassifier\n",
    "xgb = XGBClassifier(n_estimators=1000,learning_rate=0.1, max_depth= 9, reg_alpha= 0.01, \n",
    "                    reg_lambda=0.01, tree_method='gpu_hist')"
   ]
  },
  {
   "cell_type": "code",
   "execution_count": 59,
   "id": "5ce2da8c",
   "metadata": {
    "colab": {
     "base_uri": "https://localhost:8080/"
    },
    "executionInfo": {
     "elapsed": 128236,
     "status": "ok",
     "timestamp": 1642318348410,
     "user": {
      "displayName": "SH A",
      "photoUrl": "https://lh3.googleusercontent.com/a-/AOh14GgPCbr7K55ZbkRKq14ngn3bnPQmR7G4I4f_eGn9=s64",
      "userId": "14272989099738007586"
     },
     "user_tz": -540
    },
    "id": "5ce2da8c",
    "outputId": "01697fc8-baea-43a8-c87c-49c1a9ddacb9"
   },
   "outputs": [
    {
     "name": "stderr",
     "output_type": "stream",
     "text": [
      "C:\\Users\\TFG5076XG\\anaconda3\\lib\\site-packages\\xgboost\\sklearn.py:1224: UserWarning: The use of label encoder in XGBClassifier is deprecated and will be removed in a future release. To remove this warning, do the following: 1) Pass option use_label_encoder=False when constructing XGBClassifier object; and 2) Encode your labels (y) as integers starting with 0, i.e. 0, 1, 2, ..., [num_class - 1].\n",
      "  warnings.warn(label_encoder_deprecation_msg, UserWarning)\n"
     ]
    },
    {
     "name": "stdout",
     "output_type": "stream",
     "text": [
      "[0]\tvalidation_0-mlogloss:1.22335\tvalidation_1-mlogloss:1.22422\n",
      "[100]\tvalidation_0-mlogloss:0.12722\tvalidation_1-mlogloss:0.15421\n",
      "[200]\tvalidation_0-mlogloss:0.10899\tvalidation_1-mlogloss:0.15175\n",
      "[300]\tvalidation_0-mlogloss:0.09185\tvalidation_1-mlogloss:0.15194\n",
      "[324]\tvalidation_0-mlogloss:0.08829\tvalidation_1-mlogloss:0.15222\n"
     ]
    },
    {
     "data": {
      "text/plain": [
       "XGBClassifier(base_score=0.5, booster='gbtree', colsample_bylevel=1,\n",
       "              colsample_bynode=1, colsample_bytree=1, enable_categorical=False,\n",
       "              gamma=0, gpu_id=0, importance_type=None,\n",
       "              interaction_constraints='', learning_rate=0.1, max_delta_step=0,\n",
       "              max_depth=9, min_child_weight=1, missing=nan,\n",
       "              monotone_constraints='()', n_estimators=1000, n_jobs=16,\n",
       "              num_parallel_tree=1, objective='multi:softprob', predictor='auto',\n",
       "              random_state=0, reg_alpha=0.01, reg_lambda=0.01,\n",
       "              scale_pos_weight=None, subsample=1, tree_method='gpu_hist',\n",
       "              validate_parameters=1, verbosity=None)"
      ]
     },
     "execution_count": 59,
     "metadata": {},
     "output_type": "execute_result"
    }
   ],
   "source": [
    "xgb.fit(x_train, y_train,\n",
    "       eval_set = [[x_train, y_train], [x_valid, y_valid]],\n",
    "       eval_metric='mlogloss',\n",
    "       early_stopping_rounds=100, verbose=100)"
   ]
  },
  {
   "cell_type": "code",
   "execution_count": 60,
   "id": "8350372f",
   "metadata": {
    "id": "8350372f"
   },
   "outputs": [],
   "source": [
    "y_pred = xgb.predict(x_valid)\n",
    "y_pred_proba = xgb.predict_proba(x_valid)"
   ]
  },
  {
   "cell_type": "code",
   "execution_count": 61,
   "id": "17fb3ce1",
   "metadata": {
    "colab": {
     "base_uri": "https://localhost:8080/"
    },
    "executionInfo": {
     "elapsed": 451,
     "status": "ok",
     "timestamp": 1642318394112,
     "user": {
      "displayName": "SH A",
      "photoUrl": "https://lh3.googleusercontent.com/a-/AOh14GgPCbr7K55ZbkRKq14ngn3bnPQmR7G4I4f_eGn9=s64",
      "userId": "14272989099738007586"
     },
     "user_tz": -540
    },
    "id": "17fb3ce1",
    "outputId": "c4ef1f29-b7c8-47ba-daec-dfcf30077a6e"
   },
   "outputs": [
    {
     "name": "stdout",
     "output_type": "stream",
     "text": [
      "XGBoost, 정확도 : 0.9311\n",
      "XGBoost, Log loss : 0.1516\n"
     ]
    }
   ],
   "source": [
    "print('XGBoost, 정확도 : {:.4f}'.format(accuracy_score(y_valid, y_pred)))\n",
    "print('XGBoost, Log loss : {:.4f}'.format(log_loss(y_valid, y_pred_proba)))"
   ]
  },
  {
   "cell_type": "code",
   "execution_count": 62,
   "id": "a68a1d8b",
   "metadata": {
    "colab": {
     "base_uri": "https://localhost:8080/"
    },
    "executionInfo": {
     "elapsed": 383,
     "status": "ok",
     "timestamp": 1642318408494,
     "user": {
      "displayName": "SH A",
      "photoUrl": "https://lh3.googleusercontent.com/a-/AOh14GgPCbr7K55ZbkRKq14ngn3bnPQmR7G4I4f_eGn9=s64",
      "userId": "14272989099738007586"
     },
     "user_tz": -540
    },
    "id": "a68a1d8b",
    "outputId": "1dfcb475-4ed8-42ed-c3de-872157a6ae08"
   },
   "outputs": [
    {
     "data": {
      "text/plain": [
       "0.8761378246737215"
      ]
     },
     "execution_count": 62,
     "metadata": {},
     "output_type": "execute_result"
    }
   ],
   "source": [
    "f1_score(xgb.predict(x_valid), y_valid, average='macro')"
   ]
  },
  {
   "cell_type": "code",
   "execution_count": 63,
   "id": "ab9091cf",
   "metadata": {
    "colab": {
     "base_uri": "https://localhost:8080/"
    },
    "executionInfo": {
     "elapsed": 417,
     "status": "ok",
     "timestamp": 1642318412861,
     "user": {
      "displayName": "SH A",
      "photoUrl": "https://lh3.googleusercontent.com/a-/AOh14GgPCbr7K55ZbkRKq14ngn3bnPQmR7G4I4f_eGn9=s64",
      "userId": "14272989099738007586"
     },
     "user_tz": -540
    },
    "id": "ab9091cf",
    "outputId": "53281f32-c4ef-43b1-ff13-b18b18ba7fc0"
   },
   "outputs": [
    {
     "data": {
      "text/plain": [
       "array([[ 73783,   3087,      3,   3716],\n",
       "       [  2610, 115833,   1530,     51],\n",
       "       [     0,   3173,  33763,      0],\n",
       "       [  2837,     66,      0,   7416]], dtype=int64)"
      ]
     },
     "execution_count": 63,
     "metadata": {},
     "output_type": "execute_result"
    }
   ],
   "source": [
    "confusion_matrix(xgb.predict(x_valid), y_valid)"
   ]
  },
  {
   "cell_type": "code",
   "execution_count": 64,
   "id": "9ceeb0f3",
   "metadata": {
    "colab": {
     "base_uri": "https://localhost:8080/"
    },
    "executionInfo": {
     "elapsed": 477,
     "status": "ok",
     "timestamp": 1642318419187,
     "user": {
      "displayName": "SH A",
      "photoUrl": "https://lh3.googleusercontent.com/a-/AOh14GgPCbr7K55ZbkRKq14ngn3bnPQmR7G4I4f_eGn9=s64",
      "userId": "14272989099738007586"
     },
     "user_tz": -540
    },
    "id": "9ceeb0f3",
    "outputId": "f89acd99-b6cb-48fc-e587-bcef3684a575"
   },
   "outputs": [
    {
     "data": {
      "text/plain": [
       "2    285036\n",
       "1    184868\n",
       "3     82359\n",
       "4     26093\n",
       "Name: Cover_Type, dtype: int64"
      ]
     },
     "execution_count": 64,
     "metadata": {},
     "output_type": "execute_result"
    }
   ],
   "source": [
    "y_train.value_counts()"
   ]
  },
  {
   "cell_type": "code",
   "execution_count": 72,
   "id": "76da7d4e",
   "metadata": {
    "id": "76da7d4e"
   },
   "outputs": [],
   "source": [
    "xgb_submission = pd.read_csv(\"C:/tensorTest/kagglecamp2022/sample_submission.csv\")\n",
    "xgb_pred = xgb.predict(x_test)\n",
    "xgb_submission['Cover_Type'] = xgb_pred\n",
    "xgb_submission.to_csv(\"submission6.csv\", index=False)"
   ]
  },
  {
   "cell_type": "code",
   "execution_count": null,
   "id": "66935b93",
   "metadata": {
    "id": "66935b93"
   },
   "outputs": [],
   "source": [
    "label"
   ]
  },
  {
   "cell_type": "markdown",
   "id": "2212343f",
   "metadata": {
    "id": "2212343f"
   },
   "source": [
    "#### LightGBM"
   ]
  },
  {
   "cell_type": "markdown",
   "id": "icGuvP2vqPVU",
   "metadata": {
    "id": "icGuvP2vqPVU"
   },
   "source": [
    "여기에도 gridsearch 해보기"
   ]
  },
  {
   "cell_type": "code",
   "execution_count": null,
   "id": "upI2P2JSRC8s",
   "metadata": {
    "id": "upI2P2JSRC8s"
   },
   "outputs": [],
   "source": [
    "params = {'max_depth' : [3, 5, 7, 10, 12, 15, 17, 20, 23, 25, 27, 30]}\n",
    "\n",
    "clf = GridSearchCV(LGBMClassifier(random_state=1994),\n",
    "                   params, n_jobs=7, scoring='neg_log_loss')"
   ]
  },
  {
   "cell_type": "code",
   "execution_count": null,
   "id": "58tQnfCVRD3e",
   "metadata": {
    "colab": {
     "base_uri": "https://localhost:8080/"
    },
    "executionInfo": {
     "elapsed": 1505344,
     "status": "ok",
     "timestamp": 1642404086996,
     "user": {
      "displayName": "SH A",
      "photoUrl": "https://lh3.googleusercontent.com/a-/AOh14GgPCbr7K55ZbkRKq14ngn3bnPQmR7G4I4f_eGn9=s64",
      "userId": "14272989099738007586"
     },
     "user_tz": -540
    },
    "id": "58tQnfCVRD3e",
    "outputId": "f583128d-157e-4521-f9ce-ea512d4b98ca"
   },
   "outputs": [
    {
     "data": {
      "text/plain": [
       "GridSearchCV(estimator=LGBMClassifier(random_state=1994), n_jobs=7,\n",
       "             param_grid={'max_depth': [3, 5, 7, 10, 12, 15, 17, 20, 23, 25, 27,\n",
       "                                       30]},\n",
       "             scoring='neg_log_loss')"
      ]
     },
     "execution_count": 97,
     "metadata": {},
     "output_type": "execute_result"
    }
   ],
   "source": [
    "clf.fit(x_train, y_train)"
   ]
  },
  {
   "cell_type": "code",
   "execution_count": null,
   "id": "64Bq-23PR-1r",
   "metadata": {
    "colab": {
     "base_uri": "https://localhost:8080/"
    },
    "executionInfo": {
     "elapsed": 445,
     "status": "ok",
     "timestamp": 1642405052452,
     "user": {
      "displayName": "SH A",
      "photoUrl": "https://lh3.googleusercontent.com/a-/AOh14GgPCbr7K55ZbkRKq14ngn3bnPQmR7G4I4f_eGn9=s64",
      "userId": "14272989099738007586"
     },
     "user_tz": -540
    },
    "id": "64Bq-23PR-1r",
    "outputId": "c6d5f751-d18c-40f9-a625-d6ccc31b2055"
   },
   "outputs": [
    {
     "name": "stdout",
     "output_type": "stream",
     "text": [
      "GridSearchCV best log_loss score : 0.1604, best_params : {'max_depth': 15}\n"
     ]
    }
   ],
   "source": [
    "print('GridSearchCV best log_loss score : {:.4f}, best_params : {}'.format(-clf.best_score_, clf.best_params_))"
   ]
  },
  {
   "cell_type": "code",
   "execution_count": null,
   "id": "iGwoEKUlR_Wr",
   "metadata": {
    "colab": {
     "base_uri": "https://localhost:8080/"
    },
    "executionInfo": {
     "elapsed": 2769,
     "status": "ok",
     "timestamp": 1642405073628,
     "user": {
      "displayName": "SH A",
      "photoUrl": "https://lh3.googleusercontent.com/a-/AOh14GgPCbr7K55ZbkRKq14ngn3bnPQmR7G4I4f_eGn9=s64",
      "userId": "14272989099738007586"
     },
     "user_tz": -540
    },
    "id": "iGwoEKUlR_Wr",
    "outputId": "612c2500-6e82-417c-b674-95a970055702"
   },
   "outputs": [
    {
     "name": "stdout",
     "output_type": "stream",
     "text": [
      "Validation log_loss score : 0.1610\n"
     ]
    }
   ],
   "source": [
    "print('Validation log_loss score : {:.4f}'.format(log_loss(y_valid, clf.predict_proba(x_valid))))"
   ]
  },
  {
   "cell_type": "code",
   "execution_count": 43,
   "id": "Y5fgbYX4i-mu",
   "metadata": {
    "id": "Y5fgbYX4i-mu"
   },
   "outputs": [],
   "source": [
    "from lightgbm import LGBMClassifier\n",
    "lgb = LGBMClassifier(n_estimators=1000,learning_rate=0.1, max_depth= 9, \n",
    "                     reg_alpha= 0.01, reg_lambda=0.01, tree_method='gpu_hist')"
   ]
  },
  {
   "cell_type": "code",
   "execution_count": null,
   "id": "727cf375",
   "metadata": {},
   "outputs": [],
   "source": []
  },
  {
   "cell_type": "code",
   "execution_count": 65,
   "id": "6895640c",
   "metadata": {},
   "outputs": [],
   "source": [
    "from catboost import CatBoostClassifier\n",
    "cb = CatBoostClassifier(learning_rate=0.1, max_depth=9, l2_leaf_reg=0.01, iterations=1000)"
   ]
  },
  {
   "cell_type": "code",
   "execution_count": 68,
   "id": "41808a54",
   "metadata": {},
   "outputs": [
    {
     "name": "stdout",
     "output_type": "stream",
     "text": [
      "0:\tlearn: 1.1706804\ttotal: 375ms\tremaining: 6m 14s\n",
      "100:\tlearn: 0.1739425\ttotal: 23.4s\tremaining: 3m 27s\n",
      "200:\tlearn: 0.1555109\ttotal: 46.3s\tremaining: 3m 4s\n",
      "300:\tlearn: 0.1460096\ttotal: 1m 8s\tremaining: 2m 40s\n",
      "400:\tlearn: 0.1384123\ttotal: 1m 31s\tremaining: 2m 17s\n",
      "500:\tlearn: 0.1316392\ttotal: 1m 54s\tremaining: 1m 54s\n",
      "600:\tlearn: 0.1253719\ttotal: 2m 17s\tremaining: 1m 31s\n",
      "700:\tlearn: 0.1194321\ttotal: 2m 40s\tremaining: 1m 8s\n",
      "800:\tlearn: 0.1141730\ttotal: 3m 4s\tremaining: 45.7s\n",
      "900:\tlearn: 0.1091570\ttotal: 3m 27s\tremaining: 22.8s\n",
      "999:\tlearn: 0.1045785\ttotal: 3m 51s\tremaining: 0us\n"
     ]
    },
    {
     "data": {
      "text/plain": [
       "<catboost.core.CatBoostClassifier at 0x205037f67f0>"
      ]
     },
     "execution_count": 68,
     "metadata": {},
     "output_type": "execute_result"
    }
   ],
   "source": [
    "cb.fit(x_train, y_train,\n",
    "       early_stopping_rounds=100, verbose=100)"
   ]
  },
  {
   "cell_type": "code",
   "execution_count": 69,
   "id": "210db9db",
   "metadata": {},
   "outputs": [],
   "source": [
    "y_pred = cb.predict(x_valid)\n",
    "y_pred_proba = cb.predict_proba(x_valid)"
   ]
  },
  {
   "cell_type": "code",
   "execution_count": 70,
   "id": "44ba147c",
   "metadata": {},
   "outputs": [
    {
     "name": "stdout",
     "output_type": "stream",
     "text": [
      "CatBoost, 정확도 : 0.9303\n",
      "CatBoost, Log loss : 0.1557\n"
     ]
    }
   ],
   "source": [
    "print('CatBoost, 정확도 : {:.4f}'.format(accuracy_score(y_valid, y_pred)))\n",
    "print('CatBoost, Log loss : {:.4f}'.format(log_loss(y_valid, y_pred_proba)))"
   ]
  },
  {
   "cell_type": "code",
   "execution_count": 71,
   "id": "fba0547d",
   "metadata": {},
   "outputs": [
    {
     "name": "stdout",
     "output_type": "stream",
     "text": [
      "F1 Score: 0.9299\n"
     ]
    }
   ],
   "source": [
    "print('F1 Score: {:.4f}'.format(f1_score(y_valid, y_pred, average='weighted')))"
   ]
  },
  {
   "cell_type": "code",
   "execution_count": null,
   "id": "76776755",
   "metadata": {},
   "outputs": [],
   "source": []
  },
  {
   "cell_type": "code",
   "execution_count": null,
   "id": "f4ba6661",
   "metadata": {
    "id": "f4ba6661"
   },
   "outputs": [],
   "source": [
    "# from lightgbm import LGBMClassifier\n",
    "# tried numerous parameter tuning, but the score got worse...\n",
    "# lgb = LGBMClassifier(application='multiclass',\n",
    "#                      max_depth=15, learning_rate=0.01,\n",
    "#                      min_data_in_leaf=1000, max_bin=100,\n",
    "#                      num_leaves=10000, n_estimators=2000, tree_method='gpu_hist')"
   ]
  },
  {
   "cell_type": "code",
   "execution_count": 44,
   "id": "d8e134ec",
   "metadata": {
    "colab": {
     "base_uri": "https://localhost:8080/"
    },
    "executionInfo": {
     "elapsed": 522865,
     "status": "ok",
     "timestamp": 1642432115168,
     "user": {
      "displayName": "SH A",
      "photoUrl": "https://lh3.googleusercontent.com/a-/AOh14GgPCbr7K55ZbkRKq14ngn3bnPQmR7G4I4f_eGn9=s64",
      "userId": "14272989099738007586"
     },
     "user_tz": -540
    },
    "id": "d8e134ec",
    "outputId": "145f8cda-26b4-4ecc-ab5b-2a31030a15d5"
   },
   "outputs": [
    {
     "name": "stderr",
     "output_type": "stream",
     "text": [
      "C:\\Users\\TFG5076XG\\anaconda3\\lib\\site-packages\\lightgbm\\sklearn.py:726: UserWarning: 'early_stopping_rounds' argument is deprecated and will be removed in a future release of LightGBM. Pass 'early_stopping()' callback via 'callbacks' argument instead.\n",
      "  _log_warning(\"'early_stopping_rounds' argument is deprecated and will be removed in a future release of LightGBM. \"\n",
      "C:\\Users\\TFG5076XG\\anaconda3\\lib\\site-packages\\lightgbm\\sklearn.py:736: UserWarning: 'verbose' argument is deprecated and will be removed in a future release of LightGBM. Pass 'log_evaluation()' callback via 'callbacks' argument instead.\n",
      "  _log_warning(\"'verbose' argument is deprecated and will be removed in a future release of LightGBM. \"\n"
     ]
    },
    {
     "name": "stdout",
     "output_type": "stream",
     "text": [
      "[LightGBM] [Warning] Unknown parameter: tree_method\n",
      "[100]\ttraining's multi_logloss: 0.149531\tvalid_1's multi_logloss: 0.157717\n",
      "[200]\ttraining's multi_logloss: 0.138228\tvalid_1's multi_logloss: 0.154052\n",
      "[300]\ttraining's multi_logloss: 0.130323\tvalid_1's multi_logloss: 0.153319\n",
      "[400]\ttraining's multi_logloss: 0.123133\tvalid_1's multi_logloss: 0.15273\n",
      "[500]\ttraining's multi_logloss: 0.116688\tvalid_1's multi_logloss: 0.152383\n",
      "[600]\ttraining's multi_logloss: 0.110838\tvalid_1's multi_logloss: 0.152361\n",
      "[700]\ttraining's multi_logloss: 0.105394\tvalid_1's multi_logloss: 0.152438\n"
     ]
    },
    {
     "data": {
      "text/plain": [
       "LGBMClassifier(max_depth=9, n_estimators=1000, reg_alpha=0.01, reg_lambda=0.01,\n",
       "               tree_method='gpu_hist')"
      ]
     },
     "execution_count": 44,
     "metadata": {},
     "output_type": "execute_result"
    }
   ],
   "source": [
    "lgb.fit(x_train, y_train,\n",
    "       eval_set=[[x_train, y_train],[x_valid, y_valid]],\n",
    "       eval_metric='logloss',\n",
    "       early_stopping_rounds=100, verbose=100)"
   ]
  },
  {
   "cell_type": "code",
   "execution_count": 45,
   "id": "72256baf",
   "metadata": {
    "id": "72256baf"
   },
   "outputs": [],
   "source": [
    "y_pred = lgb.predict(x_valid)\n",
    "y_pred_proba = lgb.predict_proba(x_valid)"
   ]
  },
  {
   "cell_type": "code",
   "execution_count": 46,
   "id": "105aeff6",
   "metadata": {
    "colab": {
     "base_uri": "https://localhost:8080/"
    },
    "executionInfo": {
     "elapsed": 359,
     "status": "ok",
     "timestamp": 1642431463868,
     "user": {
      "displayName": "SH A",
      "photoUrl": "https://lh3.googleusercontent.com/a-/AOh14GgPCbr7K55ZbkRKq14ngn3bnPQmR7G4I4f_eGn9=s64",
      "userId": "14272989099738007586"
     },
     "user_tz": -540
    },
    "id": "105aeff6",
    "outputId": "7d78d25b-92e4-496e-d031-db73fe228d88"
   },
   "outputs": [
    {
     "name": "stdout",
     "output_type": "stream",
     "text": [
      "LightGBM, 정확도 : 0.9309\n",
      "LightGBM, Log loss : 0.1523\n"
     ]
    }
   ],
   "source": [
    "print('LightGBM, 정확도 : {:.4f}'.format(accuracy_score(y_valid, y_pred)))\n",
    "print('LightGBM, Log loss : {:.4f}'.format(log_loss(y_valid, y_pred_proba)))"
   ]
  },
  {
   "cell_type": "code",
   "execution_count": null,
   "id": "FduBXuvnnZII",
   "metadata": {
    "id": "FduBXuvnnZII"
   },
   "outputs": [],
   "source": [
    "# best : 0.9316?"
   ]
  },
  {
   "cell_type": "code",
   "execution_count": 47,
   "id": "1c454232",
   "metadata": {
    "colab": {
     "base_uri": "https://localhost:8080/"
    },
    "executionInfo": {
     "elapsed": 1081,
     "status": "ok",
     "timestamp": 1642431469046,
     "user": {
      "displayName": "SH A",
      "photoUrl": "https://lh3.googleusercontent.com/a-/AOh14GgPCbr7K55ZbkRKq14ngn3bnPQmR7G4I4f_eGn9=s64",
      "userId": "14272989099738007586"
     },
     "user_tz": -540
    },
    "id": "1c454232",
    "outputId": "2f0c165d-aabd-4ab8-caf6-8e5aaab59b56"
   },
   "outputs": [
    {
     "name": "stdout",
     "output_type": "stream",
     "text": [
      "F1 Score: 0.9307\n"
     ]
    }
   ],
   "source": [
    "print('F1 Score: {:.4f}'.format(f1_score(y_valid, y_pred, average='weighted')))"
   ]
  },
  {
   "cell_type": "code",
   "execution_count": null,
   "id": "36b590cd",
   "metadata": {
    "colab": {
     "base_uri": "https://localhost:8080/"
    },
    "executionInfo": {
     "elapsed": 28559,
     "status": "ok",
     "timestamp": 1642385590156,
     "user": {
      "displayName": "SH A",
      "photoUrl": "https://lh3.googleusercontent.com/a-/AOh14GgPCbr7K55ZbkRKq14ngn3bnPQmR7G4I4f_eGn9=s64",
      "userId": "14272989099738007586"
     },
     "user_tz": -540
    },
    "id": "36b590cd",
    "outputId": "8d743638-535a-4a04-bfd4-569d1490c659"
   },
   "outputs": [
    {
     "data": {
      "text/plain": [
       "array([[49152,  2074,     0,  2489],\n",
       "       [ 1782, 77259,  1031,    33],\n",
       "       [    0,  2062, 22500,     0],\n",
       "       [ 1886,    44,     0,  4933]], dtype=int64)"
      ]
     },
     "execution_count": 25,
     "metadata": {},
     "output_type": "execute_result"
    }
   ],
   "source": [
    "confusion_matrix(lgb.predict(x_valid), y_valid)"
   ]
  },
  {
   "cell_type": "code",
   "execution_count": null,
   "id": "ZDB3cBHP0rgR",
   "metadata": {
    "id": "ZDB3cBHP0rgR"
   },
   "outputs": [],
   "source": [
    "lgb_submission = pd.read_csv(\"C:/tensorTest/kagglecamp2022/sample_submission.csv\")\n",
    "lgb_pred = lgb.predict(x_test)\n",
    "lgb_submission['Cover_Type'] = lgb_pred\n",
    "lgb_submission.to_csv(\"submission5.csv\", index=False)"
   ]
  },
  {
   "cell_type": "markdown",
   "id": "45a47b74",
   "metadata": {
    "id": "45a47b74"
   },
   "source": [
    "#### Feature Selection : Permutation Importance"
   ]
  },
  {
   "cell_type": "code",
   "execution_count": null,
   "id": "84c78126",
   "metadata": {
    "id": "84c78126",
    "scrolled": true
   },
   "outputs": [],
   "source": [
    "from sklearn.inspection import permutation_importance\n",
    "\n",
    "model = RandomForestClassifier(random_state=1994)\n",
    "model.fit(x_train, y_train)\n",
    "\n",
    "r = permutation_importance(model, x_valid, y_valid,\n",
    "                           n_repeats=10,\n",
    "                           random_state=42)"
   ]
  },
  {
   "cell_type": "code",
   "execution_count": null,
   "id": "b1a7f218",
   "metadata": {
    "id": "b1a7f218",
    "outputId": "4b38960e-9842-49fb-b59d-f6d2b7fadaa1"
   },
   "outputs": [
    {
     "name": "stdout",
     "output_type": "stream",
     "text": [
      "Elevation: 0.483 +/- 0.001\n",
      "Soil_Type: 0.070 +/- 0.001\n",
      "Wilderness_Area: 0.069 +/- 0.000\n",
      "Horizontal_Distance_To_Roadways: 0.045 +/- 0.000\n",
      "Horizontal_Distance_To_Fire_Points: 0.035 +/- 0.000\n",
      "Vertical_Distance_To_Hydrology: 0.016 +/- 0.000\n",
      "Horizontal_Distance_To_Hydrology: 0.010 +/- 0.000\n",
      "Aspect  : 0.000 +/- 0.000\n"
     ]
    }
   ],
   "source": [
    "for i in r.importances_mean.argsort()[::-1]:\n",
    "    if r.importances_mean[i] - 2 * r.importances_std[i] > 0:\n",
    "        print(f\"{x_valid.columns[i]:<8}: \"\n",
    "               f\"{r.importances_mean[i]:.3f}\"\n",
    "               f\" +/- {r.importances_std[i]:.3f}\")"
   ]
  },
  {
   "cell_type": "markdown",
   "id": "8ecbaf40",
   "metadata": {
    "id": "8ecbaf40"
   },
   "source": [
    "#### + Ensemble : Voting Ensemble"
   ]
  },
  {
   "cell_type": "code",
   "execution_count": 12,
   "id": "a5a4a880",
   "metadata": {
    "id": "a5a4a880"
   },
   "outputs": [],
   "source": [
    "from sklearn.ensemble import VotingClassifier, RandomForestClassifier\n",
    "from sklearn.linear_model import LogisticRegression\n",
    "from sklearn.neural_network import MLPClassifier\n",
    "\n",
    "clfs = [['Logistic', LogisticRegression()],\n",
    "        ['RandomForest', RandomForestClassifier()],\n",
    "        ['MLP', MLPClassifier()]]\n",
    "\n",
    "vote_clf = VotingClassifier(clfs, voting='soft', n_jobs=3)"
   ]
  },
  {
   "cell_type": "code",
   "execution_count": 13,
   "id": "51641a4f",
   "metadata": {
    "id": "51641a4f",
    "outputId": "d16d29ee-8d14-47e3-ebe0-f3b458b9960b"
   },
   "outputs": [
    {
     "data": {
      "text/plain": [
       "VotingClassifier(estimators=[['Logistic', LogisticRegression()],\n",
       "                             ['RandomForest', RandomForestClassifier()],\n",
       "                             ['MLP', MLPClassifier()]],\n",
       "                 n_jobs=3, voting='soft')"
      ]
     },
     "execution_count": 13,
     "metadata": {},
     "output_type": "execute_result"
    }
   ],
   "source": [
    "# 여기서 x_train, y_train은 마지막 Fold\n",
    "vote_clf.fit(x_train, y_train)"
   ]
  },
  {
   "cell_type": "code",
   "execution_count": 14,
   "id": "394163e9",
   "metadata": {
    "id": "394163e9",
    "outputId": "c18b9968-5a3e-42f2-8516-cd0bb1e4a94b"
   },
   "outputs": [
    {
     "name": "stdout",
     "output_type": "stream",
     "text": [
      "Validation F1 score : 0.9229\n"
     ]
    }
   ],
   "source": [
    "from sklearn.metrics import f1_score, log_loss\n",
    "\n",
    "print('Validation F1 score : {:.4f}'.format(f1_score(y_valid, vote_clf.predict(x_valid), average='weighted')))"
   ]
  },
  {
   "cell_type": "markdown",
   "id": "e4a70090",
   "metadata": {
    "id": "e4a70090"
   },
   "source": [
    "#### Out-of-fold(OOF) Ensemble "
   ]
  },
  {
   "cell_type": "code",
   "execution_count": 82,
   "id": "d29efe1a",
   "metadata": {
    "id": "d29efe1a",
    "outputId": "f1625d94-dc57-47ab-9831-d01d5301e9b8"
   },
   "outputs": [
    {
     "name": "stderr",
     "output_type": "stream",
     "text": [
      "C:\\Users\\TFG5076XG\\anaconda3\\lib\\site-packages\\xgboost\\sklearn.py:1224: UserWarning: The use of label encoder in XGBClassifier is deprecated and will be removed in a future release. To remove this warning, do the following: 1) Pass option use_label_encoder=False when constructing XGBClassifier object; and 2) Encode your labels (y) as integers starting with 0, i.e. 0, 1, 2, ..., [num_class - 1].\n",
      "  warnings.warn(label_encoder_deprecation_msg, UserWarning)\n"
     ]
    },
    {
     "name": "stdout",
     "output_type": "stream",
     "text": [
      "[09:04:19] WARNING: C:/Users/Administrator/workspace/xgboost-win64_release_1.5.1/src/learner.cc:576: \n",
      "Parameters: { \"label_encoder\" } might not be used.\n",
      "\n",
      "  This could be a false alarm, with some parameters getting used by language bindings but\n",
      "  then being mistakenly passed down to XGBoost core, or some parameter actually being used\n",
      "  but getting flagged wrongly here. Please open an issue if you find any such cases.\n",
      "\n",
      "\n",
      "[0]\tvalidation_0-mlogloss:0.95711\n",
      "[100]\tvalidation_0-mlogloss:0.15013\n",
      "[200]\tvalidation_0-mlogloss:0.14938\n",
      "[290]\tvalidation_0-mlogloss:0.15040\n",
      "0 Fold, train logloss : 0.11574, validation logloss : 0.1493\n"
     ]
    },
    {
     "name": "stderr",
     "output_type": "stream",
     "text": [
      "C:\\Users\\TFG5076XG\\anaconda3\\lib\\site-packages\\xgboost\\sklearn.py:1224: UserWarning: The use of label encoder in XGBClassifier is deprecated and will be removed in a future release. To remove this warning, do the following: 1) Pass option use_label_encoder=False when constructing XGBClassifier object; and 2) Encode your labels (y) as integers starting with 0, i.e. 0, 1, 2, ..., [num_class - 1].\n",
      "  warnings.warn(label_encoder_deprecation_msg, UserWarning)\n"
     ]
    },
    {
     "name": "stdout",
     "output_type": "stream",
     "text": [
      "[09:04:30] WARNING: C:/Users/Administrator/workspace/xgboost-win64_release_1.5.1/src/learner.cc:576: \n",
      "Parameters: { \"label_encoder\" } might not be used.\n",
      "\n",
      "  This could be a false alarm, with some parameters getting used by language bindings but\n",
      "  then being mistakenly passed down to XGBoost core, or some parameter actually being used\n",
      "  but getting flagged wrongly here. Please open an issue if you find any such cases.\n",
      "\n",
      "\n",
      "[0]\tvalidation_0-mlogloss:0.95746\n",
      "[100]\tvalidation_0-mlogloss:0.15143\n",
      "[200]\tvalidation_0-mlogloss:0.15076\n",
      "[247]\tvalidation_0-mlogloss:0.15129\n",
      "1 Fold, train logloss : 0.12254, validation logloss : 0.1505\n"
     ]
    },
    {
     "name": "stderr",
     "output_type": "stream",
     "text": [
      "C:\\Users\\TFG5076XG\\anaconda3\\lib\\site-packages\\xgboost\\sklearn.py:1224: UserWarning: The use of label encoder in XGBClassifier is deprecated and will be removed in a future release. To remove this warning, do the following: 1) Pass option use_label_encoder=False when constructing XGBClassifier object; and 2) Encode your labels (y) as integers starting with 0, i.e. 0, 1, 2, ..., [num_class - 1].\n",
      "  warnings.warn(label_encoder_deprecation_msg, UserWarning)\n"
     ]
    },
    {
     "name": "stdout",
     "output_type": "stream",
     "text": [
      "[09:04:39] WARNING: C:/Users/Administrator/workspace/xgboost-win64_release_1.5.1/src/learner.cc:576: \n",
      "Parameters: { \"label_encoder\" } might not be used.\n",
      "\n",
      "  This could be a false alarm, with some parameters getting used by language bindings but\n",
      "  then being mistakenly passed down to XGBoost core, or some parameter actually being used\n",
      "  but getting flagged wrongly here. Please open an issue if you find any such cases.\n",
      "\n",
      "\n",
      "[0]\tvalidation_0-mlogloss:0.95590\n",
      "[100]\tvalidation_0-mlogloss:0.14810\n",
      "[200]\tvalidation_0-mlogloss:0.14728\n",
      "[233]\tvalidation_0-mlogloss:0.14760\n",
      "2 Fold, train logloss : 0.12624, validation logloss : 0.1471\n"
     ]
    },
    {
     "name": "stderr",
     "output_type": "stream",
     "text": [
      "C:\\Users\\TFG5076XG\\anaconda3\\lib\\site-packages\\xgboost\\sklearn.py:1224: UserWarning: The use of label encoder in XGBClassifier is deprecated and will be removed in a future release. To remove this warning, do the following: 1) Pass option use_label_encoder=False when constructing XGBClassifier object; and 2) Encode your labels (y) as integers starting with 0, i.e. 0, 1, 2, ..., [num_class - 1].\n",
      "  warnings.warn(label_encoder_deprecation_msg, UserWarning)\n"
     ]
    },
    {
     "name": "stdout",
     "output_type": "stream",
     "text": [
      "[09:04:48] WARNING: C:/Users/Administrator/workspace/xgboost-win64_release_1.5.1/src/learner.cc:576: \n",
      "Parameters: { \"label_encoder\" } might not be used.\n",
      "\n",
      "  This could be a false alarm, with some parameters getting used by language bindings but\n",
      "  then being mistakenly passed down to XGBoost core, or some parameter actually being used\n",
      "  but getting flagged wrongly here. Please open an issue if you find any such cases.\n",
      "\n",
      "\n",
      "[0]\tvalidation_0-mlogloss:0.95492\n",
      "[100]\tvalidation_0-mlogloss:0.14924\n",
      "[200]\tvalidation_0-mlogloss:0.14879\n",
      "[247]\tvalidation_0-mlogloss:0.14916\n",
      "3 Fold, train logloss : 0.12374, validation logloss : 0.1485\n"
     ]
    },
    {
     "name": "stderr",
     "output_type": "stream",
     "text": [
      "C:\\Users\\TFG5076XG\\anaconda3\\lib\\site-packages\\xgboost\\sklearn.py:1224: UserWarning: The use of label encoder in XGBClassifier is deprecated and will be removed in a future release. To remove this warning, do the following: 1) Pass option use_label_encoder=False when constructing XGBClassifier object; and 2) Encode your labels (y) as integers starting with 0, i.e. 0, 1, 2, ..., [num_class - 1].\n",
      "  warnings.warn(label_encoder_deprecation_msg, UserWarning)\n"
     ]
    },
    {
     "name": "stdout",
     "output_type": "stream",
     "text": [
      "[09:04:57] WARNING: C:/Users/Administrator/workspace/xgboost-win64_release_1.5.1/src/learner.cc:576: \n",
      "Parameters: { \"label_encoder\" } might not be used.\n",
      "\n",
      "  This could be a false alarm, with some parameters getting used by language bindings but\n",
      "  then being mistakenly passed down to XGBoost core, or some parameter actually being used\n",
      "  but getting flagged wrongly here. Please open an issue if you find any such cases.\n",
      "\n",
      "\n",
      "[0]\tvalidation_0-mlogloss:0.95649\n",
      "[100]\tvalidation_0-mlogloss:0.15049\n",
      "[200]\tvalidation_0-mlogloss:0.15004\n",
      "[248]\tvalidation_0-mlogloss:0.15050\n",
      "4 Fold, train logloss : 0.12294, validation logloss : 0.1497\n",
      "Cross Validation Score : 0.1490\n"
     ]
    }
   ],
   "source": [
    "from sklearn.model_selection import StratifiedKFold\n",
    "from xgboost import XGBClassifier\n",
    "\n",
    "'''\n",
    "#best case \n",
    "from sklearn.preprocess import LabelEncoder\n",
    "\n",
    "le =LabelEncoder()\n",
    "label = le.fit_tranform(label)\n",
    "\n",
    "oof_pred = np.zeros((test.shape[0], le.classes_[0]))\n",
    "'''\n",
    "\n",
    "val_scores = list()\n",
    "oof_pred = np.zeros((x_test.shape[0], 4))\n",
    "n_splits=5\n",
    "    \n",
    "skf = StratifiedKFold(n_splits=n_splits, shuffle=True, random_state=1994)\n",
    "\n",
    "for i, (trn_idx, val_idx) in enumerate(skf.split(data, label)):\n",
    "    x_train, y_train = data.iloc[trn_idx, :], label.iloc[trn_idx,]\n",
    "    x_valid, y_valid = data.iloc[val_idx, :], label.iloc[val_idx,]\n",
    "    \n",
    "    # 모델 정의\n",
    "    model = XGBClassifier(n_estimators=1000, random_state=1994,\n",
    "                          tree_method='gpu_hist', label_encoder=False)\n",
    "    \n",
    "    # 모델 학습\n",
    "    model.fit(x_train, y_train,\n",
    "              eval_set=[[x_valid, y_valid]],\n",
    "              eval_metric='mlogloss',\n",
    "              early_stopping_rounds=100,\n",
    "              verbose=100)\n",
    "\n",
    "    \n",
    "    # 훈련, 검증 데이터 log_loss 확인\n",
    "    trn_logloss = log_loss(y_train, model.predict_proba(x_train)) #모델의 학습 양상을 보기 위해 돌림(과거/\n",
    "                                                                  #지금은 굳이 신경 안 써도)\n",
    "    val_logloss = log_loss(y_valid, model.predict_proba(x_valid))\n",
    "    print('{} Fold, train logloss : {:.4f}4, validation logloss : {:.4f}'.format(i, trn_logloss, val_logloss))\n",
    "    \n",
    "    val_scores.append(val_logloss)\n",
    "    \n",
    "    oof_pred += model.predict_proba(x_test) / skf.n_splits \n",
    "\n",
    "# 교차 검증 정확도 평균 계산하기\n",
    "print('Cross Validation Score : {:.4f}'.format(np.mean(val_scores)))"
   ]
  },
  {
   "cell_type": "code",
   "execution_count": 83,
   "id": "0e292108",
   "metadata": {
    "id": "0e292108",
    "outputId": "bece85ff-e9c2-4474-c4a5-57d4d7a08d5f"
   },
   "outputs": [
    {
     "data": {
      "text/plain": [
       "(550816, 4)"
      ]
     },
     "execution_count": 83,
     "metadata": {},
     "output_type": "execute_result"
    }
   ],
   "source": [
    "oof_pred.shape"
   ]
  },
  {
   "cell_type": "code",
   "execution_count": 84,
   "id": "d548b267",
   "metadata": {
    "id": "d548b267",
    "outputId": "1b955606-1a85-42d7-dfde-8c4c4c3e448b"
   },
   "outputs": [
    {
     "data": {
      "text/plain": [
       "array([2, 2, 2, ..., 2, 2, 2], dtype=int64)"
      ]
     },
     "execution_count": 84,
     "metadata": {},
     "output_type": "execute_result"
    }
   ],
   "source": [
    "np.argmax(oof_pred, axis=1)"
   ]
  },
  {
   "cell_type": "code",
   "execution_count": 88,
   "id": "nhzdc1vnpKGf",
   "metadata": {
    "id": "nhzdc1vnpKGf"
   },
   "outputs": [
    {
     "data": {
      "text/plain": [
       "array([5.04106272e-05, 1.03992511e-01, 8.95932473e-01, 2.45857373e-05])"
      ]
     },
     "execution_count": 88,
     "metadata": {},
     "output_type": "execute_result"
    }
   ],
   "source": [
    "oof_pred[5, :]"
   ]
  },
  {
   "cell_type": "code",
   "execution_count": null,
   "id": "32fbf789",
   "metadata": {},
   "outputs": [],
   "source": []
  },
  {
   "cell_type": "code",
   "execution_count": 90,
   "id": "574c1599",
   "metadata": {
    "id": "574c1599"
   },
   "outputs": [],
   "source": [
    "oof_submission = pd.read_csv(\"C:/tensorTest/kagglecamp2022/sample_submission.csv\")\n",
    "oof_submission['Cover_Type'] = oof_pred.argmax(axis=1)\n",
    "oof_submission.to_csv(\"sub.csv\", index=False)"
   ]
  },
  {
   "cell_type": "code",
   "execution_count": null,
   "id": "0b435574",
   "metadata": {},
   "outputs": [],
   "source": [
    "##########################################################################################"
   ]
  },
  {
   "cell_type": "code",
   "execution_count": 22,
   "id": "EIwWd7H6jJev",
   "metadata": {
    "executionInfo": {
     "elapsed": 326,
     "status": "ok",
     "timestamp": 1642515487221,
     "user": {
      "displayName": "SH A",
      "photoUrl": "https://lh3.googleusercontent.com/a-/AOh14GgPCbr7K55ZbkRKq14ngn3bnPQmR7G4I4f_eGn9=s64",
      "userId": "14272989099738007586"
     },
     "user_tz": -540
    },
    "id": "EIwWd7H6jJev"
   },
   "outputs": [],
   "source": [
    "from sklearn.model_selection import StratifiedKFold\n",
    "skf = StratifiedKFold(n_splits=5, shuffle=True, random_state=1994)"
   ]
  },
  {
   "cell_type": "code",
   "execution_count": 17,
   "id": "bRBIaCZyixod",
   "metadata": {
    "executionInfo": {
     "elapsed": 377,
     "status": "ok",
     "timestamp": 1642515401101,
     "user": {
      "displayName": "SH A",
      "photoUrl": "https://lh3.googleusercontent.com/a-/AOh14GgPCbr7K55ZbkRKq14ngn3bnPQmR7G4I4f_eGn9=s64",
      "userId": "14272989099738007586"
     },
     "user_tz": -540
    },
    "id": "bRBIaCZyixod"
   },
   "outputs": [],
   "source": [
    "from sklearn.preprocessing import LabelEncoder\n",
    "le = LabelEncoder()\n",
    "label = le.fit_transform(label)"
   ]
  },
  {
   "cell_type": "code",
   "execution_count": 28,
   "id": "GpW9mO2KcM9o",
   "metadata": {
    "executionInfo": {
     "elapsed": 326,
     "status": "ok",
     "timestamp": 1642515762283,
     "user": {
      "displayName": "SH A",
      "photoUrl": "https://lh3.googleusercontent.com/a-/AOh14GgPCbr7K55ZbkRKq14ngn3bnPQmR7G4I4f_eGn9=s64",
      "userId": "14272989099738007586"
     },
     "user_tz": -540
    },
    "id": "GpW9mO2KcM9o"
   },
   "outputs": [],
   "source": [
    "def get_oof(model, data, label, x_test):\n",
    "\n",
    "  val_scores = []\n",
    "  oof_pred = np.zeros((x_test.shape[0], le.classes_.shape[0]))\n",
    "\n",
    "  for i, (trn_idx, val_idx) in enumerate(skf.split(data, label)):\n",
    "\n",
    "    x_train, y_train = data.iloc[trn_idx, :], label[trn_idx,]\n",
    "    x_valid, y_valid = data.iloc[val_idx, :], label[val_idx,]\n",
    "\n",
    "    x_train, x_valid, x_test = preprocess(x_train, x_valid, x_test)\n",
    "\n",
    "    clf = model\n",
    "    \n",
    "    clf.fit(x_train, y_train)\n",
    "\n",
    "    val_score = f1_score(y_valid, clf.predict(x_valid))\n",
    "\n",
    "    val_scores.append(val_score)\n",
    "\n",
    "    oof_pred += clf.predict_proba(x_test)\n",
    "\n",
    "  return np.mean(val_scores), np.argmax(oof_pred, axis=1)"
   ]
  },
  {
   "cell_type": "code",
   "execution_count": 26,
   "id": "dbkt5XrTcM0P",
   "metadata": {
    "executionInfo": {
     "elapsed": 338,
     "status": "ok",
     "timestamp": 1642515741630,
     "user": {
      "displayName": "SH A",
      "photoUrl": "https://lh3.googleusercontent.com/a-/AOh14GgPCbr7K55ZbkRKq14ngn3bnPQmR7G4I4f_eGn9=s64",
      "userId": "14272989099738007586"
     },
     "user_tz": -540
    },
    "id": "dbkt5XrTcM0P"
   },
   "outputs": [],
   "source": [
    "from sklearn.ensemble import RandomForestClassifier\n",
    "from xgboost import XGBClassifier\n",
    "from lightgbm import LGBMClassifier\n",
    "rf = RandomForestClassifier(random_state=1994)\n",
    "xgb = XGBClassifier(random_state=1994)\n",
    "lgb = LGBMClassifier(random_state=1994)\n",
    "\n",
    "models = [ ['RandomForest', rf], ['XGBoost', xgb],\n",
    "          ['LGBM', lgb] ]"
   ]
  },
  {
   "cell_type": "code",
   "execution_count": 30,
   "id": "eT4aGybDcMqf",
   "metadata": {
    "colab": {
     "base_uri": "https://localhost:8080/",
     "height": 208
    },
    "collapsed": true,
    "executionInfo": {
     "elapsed": 339,
     "status": "error",
     "timestamp": 1642516117103,
     "user": {
      "displayName": "SH A",
      "photoUrl": "https://lh3.googleusercontent.com/a-/AOh14GgPCbr7K55ZbkRKq14ngn3bnPQmR7G4I4f_eGn9=s64",
      "userId": "14272989099738007586"
     },
     "user_tz": -540
    },
    "id": "eT4aGybDcMqf",
    "outputId": "1389fd65-cc19-4195-c211-4ee69cd51bde"
   },
   "outputs": [
    {
     "ename": "TypeError",
     "evalue": "ignored",
     "output_type": "error",
     "traceback": [
      "\u001b[0;31m---------------------------------------------------------------------------\u001b[0m",
      "\u001b[0;31mTypeError\u001b[0m                                 Traceback (most recent call last)",
      "\u001b[0;32m<ipython-input-30-f0421531a503>\u001b[0m in \u001b[0;36m<module>\u001b[0;34m()\u001b[0m\n\u001b[1;32m      1\u001b[0m \u001b[0;32mfor\u001b[0m \u001b[0mname\u001b[0m\u001b[0;34m,\u001b[0m \u001b[0mmodel\u001b[0m \u001b[0;32min\u001b[0m \u001b[0mmodels\u001b[0m\u001b[0;34m:\u001b[0m\u001b[0;34m\u001b[0m\u001b[0;34m\u001b[0m\u001b[0m\n\u001b[0;32m----> 2\u001b[0;31m   \u001b[0mcv_score\u001b[0m\u001b[0;34m,\u001b[0m \u001b[0moof_pred\u001b[0m \u001b[0;34m=\u001b[0m \u001b[0mget_oof\u001b[0m\u001b[0;34m(\u001b[0m\u001b[0mmodel\u001b[0m\u001b[0;34m,\u001b[0m \u001b[0mlabel\u001b[0m\u001b[0;34m,\u001b[0m \u001b[0mx_test\u001b[0m\u001b[0;34m)\u001b[0m\u001b[0;34m\u001b[0m\u001b[0;34m\u001b[0m\u001b[0m\n\u001b[0m\u001b[1;32m      3\u001b[0m   \u001b[0mprint\u001b[0m\u001b[0;34m(\u001b[0m\u001b[0mname\u001b[0m\u001b[0;34m,\u001b[0m \u001b[0;34m': {:.4f}'\u001b[0m\u001b[0;34m.\u001b[0m\u001b[0mformat\u001b[0m\u001b[0;34m(\u001b[0m\u001b[0mcv_score\u001b[0m\u001b[0;34m)\u001b[0m\u001b[0;34m)\u001b[0m\u001b[0;34m\u001b[0m\u001b[0;34m\u001b[0m\u001b[0m\n",
      "\u001b[0;31mTypeError\u001b[0m: get_oof() missing 1 required positional argument: 'x_test'"
     ]
    }
   ],
   "source": [
    "for name, model in models:\n",
    "  cv_score, oof_pred = get_oof(model, data, label, x_test)\n",
    "  print(name, ': {:.4f}'.format(cv_score))"
   ]
  },
  {
   "cell_type": "code",
   "execution_count": null,
   "id": "fuuti3aPfTIm",
   "metadata": {
    "id": "fuuti3aPfTIm"
   },
   "outputs": [],
   "source": [
    "val_score, oof_pred = get_oof(lgb, data, label, x_test)\n",
    "oof_pred"
   ]
  },
  {
   "cell_type": "markdown",
   "id": "iJtl1-LOfbj3",
   "metadata": {
    "id": "iJtl1-LOfbj3"
   },
   "source": [
    "다시 lgb를 모델 자리에 넣고 리턴되는 oof_pred array값을 받아내서 submission 파일 값에 대체"
   ]
  },
  {
   "cell_type": "markdown",
   "id": "41a6ae93",
   "metadata": {
    "id": "41a6ae93"
   },
   "source": [
    "#### + Two Stage Ensemble : Stacking"
   ]
  },
  {
   "cell_type": "code",
   "execution_count": 14,
   "id": "1d89f764",
   "metadata": {},
   "outputs": [],
   "source": [
    "from sklearn.impute import SimpleImputer\n",
    "from sklearn.preprocessing import RobustScaler\n",
    "\n",
    "def preprocess(x_train, x_valid, x_test):\n",
    "    tmp_x_train = x_train.copy()\n",
    "    tmp_x_valid = x_valid.copy()\n",
    "    tmp_x_test  = x_test.copy()\n",
    "    \n",
    "    tmp_x_train.reset_index(drop=True, inplace=True)\n",
    "    tmp_x_valid.reset_index(drop=True, inplace=True)\n",
    "    \n",
    "    # 결측치 처리\n",
    "    imputer = SimpleImputer(strategy='most_frequent')\n",
    "    tmp_x_train[num_columns] = imputer.fit_transform(tmp_x_train[num_columns])\n",
    "    tmp_x_valid[num_columns] = imputer.transform(tmp_x_valid[num_columns])\n",
    "    tmp_x_test[num_columns]  = imputer.transform(tmp_x_test[num_columns])\n",
    "    \n",
    "    # 스케일링\n",
    "    scaler = RobustScaler()\n",
    "    tmp_x_train[num_columns] = scaler.fit_transform(tmp_x_train[num_columns])\n",
    "    tmp_x_valid[num_columns] = scaler.transform(tmp_x_valid[num_columns])\n",
    "    tmp_x_test[num_columns]  = scaler.transform(tmp_x_test[num_columns])\n",
    "    \n",
    "    return tmp_x_train, tmp_x_valid, tmp_x_test"
   ]
  },
  {
   "cell_type": "code",
   "execution_count": 20,
   "id": "7a58bb18",
   "metadata": {
    "id": "7a58bb18"
   },
   "outputs": [
    {
     "name": "stderr",
     "output_type": "stream",
     "text": [
      "C:\\Users\\TFG5076XG\\anaconda3\\lib\\site-packages\\xgboost\\sklearn.py:1224: UserWarning: The use of label encoder in XGBClassifier is deprecated and will be removed in a future release. To remove this warning, do the following: 1) Pass option use_label_encoder=False when constructing XGBClassifier object; and 2) Encode your labels (y) as integers starting with 0, i.e. 0, 1, 2, ..., [num_class - 1].\n",
      "  warnings.warn(label_encoder_deprecation_msg, UserWarning)\n"
     ]
    },
    {
     "name": "stdout",
     "output_type": "stream",
     "text": [
      "0 Fold, ...\n"
     ]
    },
    {
     "name": "stderr",
     "output_type": "stream",
     "text": [
      "C:\\Users\\TFG5076XG\\anaconda3\\lib\\site-packages\\xgboost\\sklearn.py:1224: UserWarning: The use of label encoder in XGBClassifier is deprecated and will be removed in a future release. To remove this warning, do the following: 1) Pass option use_label_encoder=False when constructing XGBClassifier object; and 2) Encode your labels (y) as integers starting with 0, i.e. 0, 1, 2, ..., [num_class - 1].\n",
      "  warnings.warn(label_encoder_deprecation_msg, UserWarning)\n"
     ]
    },
    {
     "name": "stdout",
     "output_type": "stream",
     "text": [
      "1 Fold, ...\n"
     ]
    },
    {
     "name": "stderr",
     "output_type": "stream",
     "text": [
      "C:\\Users\\TFG5076XG\\anaconda3\\lib\\site-packages\\xgboost\\sklearn.py:1224: UserWarning: The use of label encoder in XGBClassifier is deprecated and will be removed in a future release. To remove this warning, do the following: 1) Pass option use_label_encoder=False when constructing XGBClassifier object; and 2) Encode your labels (y) as integers starting with 0, i.e. 0, 1, 2, ..., [num_class - 1].\n",
      "  warnings.warn(label_encoder_deprecation_msg, UserWarning)\n"
     ]
    },
    {
     "name": "stdout",
     "output_type": "stream",
     "text": [
      "2 Fold, ...\n"
     ]
    },
    {
     "name": "stderr",
     "output_type": "stream",
     "text": [
      "C:\\Users\\TFG5076XG\\anaconda3\\lib\\site-packages\\xgboost\\sklearn.py:1224: UserWarning: The use of label encoder in XGBClassifier is deprecated and will be removed in a future release. To remove this warning, do the following: 1) Pass option use_label_encoder=False when constructing XGBClassifier object; and 2) Encode your labels (y) as integers starting with 0, i.e. 0, 1, 2, ..., [num_class - 1].\n",
      "  warnings.warn(label_encoder_deprecation_msg, UserWarning)\n"
     ]
    },
    {
     "name": "stdout",
     "output_type": "stream",
     "text": [
      "3 Fold, ...\n"
     ]
    },
    {
     "name": "stderr",
     "output_type": "stream",
     "text": [
      "C:\\Users\\TFG5076XG\\anaconda3\\lib\\site-packages\\xgboost\\sklearn.py:1224: UserWarning: The use of label encoder in XGBClassifier is deprecated and will be removed in a future release. To remove this warning, do the following: 1) Pass option use_label_encoder=False when constructing XGBClassifier object; and 2) Encode your labels (y) as integers starting with 0, i.e. 0, 1, 2, ..., [num_class - 1].\n",
      "  warnings.warn(label_encoder_deprecation_msg, UserWarning)\n"
     ]
    },
    {
     "name": "stdout",
     "output_type": "stream",
     "text": [
      "4 Fold, ...\n"
     ]
    }
   ],
   "source": [
    "from sklearn.model_selection import StratifiedKFold\n",
    "from sklearn.ensemble import RandomForestClassifier\n",
    "from xgboost import XGBClassifier\n",
    "from lightgbm import LGBMClassifier\n",
    "\n",
    "val_scores = list()\n",
    "# 결과 값들을 stacking 해야하기 때문에, (모델 개수, 샘플의 수, 3) 라는 차원으로 구성됩니다.\n",
    "oof_train = np.zeros((6, data.shape[0], 4)) #3:클래스 개수\n",
    "oof_pred  = np.zeros((6, x_test.shape[0], 4))\n",
    "\n",
    "n_splits=5\n",
    "skf = StratifiedKFold(n_splits=n_splits, shuffle=True, random_state=42)\n",
    "\n",
    "for i, (trn_idx, val_idx) in enumerate(skf.split(data, label)):\n",
    "    x_train, y_train = data.iloc[trn_idx, :], label.iloc[trn_idx,]\n",
    "    x_valid, y_valid = data.iloc[val_idx, :], label.iloc[val_idx,]\n",
    "    \n",
    "    # 전처리\n",
    "    x_train, x_valid, x_test = preprocess(x_train, x_valid, x_test)\n",
    "    \n",
    "    # 모델 정의\n",
    "    models = [RandomForestClassifier(n_estimators=20, max_depth=10, random_state=42),\n",
    "              RandomForestClassifier(n_estimators=15, max_depth=15, random_state=42),\n",
    "              XGBClassifier(n_estimators=20, max_depth=10, random_state=42, eval_metric='mlogloss'),\n",
    "              XGBClassifier(n_estimators=15, max_depth=15, random_state=42, eval_metric='mlogloss'),\n",
    "              LGBMClassifier(n_estimators=20, max_depth=10, random_state=42),\n",
    "              LGBMClassifier(n_estimators=15, max_depth=15, random_state=42)]\n",
    "            \n",
    "    for j, model in enumerate(models):\n",
    "        # 모델 학습\n",
    "        model.fit(x_train, y_train)\n",
    "\n",
    "        # j번째 칸에 맞는 결과 담기.\n",
    "        oof_train[j, val_idx,] += model.predict_proba(x_valid)\n",
    "        oof_pred[j, :, ]        += model.predict_proba(x_test) / n_splits\n",
    "    \n",
    "    print(f'{i} Fold, ...')\n",
    "    # overfitting 여부 제일 주의"
   ]
  },
  {
   "cell_type": "code",
   "execution_count": 21,
   "id": "5bce4463",
   "metadata": {
    "id": "5bce4463"
   },
   "outputs": [
    {
     "data": {
      "text/plain": [
       "(4, 826224, 6)"
      ]
     },
     "execution_count": 21,
     "metadata": {},
     "output_type": "execute_result"
    }
   ],
   "source": [
    "oof_train.T.shape"
   ]
  },
  {
   "cell_type": "code",
   "execution_count": 22,
   "id": "19953798",
   "metadata": {},
   "outputs": [
    {
     "data": {
      "text/plain": [
       "(826224, 24)"
      ]
     },
     "execution_count": 22,
     "metadata": {},
     "output_type": "execute_result"
    }
   ],
   "source": [
    "np.concatenate(oof_train, axis=1).shape"
   ]
  },
  {
   "cell_type": "code",
   "execution_count": 23,
   "id": "3b2b6d99",
   "metadata": {},
   "outputs": [],
   "source": [
    "# 모은 train, test의 예측 값을 new_x_train, new_x_test로 사용합니다.\n",
    "new_train = pd.DataFrame(np.concatenate(oof_train, axis = 1))\n",
    "new_test  = pd.DataFrame(np.concatenate(oof_pred, axis = 1))"
   ]
  },
  {
   "cell_type": "code",
   "execution_count": 24,
   "id": "daab99ba",
   "metadata": {},
   "outputs": [
    {
     "data": {
      "text/plain": [
       "((826224, 24), (550816, 24))"
      ]
     },
     "execution_count": 24,
     "metadata": {},
     "output_type": "execute_result"
    }
   ],
   "source": [
    "new_train.shape, new_test.shape"
   ]
  },
  {
   "cell_type": "code",
   "execution_count": 29,
   "id": "843376d0",
   "metadata": {},
   "outputs": [
    {
     "name": "stderr",
     "output_type": "stream",
     "text": [
      "C:\\Users\\TFG5076XG\\anaconda3\\lib\\site-packages\\xgboost\\sklearn.py:1224: UserWarning: The use of label encoder in XGBClassifier is deprecated and will be removed in a future release. To remove this warning, do the following: 1) Pass option use_label_encoder=False when constructing XGBClassifier object; and 2) Encode your labels (y) as integers starting with 0, i.e. 0, 1, 2, ..., [num_class - 1].\n",
      "  warnings.warn(label_encoder_deprecation_msg, UserWarning)\n"
     ]
    },
    {
     "name": "stdout",
     "output_type": "stream",
     "text": [
      "[10:35:15] WARNING: C:/Users/Administrator/workspace/xgboost-win64_release_1.5.1/src/learner.cc:576: \n",
      "Parameters: { \"val_metric\" } might not be used.\n",
      "\n",
      "  This could be a false alarm, with some parameters getting used by language bindings but\n",
      "  then being mistakenly passed down to XGBoost core, or some parameter actually being used\n",
      "  but getting flagged wrongly here. Please open an issue if you find any such cases.\n",
      "\n",
      "\n",
      "[10:35:17] WARNING: C:/Users/Administrator/workspace/xgboost-win64_release_1.5.1/src/learner.cc:1115: Starting in XGBoost 1.3.0, the default evaluation metric used with the objective 'multi:softprob' was changed from 'merror' to 'mlogloss'. Explicitly set eval_metric if you'd like to restore the old behavior.\n",
      "0 Fold, train logloss : 0.13274, validation logloss : 0.1514\n"
     ]
    },
    {
     "name": "stderr",
     "output_type": "stream",
     "text": [
      "C:\\Users\\TFG5076XG\\anaconda3\\lib\\site-packages\\xgboost\\sklearn.py:1224: UserWarning: The use of label encoder in XGBClassifier is deprecated and will be removed in a future release. To remove this warning, do the following: 1) Pass option use_label_encoder=False when constructing XGBClassifier object; and 2) Encode your labels (y) as integers starting with 0, i.e. 0, 1, 2, ..., [num_class - 1].\n",
      "  warnings.warn(label_encoder_deprecation_msg, UserWarning)\n"
     ]
    },
    {
     "name": "stdout",
     "output_type": "stream",
     "text": [
      "[10:37:24] WARNING: C:/Users/Administrator/workspace/xgboost-win64_release_1.5.1/src/learner.cc:576: \n",
      "Parameters: { \"val_metric\" } might not be used.\n",
      "\n",
      "  This could be a false alarm, with some parameters getting used by language bindings but\n",
      "  then being mistakenly passed down to XGBoost core, or some parameter actually being used\n",
      "  but getting flagged wrongly here. Please open an issue if you find any such cases.\n",
      "\n",
      "\n",
      "[10:37:25] WARNING: C:/Users/Administrator/workspace/xgboost-win64_release_1.5.1/src/learner.cc:1115: Starting in XGBoost 1.3.0, the default evaluation metric used with the objective 'multi:softprob' was changed from 'merror' to 'mlogloss'. Explicitly set eval_metric if you'd like to restore the old behavior.\n",
      "1 Fold, train logloss : 0.13304, validation logloss : 0.1506\n"
     ]
    },
    {
     "name": "stderr",
     "output_type": "stream",
     "text": [
      "C:\\Users\\TFG5076XG\\anaconda3\\lib\\site-packages\\xgboost\\sklearn.py:1224: UserWarning: The use of label encoder in XGBClassifier is deprecated and will be removed in a future release. To remove this warning, do the following: 1) Pass option use_label_encoder=False when constructing XGBClassifier object; and 2) Encode your labels (y) as integers starting with 0, i.e. 0, 1, 2, ..., [num_class - 1].\n",
      "  warnings.warn(label_encoder_deprecation_msg, UserWarning)\n"
     ]
    },
    {
     "name": "stdout",
     "output_type": "stream",
     "text": [
      "[10:39:33] WARNING: C:/Users/Administrator/workspace/xgboost-win64_release_1.5.1/src/learner.cc:576: \n",
      "Parameters: { \"val_metric\" } might not be used.\n",
      "\n",
      "  This could be a false alarm, with some parameters getting used by language bindings but\n",
      "  then being mistakenly passed down to XGBoost core, or some parameter actually being used\n",
      "  but getting flagged wrongly here. Please open an issue if you find any such cases.\n",
      "\n",
      "\n",
      "[10:39:34] WARNING: C:/Users/Administrator/workspace/xgboost-win64_release_1.5.1/src/learner.cc:1115: Starting in XGBoost 1.3.0, the default evaluation metric used with the objective 'multi:softprob' was changed from 'merror' to 'mlogloss'. Explicitly set eval_metric if you'd like to restore the old behavior.\n",
      "2 Fold, train logloss : 0.13354, validation logloss : 0.1503\n"
     ]
    },
    {
     "name": "stderr",
     "output_type": "stream",
     "text": [
      "C:\\Users\\TFG5076XG\\anaconda3\\lib\\site-packages\\xgboost\\sklearn.py:1224: UserWarning: The use of label encoder in XGBClassifier is deprecated and will be removed in a future release. To remove this warning, do the following: 1) Pass option use_label_encoder=False when constructing XGBClassifier object; and 2) Encode your labels (y) as integers starting with 0, i.e. 0, 1, 2, ..., [num_class - 1].\n",
      "  warnings.warn(label_encoder_deprecation_msg, UserWarning)\n"
     ]
    },
    {
     "name": "stdout",
     "output_type": "stream",
     "text": [
      "[10:41:42] WARNING: C:/Users/Administrator/workspace/xgboost-win64_release_1.5.1/src/learner.cc:576: \n",
      "Parameters: { \"val_metric\" } might not be used.\n",
      "\n",
      "  This could be a false alarm, with some parameters getting used by language bindings but\n",
      "  then being mistakenly passed down to XGBoost core, or some parameter actually being used\n",
      "  but getting flagged wrongly here. Please open an issue if you find any such cases.\n",
      "\n",
      "\n",
      "[10:41:43] WARNING: C:/Users/Administrator/workspace/xgboost-win64_release_1.5.1/src/learner.cc:1115: Starting in XGBoost 1.3.0, the default evaluation metric used with the objective 'multi:softprob' was changed from 'merror' to 'mlogloss'. Explicitly set eval_metric if you'd like to restore the old behavior.\n",
      "3 Fold, train logloss : 0.13384, validation logloss : 0.1497\n"
     ]
    },
    {
     "name": "stderr",
     "output_type": "stream",
     "text": [
      "C:\\Users\\TFG5076XG\\anaconda3\\lib\\site-packages\\xgboost\\sklearn.py:1224: UserWarning: The use of label encoder in XGBClassifier is deprecated and will be removed in a future release. To remove this warning, do the following: 1) Pass option use_label_encoder=False when constructing XGBClassifier object; and 2) Encode your labels (y) as integers starting with 0, i.e. 0, 1, 2, ..., [num_class - 1].\n",
      "  warnings.warn(label_encoder_deprecation_msg, UserWarning)\n"
     ]
    },
    {
     "name": "stdout",
     "output_type": "stream",
     "text": [
      "[10:43:52] WARNING: C:/Users/Administrator/workspace/xgboost-win64_release_1.5.1/src/learner.cc:576: \n",
      "Parameters: { \"val_metric\" } might not be used.\n",
      "\n",
      "  This could be a false alarm, with some parameters getting used by language bindings but\n",
      "  then being mistakenly passed down to XGBoost core, or some parameter actually being used\n",
      "  but getting flagged wrongly here. Please open an issue if you find any such cases.\n",
      "\n",
      "\n",
      "[10:43:53] WARNING: C:/Users/Administrator/workspace/xgboost-win64_release_1.5.1/src/learner.cc:1115: Starting in XGBoost 1.3.0, the default evaluation metric used with the objective 'multi:softprob' was changed from 'merror' to 'mlogloss'. Explicitly set eval_metric if you'd like to restore the old behavior.\n",
      "4 Fold, train logloss : 0.13324, validation logloss : 0.1490\n",
      "Cross Validation Score : 0.15020\n"
     ]
    }
   ],
   "source": [
    "from sklearn.preprocessing import RobustScaler\n",
    "\n",
    "val_scores = list()\n",
    "oof_pred  = np.zeros((x_test.shape[0], 4))\n",
    "\n",
    "for i, (trn_idx, val_idx) in enumerate(skf.split(new_train, label)):\n",
    "    x_train, y_train = new_train.iloc[trn_idx, :], label[trn_idx]\n",
    "    x_valid, y_valid = new_train.iloc[val_idx, :], label[val_idx]\n",
    "    \n",
    "    scaler = RobustScaler()\n",
    "    scaler.fit(x_train)\n",
    "    x_train     = scaler.transform(x_train)\n",
    "    x_valid     = scaler.transform(x_valid)\n",
    "    new_x_test  = scaler.transform(new_test)\n",
    "\n",
    "    # 모델 정의\n",
    "    model = XGBClassifier(random_state=1994, val_metric='mlogloss')\n",
    "    \n",
    "    # 모델 학습\n",
    "    model.fit(x_train, y_train)\n",
    "\n",
    "    # 훈련, 검증 데이터 log_loss 확인\n",
    "    trn_logloss = log_loss(y_train, model.predict_proba(x_train))\n",
    "    val_logloss = log_loss(y_valid, model.predict_proba(x_valid))\n",
    "    print('{} Fold, train logloss : {:.4f}4, validation logloss : {:.4f}'.format(i, trn_logloss, val_logloss))\n",
    "    \n",
    "    val_scores.append(val_logloss)\n",
    "    \n",
    "    oof_pred += model.predict_proba(new_x_test) / n_splits\n",
    "    \n",
    "\n",
    "# 교차 검증 log loss 평균 계산하기\n",
    "print('Cross Validation Score : {:.5f}'.format(np.mean(val_scores)))"
   ]
  },
  {
   "cell_type": "code",
   "execution_count": 30,
   "id": "d740d58f",
   "metadata": {},
   "outputs": [
    {
     "data": {
      "text/plain": [
       "(550816, 4)"
      ]
     },
     "execution_count": 30,
     "metadata": {},
     "output_type": "execute_result"
    }
   ],
   "source": [
    "oof_pred.shape"
   ]
  },
  {
   "cell_type": "code",
   "execution_count": null,
   "id": "2f6e13f2",
   "metadata": {},
   "outputs": [],
   "source": [
    "submit.iloc[:, 1:] = oof_pred\n",
    "submit"
   ]
  },
  {
   "cell_type": "code",
   "execution_count": null,
   "id": "a4ca3dc0",
   "metadata": {},
   "outputs": [],
   "source": [
    "submit.to_csv('stacking_first_submit.csv', index=False)"
   ]
  }
 ],
 "metadata": {
  "colab": {
   "collapsed_sections": [
    "0a05a964"
   ],
   "name": "kagglecamp_ash.ipynb",
   "provenance": []
  },
  "kernelspec": {
   "display_name": "Python 3",
   "language": "python",
   "name": "python3"
  },
  "language_info": {
   "codemirror_mode": {
    "name": "ipython",
    "version": 3
   },
   "file_extension": ".py",
   "mimetype": "text/x-python",
   "name": "python",
   "nbconvert_exporter": "python",
   "pygments_lexer": "ipython3",
   "version": "3.8.8"
  }
 },
 "nbformat": 4,
 "nbformat_minor": 5
}
